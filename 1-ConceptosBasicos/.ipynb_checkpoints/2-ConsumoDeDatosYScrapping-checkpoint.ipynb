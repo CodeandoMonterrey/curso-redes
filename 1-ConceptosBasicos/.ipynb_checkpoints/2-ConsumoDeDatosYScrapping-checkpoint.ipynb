{
 "cells": [
  {
   "cell_type": "markdown",
   "metadata": {},
   "source": [
    "# Consumo de Información Usando Python"
   ]
  },
  {
   "cell_type": "markdown",
   "metadata": {},
   "source": [
    "Cuando obtenemos información de Internet, tenemos dos opciones: El consumo de servicios de Internet, como APIs (Como las que usaremos para Facebook, Twitter); Pero también, cuando no hay datos para nuestro consumo, podemos siempre extraer los datos de manera programática."
   ]
  },
  {
   "cell_type": "markdown",
   "metadata": {},
   "source": [
    "## Sacando los datos a la buena, Requests"
   ]
  },
  {
   "cell_type": "code",
   "execution_count": 1,
   "metadata": {
    "collapsed": true
   },
   "outputs": [],
   "source": [
    "import requests"
   ]
  },
  {
   "cell_type": "code",
   "execution_count": 12,
   "metadata": {
    "collapsed": true
   },
   "outputs": [],
   "source": [
    "url = \"http://maps.googleapis.com/maps/api/geocode/json?latlng=35.1330343,-90.0625056\"\n",
    "response = requests.get(url)"
   ]
  },
  {
   "cell_type": "code",
   "execution_count": 13,
   "metadata": {},
   "outputs": [
    {
     "data": {
      "text/plain": [
       "{'results': [{'address_components': [{'long_name': '516',\n",
       "     'short_name': '516',\n",
       "     'types': ['street_number']},\n",
       "    {'long_name': 'Tennessee Street',\n",
       "     'short_name': 'Tennessee St',\n",
       "     'types': ['route']},\n",
       "    {'long_name': 'Downtown',\n",
       "     'short_name': 'Downtown',\n",
       "     'types': ['neighborhood', 'political']},\n",
       "    {'long_name': 'Memphis',\n",
       "     'short_name': 'Memphis',\n",
       "     'types': ['locality', 'political']},\n",
       "    {'long_name': 'Shelby County',\n",
       "     'short_name': 'Shelby County',\n",
       "     'types': ['administrative_area_level_2', 'political']},\n",
       "    {'long_name': 'Tennessee',\n",
       "     'short_name': 'TN',\n",
       "     'types': ['administrative_area_level_1', 'political']},\n",
       "    {'long_name': 'United States',\n",
       "     'short_name': 'US',\n",
       "     'types': ['country', 'political']},\n",
       "    {'long_name': '38103', 'short_name': '38103', 'types': ['postal_code']},\n",
       "    {'long_name': '4717',\n",
       "     'short_name': '4717',\n",
       "     'types': ['postal_code_suffix']}],\n",
       "   'formatted_address': '516 Tennessee St, Memphis, TN 38103, USA',\n",
       "   'geometry': {'bounds': {'northeast': {'lat': 35.1333575,\n",
       "      'lng': -90.06213609999999},\n",
       "     'southwest': {'lat': 35.1329831, 'lng': -90.0625226}},\n",
       "    'location': {'lat': 35.1331703, 'lng': -90.0623293},\n",
       "    'location_type': 'ROOFTOP',\n",
       "    'viewport': {'northeast': {'lat': 35.1345192802915,\n",
       "      'lng': -90.06098036970847},\n",
       "     'southwest': {'lat': 35.1318213197085, 'lng': -90.0636783302915}}},\n",
       "   'place_id': 'ChIJF0_vOqR-1YcRz4N7fiQS8B8',\n",
       "   'types': ['premise']},\n",
       "  {'address_components': [{'long_name': '22',\n",
       "     'short_name': '22',\n",
       "     'types': ['street_number']},\n",
       "    {'long_name': 'West GE Patterson Avenue',\n",
       "     'short_name': 'West GE Patterson Avenue',\n",
       "     'types': ['route']},\n",
       "    {'long_name': 'Downtown',\n",
       "     'short_name': 'Downtown',\n",
       "     'types': ['neighborhood', 'political']},\n",
       "    {'long_name': 'Memphis',\n",
       "     'short_name': 'Memphis',\n",
       "     'types': ['locality', 'political']},\n",
       "    {'long_name': 'Shelby County',\n",
       "     'short_name': 'Shelby County',\n",
       "     'types': ['administrative_area_level_2', 'political']},\n",
       "    {'long_name': 'Tennessee',\n",
       "     'short_name': 'TN',\n",
       "     'types': ['administrative_area_level_1', 'political']},\n",
       "    {'long_name': 'United States',\n",
       "     'short_name': 'US',\n",
       "     'types': ['country', 'political']},\n",
       "    {'long_name': '38103', 'short_name': '38103', 'types': ['postal_code']}],\n",
       "   'formatted_address': '22 West GE Patterson Avenue, Memphis, TN 38103, USA',\n",
       "   'geometry': {'location': {'lat': 35.1329904, 'lng': -90.0623179},\n",
       "    'location_type': 'ROOFTOP',\n",
       "    'viewport': {'northeast': {'lat': 35.1343393802915,\n",
       "      'lng': -90.0609689197085},\n",
       "     'southwest': {'lat': 35.1316414197085, 'lng': -90.0636668802915}}},\n",
       "   'place_id': 'ChIJk5Y7JaR-1YcRFmRUA67YaGw',\n",
       "   'types': ['street_address']},\n",
       "  {'address_components': [{'long_name': 'Downtown',\n",
       "     'short_name': 'Downtown',\n",
       "     'types': ['neighborhood', 'political']},\n",
       "    {'long_name': 'Memphis',\n",
       "     'short_name': 'Memphis',\n",
       "     'types': ['locality', 'political']},\n",
       "    {'long_name': 'Mississippi Township',\n",
       "     'short_name': 'Mississippi Township',\n",
       "     'types': ['administrative_area_level_3', 'political']},\n",
       "    {'long_name': 'Shelby County',\n",
       "     'short_name': 'Shelby County',\n",
       "     'types': ['administrative_area_level_2', 'political']},\n",
       "    {'long_name': 'Tennessee',\n",
       "     'short_name': 'TN',\n",
       "     'types': ['administrative_area_level_1', 'political']},\n",
       "    {'long_name': 'United States',\n",
       "     'short_name': 'US',\n",
       "     'types': ['country', 'political']}],\n",
       "   'formatted_address': 'Downtown, Memphis, TN, USA',\n",
       "   'geometry': {'bounds': {'northeast': {'lat': 35.1529861,\n",
       "      'lng': -90.04100559999999},\n",
       "     'southwest': {'lat': 35.1290698, 'lng': -90.0705957}},\n",
       "    'location': {'lat': 35.1406175, 'lng': -90.0536592},\n",
       "    'location_type': 'APPROXIMATE',\n",
       "    'viewport': {'northeast': {'lat': 35.1529861, 'lng': -90.04100559999999},\n",
       "     'southwest': {'lat': 35.1290698, 'lng': -90.0705957}}},\n",
       "   'place_id': 'ChIJQ9TFoJd-1YcRVlvXFHPytww',\n",
       "   'types': ['neighborhood', 'political']},\n",
       "  {'address_components': [{'long_name': 'Memphis',\n",
       "     'short_name': 'Memphis',\n",
       "     'types': ['locality', 'political']},\n",
       "    {'long_name': 'Shelby County',\n",
       "     'short_name': 'Shelby County',\n",
       "     'types': ['administrative_area_level_2', 'political']},\n",
       "    {'long_name': 'Tennessee',\n",
       "     'short_name': 'TN',\n",
       "     'types': ['administrative_area_level_1', 'political']},\n",
       "    {'long_name': 'United States',\n",
       "     'short_name': 'US',\n",
       "     'types': ['country', 'political']}],\n",
       "   'formatted_address': 'Memphis, TN, USA',\n",
       "   'geometry': {'bounds': {'northeast': {'lat': 35.264187, 'lng': -89.637081},\n",
       "     'southwest': {'lat': 34.994185, 'lng': -90.3044929}},\n",
       "    'location': {'lat': 35.1495343, 'lng': -90.0489801},\n",
       "    'location_type': 'APPROXIMATE',\n",
       "    'viewport': {'northeast': {'lat': 35.264187, 'lng': -89.637081},\n",
       "     'southwest': {'lat': 34.994185, 'lng': -90.3044929}}},\n",
       "   'place_id': 'ChIJRZdD6h5-1YcR_rYaYBXzk9E',\n",
       "   'types': ['locality', 'political']},\n",
       "  {'address_components': [{'long_name': '38103',\n",
       "     'short_name': '38103',\n",
       "     'types': ['postal_code']},\n",
       "    {'long_name': 'Memphis',\n",
       "     'short_name': 'Memphis',\n",
       "     'types': ['locality', 'political']},\n",
       "    {'long_name': 'Shelby County',\n",
       "     'short_name': 'Shelby County',\n",
       "     'types': ['administrative_area_level_2', 'political']},\n",
       "    {'long_name': 'Tennessee',\n",
       "     'short_name': 'TN',\n",
       "     'types': ['administrative_area_level_1', 'political']},\n",
       "    {'long_name': 'United States',\n",
       "     'short_name': 'US',\n",
       "     'types': ['country', 'political']}],\n",
       "   'formatted_address': 'Memphis, TN 38103, USA',\n",
       "   'geometry': {'bounds': {'northeast': {'lat': 35.1852699,\n",
       "      'lng': -90.0276118},\n",
       "     'southwest': {'lat': 35.1247281, 'lng': -90.089134}},\n",
       "    'location': {'lat': 35.1543632, 'lng': -90.06066369999999},\n",
       "    'location_type': 'APPROXIMATE',\n",
       "    'viewport': {'northeast': {'lat': 35.1852699, 'lng': -90.0276118},\n",
       "     'southwest': {'lat': 35.1247281, 'lng': -90.089134}}},\n",
       "   'place_id': 'ChIJvWHMI-941YcRfbf4TbEf0z4',\n",
       "   'types': ['postal_code']},\n",
       "  {'address_components': [{'long_name': 'Shelby County',\n",
       "     'short_name': 'Shelby County',\n",
       "     'types': ['administrative_area_level_2', 'political']},\n",
       "    {'long_name': 'Tennessee',\n",
       "     'short_name': 'TN',\n",
       "     'types': ['administrative_area_level_1', 'political']},\n",
       "    {'long_name': 'United States',\n",
       "     'short_name': 'US',\n",
       "     'types': ['country', 'political']}],\n",
       "   'formatted_address': 'Shelby County, TN, USA',\n",
       "   'geometry': {'bounds': {'northeast': {'lat': 35.4094831, 'lng': -89.632779},\n",
       "     'southwest': {'lat': 34.994185, 'lng': -90.3102978}},\n",
       "    'location': {'lat': 35.1268552, 'lng': -89.9253233},\n",
       "    'location_type': 'APPROXIMATE',\n",
       "    'viewport': {'northeast': {'lat': 35.4094831, 'lng': -89.632779},\n",
       "     'southwest': {'lat': 34.994185, 'lng': -90.3102978}}},\n",
       "   'place_id': 'ChIJxTozQx5-1YcRllAW6iCNC4U',\n",
       "   'types': ['administrative_area_level_2', 'political']},\n",
       "  {'address_components': [{'long_name': 'Memphis, TN-MS-AR',\n",
       "     'short_name': 'Memphis, TN-MS-AR',\n",
       "     'types': ['political']},\n",
       "    {'long_name': 'United States',\n",
       "     'short_name': 'US',\n",
       "     'types': ['country', 'political']}],\n",
       "   'formatted_address': 'Memphis, TN-MS-AR, USA',\n",
       "   'geometry': {'bounds': {'northeast': {'lat': 35.652425, 'lng': -89.183944},\n",
       "     'southwest': {'lat': 34.423807, 'lng': -90.5885361}},\n",
       "    'location': {'lat': 35.0387247, 'lng': -89.8505012},\n",
       "    'location_type': 'APPROXIMATE',\n",
       "    'viewport': {'northeast': {'lat': 35.652425, 'lng': -89.183944},\n",
       "     'southwest': {'lat': 34.423807, 'lng': -90.5885361}}},\n",
       "   'place_id': 'ChIJv5RHP5OPf4gRCSZl66UAoYw',\n",
       "   'types': ['political']},\n",
       "  {'address_components': [{'long_name': 'Tennessee',\n",
       "     'short_name': 'TN',\n",
       "     'types': ['administrative_area_level_1',\n",
       "      'establishment',\n",
       "      'point_of_interest',\n",
       "      'political']},\n",
       "    {'long_name': 'United States',\n",
       "     'short_name': 'US',\n",
       "     'types': ['country', 'political']}],\n",
       "   'formatted_address': 'Tennessee, USA',\n",
       "   'geometry': {'bounds': {'northeast': {'lat': 36.678118, 'lng': -81.6469},\n",
       "     'southwest': {'lat': 34.9829239, 'lng': -90.3102978}},\n",
       "    'location': {'lat': 35.5174913, 'lng': -86.5804473},\n",
       "    'location_type': 'APPROXIMATE',\n",
       "    'viewport': {'northeast': {'lat': 36.678118, 'lng': -81.6469},\n",
       "     'southwest': {'lat': 34.9829239, 'lng': -90.3102978}}},\n",
       "   'place_id': 'ChIJA8-XniNLYYgRVpGBpcEgPgM',\n",
       "   'types': ['administrative_area_level_1',\n",
       "    'establishment',\n",
       "    'point_of_interest',\n",
       "    'political']},\n",
       "  {'address_components': [{'long_name': 'United States',\n",
       "     'short_name': 'US',\n",
       "     'types': ['country', 'political']}],\n",
       "   'formatted_address': 'United States',\n",
       "   'geometry': {'bounds': {'northeast': {'lat': 71.5388001, 'lng': -66.885417},\n",
       "     'southwest': {'lat': 18.7763, 'lng': 170.5957}},\n",
       "    'location': {'lat': 37.09024, 'lng': -95.712891},\n",
       "    'location_type': 'APPROXIMATE',\n",
       "    'viewport': {'northeast': {'lat': 49.38, 'lng': -66.94},\n",
       "     'southwest': {'lat': 25.82, 'lng': -124.39}}},\n",
       "   'place_id': 'ChIJCzYy5IS16lQRQrfeQ5K5Oxw',\n",
       "   'types': ['country', 'political']}],\n",
       " 'status': 'OK'}"
      ]
     },
     "execution_count": 13,
     "metadata": {},
     "output_type": "execute_result"
    }
   ],
   "source": [
    "response.json()"
   ]
  },
  {
   "cell_type": "markdown",
   "metadata": {},
   "source": [
    "Vámonos, esto es todo el taller (:"
   ]
  },
  {
   "cell_type": "markdown",
   "metadata": {},
   "source": [
    "No te creas, pero esto tiene ciertas complicaciones.\n",
    "Primero. el caso anterior tiene varios componentes:"
   ]
  },
  {
   "cell_type": "code",
   "execution_count": 18,
   "metadata": {
    "collapsed": true
   },
   "outputs": [],
   "source": [
    "base_url = \"http://maps.googleapis.com/maps/api/geocode/\"\n",
    "accion = \"json\"\n",
    "#Despues de la acción JSON, tenemos parámetros:\n",
    "params = {\n",
    "    \"latlng\":\"35.1330343,-90.0625056\"\n",
    "}\n",
    "params_as_string = \"?\"\n",
    "for param in params: params_as_string = param + \"=\"+params[param]"
   ]
  },
  {
   "cell_type": "code",
   "execution_count": 20,
   "metadata": {
    "collapsed": true
   },
   "outputs": [],
   "source": [
    "response = requests.get(base_url + accion+\"?\"+params_as_string)"
   ]
  },
  {
   "cell_type": "code",
   "execution_count": 21,
   "metadata": {},
   "outputs": [
    {
     "data": {
      "text/plain": [
       "{'results': [{'address_components': [{'long_name': '516',\n",
       "     'short_name': '516',\n",
       "     'types': ['street_number']},\n",
       "    {'long_name': 'Tennessee Street',\n",
       "     'short_name': 'Tennessee St',\n",
       "     'types': ['route']},\n",
       "    {'long_name': 'Downtown',\n",
       "     'short_name': 'Downtown',\n",
       "     'types': ['neighborhood', 'political']},\n",
       "    {'long_name': 'Memphis',\n",
       "     'short_name': 'Memphis',\n",
       "     'types': ['locality', 'political']},\n",
       "    {'long_name': 'Shelby County',\n",
       "     'short_name': 'Shelby County',\n",
       "     'types': ['administrative_area_level_2', 'political']},\n",
       "    {'long_name': 'Tennessee',\n",
       "     'short_name': 'TN',\n",
       "     'types': ['administrative_area_level_1', 'political']},\n",
       "    {'long_name': 'United States',\n",
       "     'short_name': 'US',\n",
       "     'types': ['country', 'political']},\n",
       "    {'long_name': '38103', 'short_name': '38103', 'types': ['postal_code']},\n",
       "    {'long_name': '4717',\n",
       "     'short_name': '4717',\n",
       "     'types': ['postal_code_suffix']}],\n",
       "   'formatted_address': '516 Tennessee St, Memphis, TN 38103, USA',\n",
       "   'geometry': {'bounds': {'northeast': {'lat': 35.1333575,\n",
       "      'lng': -90.06213609999999},\n",
       "     'southwest': {'lat': 35.1329831, 'lng': -90.0625226}},\n",
       "    'location': {'lat': 35.1331703, 'lng': -90.0623293},\n",
       "    'location_type': 'ROOFTOP',\n",
       "    'viewport': {'northeast': {'lat': 35.1345192802915,\n",
       "      'lng': -90.06098036970847},\n",
       "     'southwest': {'lat': 35.1318213197085, 'lng': -90.0636783302915}}},\n",
       "   'place_id': 'ChIJF0_vOqR-1YcRz4N7fiQS8B8',\n",
       "   'types': ['premise']},\n",
       "  {'address_components': [{'long_name': '22',\n",
       "     'short_name': '22',\n",
       "     'types': ['street_number']},\n",
       "    {'long_name': 'West GE Patterson Avenue',\n",
       "     'short_name': 'West GE Patterson Avenue',\n",
       "     'types': ['route']},\n",
       "    {'long_name': 'Downtown',\n",
       "     'short_name': 'Downtown',\n",
       "     'types': ['neighborhood', 'political']},\n",
       "    {'long_name': 'Memphis',\n",
       "     'short_name': 'Memphis',\n",
       "     'types': ['locality', 'political']},\n",
       "    {'long_name': 'Shelby County',\n",
       "     'short_name': 'Shelby County',\n",
       "     'types': ['administrative_area_level_2', 'political']},\n",
       "    {'long_name': 'Tennessee',\n",
       "     'short_name': 'TN',\n",
       "     'types': ['administrative_area_level_1', 'political']},\n",
       "    {'long_name': 'United States',\n",
       "     'short_name': 'US',\n",
       "     'types': ['country', 'political']},\n",
       "    {'long_name': '38103', 'short_name': '38103', 'types': ['postal_code']}],\n",
       "   'formatted_address': '22 West GE Patterson Avenue, Memphis, TN 38103, USA',\n",
       "   'geometry': {'location': {'lat': 35.1329904, 'lng': -90.0623179},\n",
       "    'location_type': 'ROOFTOP',\n",
       "    'viewport': {'northeast': {'lat': 35.1343393802915,\n",
       "      'lng': -90.0609689197085},\n",
       "     'southwest': {'lat': 35.1316414197085, 'lng': -90.0636668802915}}},\n",
       "   'place_id': 'ChIJk5Y7JaR-1YcRFmRUA67YaGw',\n",
       "   'types': ['street_address']},\n",
       "  {'address_components': [{'long_name': 'Downtown',\n",
       "     'short_name': 'Downtown',\n",
       "     'types': ['neighborhood', 'political']},\n",
       "    {'long_name': 'Memphis',\n",
       "     'short_name': 'Memphis',\n",
       "     'types': ['locality', 'political']},\n",
       "    {'long_name': 'Mississippi Township',\n",
       "     'short_name': 'Mississippi Township',\n",
       "     'types': ['administrative_area_level_3', 'political']},\n",
       "    {'long_name': 'Shelby County',\n",
       "     'short_name': 'Shelby County',\n",
       "     'types': ['administrative_area_level_2', 'political']},\n",
       "    {'long_name': 'Tennessee',\n",
       "     'short_name': 'TN',\n",
       "     'types': ['administrative_area_level_1', 'political']},\n",
       "    {'long_name': 'United States',\n",
       "     'short_name': 'US',\n",
       "     'types': ['country', 'political']}],\n",
       "   'formatted_address': 'Downtown, Memphis, TN, USA',\n",
       "   'geometry': {'bounds': {'northeast': {'lat': 35.1529861,\n",
       "      'lng': -90.04100559999999},\n",
       "     'southwest': {'lat': 35.1290698, 'lng': -90.0705957}},\n",
       "    'location': {'lat': 35.1406175, 'lng': -90.0536592},\n",
       "    'location_type': 'APPROXIMATE',\n",
       "    'viewport': {'northeast': {'lat': 35.1529861, 'lng': -90.04100559999999},\n",
       "     'southwest': {'lat': 35.1290698, 'lng': -90.0705957}}},\n",
       "   'place_id': 'ChIJQ9TFoJd-1YcRVlvXFHPytww',\n",
       "   'types': ['neighborhood', 'political']},\n",
       "  {'address_components': [{'long_name': 'Memphis',\n",
       "     'short_name': 'Memphis',\n",
       "     'types': ['locality', 'political']},\n",
       "    {'long_name': 'Shelby County',\n",
       "     'short_name': 'Shelby County',\n",
       "     'types': ['administrative_area_level_2', 'political']},\n",
       "    {'long_name': 'Tennessee',\n",
       "     'short_name': 'TN',\n",
       "     'types': ['administrative_area_level_1', 'political']},\n",
       "    {'long_name': 'United States',\n",
       "     'short_name': 'US',\n",
       "     'types': ['country', 'political']}],\n",
       "   'formatted_address': 'Memphis, TN, USA',\n",
       "   'geometry': {'bounds': {'northeast': {'lat': 35.264187, 'lng': -89.637081},\n",
       "     'southwest': {'lat': 34.994185, 'lng': -90.3044929}},\n",
       "    'location': {'lat': 35.1495343, 'lng': -90.0489801},\n",
       "    'location_type': 'APPROXIMATE',\n",
       "    'viewport': {'northeast': {'lat': 35.264187, 'lng': -89.637081},\n",
       "     'southwest': {'lat': 34.994185, 'lng': -90.3044929}}},\n",
       "   'place_id': 'ChIJRZdD6h5-1YcR_rYaYBXzk9E',\n",
       "   'types': ['locality', 'political']},\n",
       "  {'address_components': [{'long_name': '38103',\n",
       "     'short_name': '38103',\n",
       "     'types': ['postal_code']},\n",
       "    {'long_name': 'Memphis',\n",
       "     'short_name': 'Memphis',\n",
       "     'types': ['locality', 'political']},\n",
       "    {'long_name': 'Shelby County',\n",
       "     'short_name': 'Shelby County',\n",
       "     'types': ['administrative_area_level_2', 'political']},\n",
       "    {'long_name': 'Tennessee',\n",
       "     'short_name': 'TN',\n",
       "     'types': ['administrative_area_level_1', 'political']},\n",
       "    {'long_name': 'United States',\n",
       "     'short_name': 'US',\n",
       "     'types': ['country', 'political']}],\n",
       "   'formatted_address': 'Memphis, TN 38103, USA',\n",
       "   'geometry': {'bounds': {'northeast': {'lat': 35.1852699,\n",
       "      'lng': -90.0276118},\n",
       "     'southwest': {'lat': 35.1247281, 'lng': -90.089134}},\n",
       "    'location': {'lat': 35.1543632, 'lng': -90.06066369999999},\n",
       "    'location_type': 'APPROXIMATE',\n",
       "    'viewport': {'northeast': {'lat': 35.1852699, 'lng': -90.0276118},\n",
       "     'southwest': {'lat': 35.1247281, 'lng': -90.089134}}},\n",
       "   'place_id': 'ChIJvWHMI-941YcRfbf4TbEf0z4',\n",
       "   'types': ['postal_code']},\n",
       "  {'address_components': [{'long_name': 'Shelby County',\n",
       "     'short_name': 'Shelby County',\n",
       "     'types': ['administrative_area_level_2', 'political']},\n",
       "    {'long_name': 'Tennessee',\n",
       "     'short_name': 'TN',\n",
       "     'types': ['administrative_area_level_1', 'political']},\n",
       "    {'long_name': 'United States',\n",
       "     'short_name': 'US',\n",
       "     'types': ['country', 'political']}],\n",
       "   'formatted_address': 'Shelby County, TN, USA',\n",
       "   'geometry': {'bounds': {'northeast': {'lat': 35.4094831, 'lng': -89.632779},\n",
       "     'southwest': {'lat': 34.994185, 'lng': -90.3102978}},\n",
       "    'location': {'lat': 35.1268552, 'lng': -89.9253233},\n",
       "    'location_type': 'APPROXIMATE',\n",
       "    'viewport': {'northeast': {'lat': 35.4094831, 'lng': -89.632779},\n",
       "     'southwest': {'lat': 34.994185, 'lng': -90.3102978}}},\n",
       "   'place_id': 'ChIJxTozQx5-1YcRllAW6iCNC4U',\n",
       "   'types': ['administrative_area_level_2', 'political']},\n",
       "  {'address_components': [{'long_name': 'Memphis, TN-MS-AR',\n",
       "     'short_name': 'Memphis, TN-MS-AR',\n",
       "     'types': ['political']},\n",
       "    {'long_name': 'United States',\n",
       "     'short_name': 'US',\n",
       "     'types': ['country', 'political']}],\n",
       "   'formatted_address': 'Memphis, TN-MS-AR, USA',\n",
       "   'geometry': {'bounds': {'northeast': {'lat': 35.652425, 'lng': -89.183944},\n",
       "     'southwest': {'lat': 34.423807, 'lng': -90.5885361}},\n",
       "    'location': {'lat': 35.0387247, 'lng': -89.8505012},\n",
       "    'location_type': 'APPROXIMATE',\n",
       "    'viewport': {'northeast': {'lat': 35.652425, 'lng': -89.183944},\n",
       "     'southwest': {'lat': 34.423807, 'lng': -90.5885361}}},\n",
       "   'place_id': 'ChIJv5RHP5OPf4gRCSZl66UAoYw',\n",
       "   'types': ['political']},\n",
       "  {'address_components': [{'long_name': 'Tennessee',\n",
       "     'short_name': 'TN',\n",
       "     'types': ['administrative_area_level_1',\n",
       "      'establishment',\n",
       "      'point_of_interest',\n",
       "      'political']},\n",
       "    {'long_name': 'United States',\n",
       "     'short_name': 'US',\n",
       "     'types': ['country', 'political']}],\n",
       "   'formatted_address': 'Tennessee, USA',\n",
       "   'geometry': {'bounds': {'northeast': {'lat': 36.678118, 'lng': -81.6469},\n",
       "     'southwest': {'lat': 34.9829239, 'lng': -90.3102978}},\n",
       "    'location': {'lat': 35.5174913, 'lng': -86.5804473},\n",
       "    'location_type': 'APPROXIMATE',\n",
       "    'viewport': {'northeast': {'lat': 36.678118, 'lng': -81.6469},\n",
       "     'southwest': {'lat': 34.9829239, 'lng': -90.3102978}}},\n",
       "   'place_id': 'ChIJA8-XniNLYYgRVpGBpcEgPgM',\n",
       "   'types': ['administrative_area_level_1',\n",
       "    'establishment',\n",
       "    'point_of_interest',\n",
       "    'political']},\n",
       "  {'address_components': [{'long_name': 'United States',\n",
       "     'short_name': 'US',\n",
       "     'types': ['country', 'political']}],\n",
       "   'formatted_address': 'United States',\n",
       "   'geometry': {'bounds': {'northeast': {'lat': 71.5388001, 'lng': -66.885417},\n",
       "     'southwest': {'lat': 18.7763, 'lng': 170.5957}},\n",
       "    'location': {'lat': 37.09024, 'lng': -95.712891},\n",
       "    'location_type': 'APPROXIMATE',\n",
       "    'viewport': {'northeast': {'lat': 49.38, 'lng': -66.94},\n",
       "     'southwest': {'lat': 25.82, 'lng': -124.39}}},\n",
       "   'place_id': 'ChIJCzYy5IS16lQRQrfeQ5K5Oxw',\n",
       "   'types': ['country', 'political']}],\n",
       " 'status': 'OK'}"
      ]
     },
     "execution_count": 21,
     "metadata": {},
     "output_type": "execute_result"
    }
   ],
   "source": [
    "response.json()"
   ]
  },
  {
   "cell_type": "markdown",
   "metadata": {},
   "source": [
    "Por supuest, hay mejores formas para hacer ese formateo, pero lo importante aquí es identificar los componentes de una request."
   ]
  },
  {
   "cell_type": "markdown",
   "metadata": {},
   "source": [
    "Además de la dirección URL, también son los Headers y el Cuerpo de una solicitud. Para más información sobre esto: https://www.slideshare.net/larrycai/learn-rest-apiwithpython"
   ]
  },
  {
   "cell_type": "markdown",
   "metadata": {},
   "source": [
    "#### TODO. Cuerpo y headers"
   ]
  },
  {
   "cell_type": "markdown",
   "metadata": {},
   "source": [
    "## Obteniendo datos a la fuerza"
   ]
  },
  {
   "cell_type": "markdown",
   "metadata": {},
   "source": [
    "### Usando un endpoint expuesto"
   ]
  },
  {
   "cell_type": "markdown",
   "metadata": {},
   "source": [
    "Un buen lugar para jugarle al hacker es encontrar si el recurso que estamos usando utiliza una API externa. Por ejemplo, para el producto https://github.com/ricalanis/terra , capturamos el endpoint de GAIA del Inegi. http://gaia.inegi.org.mx/"
   ]
  },
  {
   "cell_type": "markdown",
   "metadata": {},
   "source": [
    "<img src=\"https://media.giphy.com/media/3o7btUYKRWvgCWfOCs/giphy.gif\">"
   ]
  },
  {
   "cell_type": "markdown",
   "metadata": {},
   "source": [
    "### Scrapping"
   ]
  },
  {
   "cell_type": "markdown",
   "metadata": {},
   "source": [
    "Scrapping es la tarea de obtener datos estruturados de un recurso nos muestra solo su vista, no su base. Por ejemplo, usar https://magic.import.io/examples"
   ]
  },
  {
   "cell_type": "markdown",
   "metadata": {},
   "source": [
    "Queremos obtener el comportamiento del costo de Pokemon Red, http://videojuegos.mercadolibre.com.mx/pokemon-red"
   ]
  },
  {
   "cell_type": "markdown",
   "metadata": {},
   "source": [
    "Import.io nos permite traer la data estructurada de un elemento como este:"
   ]
  },
  {
   "cell_type": "code",
   "execution_count": 1,
   "metadata": {
    "collapsed": true
   },
   "outputs": [],
   "source": [
    "# Corregir cuando se levante magic.import.io"
   ]
  },
  {
   "cell_type": "markdown",
   "metadata": {},
   "source": [
    "#### Extraer datos usando requests"
   ]
  },
  {
   "cell_type": "markdown",
   "metadata": {},
   "source": [
    "De la misma forma que consumimos datos de una API, podemos traernos los HTMLs de los sitios y extraer los datos que son importantes"
   ]
  },
  {
   "cell_type": "markdown",
   "metadata": {},
   "source": [
    "#### Extraer datos en sitios dinámicos, Nivel 1"
   ]
  },
  {
   "cell_type": "markdown",
   "metadata": {},
   "source": [
    "A veces los datos están en sitios generados con JS, los cuales no pueden ser explorados fácilmente desde su HTML. Para estos, podemos usar un emulador de consola. "
   ]
  },
  {
   "cell_type": "markdown",
   "metadata": {},
   "source": [
    "#### Extraer datos en sitios dinámicos más complejos"
   ]
  },
  {
   "cell_type": "code",
   "execution_count": null,
   "metadata": {
    "collapsed": true
   },
   "outputs": [],
   "source": []
  },
  {
   "cell_type": "markdown",
   "metadata": {},
   "source": [
    "#### Scrappy y Extracción por Spyders\n"
   ]
  },
  {
   "cell_type": "code",
   "execution_count": null,
   "metadata": {
    "collapsed": true
   },
   "outputs": [],
   "source": []
  }
 ],
 "metadata": {
  "kernelspec": {
   "display_name": "Python 3",
   "language": "python",
   "name": "python3"
  },
  "language_info": {
   "codemirror_mode": {
    "name": "ipython",
    "version": 3
   },
   "file_extension": ".py",
   "mimetype": "text/x-python",
   "name": "python",
   "nbconvert_exporter": "python",
   "pygments_lexer": "ipython3",
   "version": "3.6.1"
  }
 },
 "nbformat": 4,
 "nbformat_minor": 2
}
