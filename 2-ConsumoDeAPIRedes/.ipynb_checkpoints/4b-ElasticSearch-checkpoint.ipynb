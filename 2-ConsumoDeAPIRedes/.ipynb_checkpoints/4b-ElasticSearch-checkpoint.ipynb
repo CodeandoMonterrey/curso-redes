{
 "cells": [
  {
   "cell_type": "markdown",
   "metadata": {},
   "source": [
    "## ¿Qué es ElasticSearch?"
   ]
  },
  {
   "cell_type": "markdown",
   "metadata": {},
   "source": [
    "Elasticsearch is a search engine based on Lucene. It provides a distributed, multitenant-capable full-text search engine with an HTTP web interface and schema-free JSON documents. Elasticsearch is developed in Java and is released as open source under the terms of the Apache License."
   ]
  },
  {
   "cell_type": "markdown",
   "metadata": {},
   "source": [
    "https://www.slideshare.net/knoldus/deep-dive-into-elasticsearch"
   ]
  },
  {
   "cell_type": "markdown",
   "metadata": {},
   "source": [
    "Es una base de datos NOSQL near-realtime absurdamente fácil de levantar, que tiene operaciones muy poderosas."
   ]
  },
  {
   "cell_type": "markdown",
   "metadata": {},
   "source": [
    "Levantar ElasticSearch solo son 3 pasos: Descargar, Correr, Profit."
   ]
  },
  {
   "cell_type": "markdown",
   "metadata": {},
   "source": [
    "https://www.elastic.co/downloads/elasticsearch"
   ]
  },
  {
   "cell_type": "markdown",
   "metadata": {},
   "source": [
    "Extráelo, y corre: ./bin/elasticsearch\n",
    "and you are Done"
   ]
  },
  {
   "cell_type": "markdown",
   "metadata": {},
   "source": [
    "### Seguir este tutorial: http://joelabrahamsson.com/elasticsearch-101/ Si gustas, solo leyéndolo u haciéndo las operaciones usando requests. Recuerda mandar las peticiones en el cuerpo."
   ]
  },
  {
   "cell_type": "markdown",
   "metadata": {},
   "source": [
    "¿Porqué elasticsearch? Es crítico en proyectos de análisis de texto por sus bosquedas (You know, for search), y como una gran base de datos para hackatones por su facilidad setup y uso. Tiene la desventaja/ventaja de su setup de indices, que es una bendicion si los haces bien; Maldición si mal."
   ]
  },
  {
   "cell_type": "code",
   "execution_count": null,
   "metadata": {
    "collapsed": true
   },
   "outputs": [],
   "source": []
  }
 ],
 "metadata": {
  "kernelspec": {
   "display_name": "Python 3",
   "language": "python",
   "name": "python3"
  },
  "language_info": {
   "codemirror_mode": {
    "name": "ipython",
    "version": 3
   },
   "file_extension": ".py",
   "mimetype": "text/x-python",
   "name": "python",
   "nbconvert_exporter": "python",
   "pygments_lexer": "ipython3",
   "version": "3.6.1"
  }
 },
 "nbformat": 4,
 "nbformat_minor": 2
}
