{
 "cells": [
  {
   "cell_type": "markdown",
   "metadata": {},
   "source": [
    "# Restricciones\n",
    "Porque nada en la vida es gratis. Twitter es muy abierto para compartir datos, pero pone límites de consumo muy estrictos. Por otro lado, Facebook no es tan riguroso con su límite de consumo (pocas veces eres bloqueado en solicitudes, mientras en twitter hay cosas que no puedes llamarlas más de 80 veces en una hora)"
   ]
  },
  {
   "cell_type": "code",
   "execution_count": 2,
   "metadata": {
    "collapsed": true
   },
   "outputs": [],
   "source": [
    "import requests"
   ]
  },
  {
   "cell_type": "code",
   "execution_count": 6,
   "metadata": {
    "collapsed": true
   },
   "outputs": [],
   "source": [
    "# Obtén un token en https://developers.facebook.com/tools/explorer/ \n",
    "# Ten cuidado, con uno de estos estás dando acceso a TODA tu información. No los subas a ningún lado."
   ]
  },
  {
   "cell_type": "code",
   "execution_count": 149,
   "metadata": {
    "collapsed": true
   },
   "outputs": [],
   "source": [
    "token = \"\""
   ]
  },
  {
   "cell_type": "code",
   "execution_count": 80,
   "metadata": {
    "collapsed": true
   },
   "outputs": [],
   "source": [
    "def facebook_call(endpoint, args={}):\n",
    "    base_url = \"https://graph.facebook.com/v2.9\"\n",
    "    args[\"access_token\"] = token\n",
    "    if len(args) > 0:        \n",
    "        for i, arg in enumerate(args):\n",
    "            if i == 0:\n",
    "                argstring= \"?\"\n",
    "            else:\n",
    "                argstring = argstring + \"&\"\n",
    "            argstring = argstring + arg + \"=\" + args[arg]\n",
    "    url  = base_url + endpoint + argstring\n",
    "    return url"
   ]
  },
  {
   "cell_type": "code",
   "execution_count": 82,
   "metadata": {
    "collapsed": true
   },
   "outputs": [],
   "source": [
    "def facebook_request(endpoint,args={}):\n",
    "    r = requests.get(facebook_call(endpoint,args))\n",
    "    return r.json()"
   ]
  },
  {
   "cell_type": "code",
   "execution_count": 36,
   "metadata": {},
   "outputs": [
    {
     "data": {
      "text/plain": [
       "{'id': '10152636101046117', 'name': 'Ricardo Alanis'}"
      ]
     },
     "execution_count": 36,
     "metadata": {},
     "output_type": "execute_result"
    }
   ],
   "source": [
    "facebook_request(\"/me/\", {})"
   ]
  },
  {
   "cell_type": "code",
   "execution_count": 39,
   "metadata": {
    "collapsed": true
   },
   "outputs": [],
   "source": [
    "# A veces nos tenemos que pelear con los permisos hasta para leer nuestras propias cosas. Esto si es por nuestra seguridad."
   ]
  },
  {
   "cell_type": "code",
   "execution_count": 37,
   "metadata": {},
   "outputs": [
    {
     "data": {
      "text/plain": [
       "{'error': {'code': 298,\n",
       "  'fbtrace_id': 'DSg6Y08dR93',\n",
       "  'message': '(#298) Requires extended permission: read_mailbox',\n",
       "  'type': 'OAuthException'}}"
      ]
     },
     "execution_count": 37,
     "metadata": {},
     "output_type": "execute_result"
    }
   ],
   "source": [
    "facebook_request(\"/me/conversations/\", {})"
   ]
  },
  {
   "cell_type": "code",
   "execution_count": 38,
   "metadata": {
    "scrolled": true
   },
   "outputs": [
    {
     "data": {
      "text/plain": [
       "{'data': [{'created_time': '2017-05-05T21:16:24+0000',\n",
       "   'id': '10152636101046117_10154969188656117',\n",
       "   'story': \"Ricardo Alanis shared Congreso Peatonal's event.\"},\n",
       "  {'created_time': '2017-05-05T18:58:04+0000',\n",
       "   'id': '10152636101046117_10154969101311117',\n",
       "   'story': 'John Noredlac updated his cover photo.'},\n",
       "  {'created_time': '2017-05-04T20:58:33+0000',\n",
       "   'id': '10152636101046117_10154965942896117',\n",
       "   'story': \"Ricardo Alanis shared Global Shapers Monterrey Hub's photo.\"},\n",
       "  {'created_time': '2017-05-02T20:08:57+0000',\n",
       "   'id': '10152636101046117_10154960407026117',\n",
       "   'message': 'no se vale abrir face al ver la pelea para ver quien gano\\nLOLOL'},\n",
       "  {'created_time': '2017-05-01T22:37:27+0000',\n",
       "   'id': '10152636101046117_10154961187261117',\n",
       "   'story': 'Karla P Marquez added 6 new photos — with Miguel Espinosa and 23 others.'},\n",
       "  {'created_time': '2017-04-25T14:52:44+0000',\n",
       "   'id': '10152636101046117_10154940356761117',\n",
       "   'message': 'Viridiana Martínez Ricardo Alanis'},\n",
       "  {'created_time': '2017-04-21T01:33:15+0000',\n",
       "   'id': '10152636101046117_10154927516826117',\n",
       "   'message': 'Gracias a Dios que este tema está tomando relevancia.'},\n",
       "  {'created_time': '2017-04-17T17:40:59+0000',\n",
       "   'id': '10152636101046117_10154916918026117',\n",
       "   'message': 'Tuve una experiencia extraordinariamente placentera con el chatbot de Virgin Mobile. Me pregunto qué tecnología usa. '},\n",
       "  {'created_time': '2017-04-13T04:19:45+0000',\n",
       "   'id': '10152636101046117_10154901804146117',\n",
       "   'story': 'Noe Gonzalez added a new photo — with David Alanis and 10 others.'},\n",
       "  {'created_time': '2017-04-13T00:16:37+0000',\n",
       "   'id': '10152636101046117_10154901299201117',\n",
       "   'story': \"Ricardo Alanis shared Cívica Digital's post.\"},\n",
       "  {'created_time': '2017-04-09T14:40:43+0000',\n",
       "   'id': '10152636101046117_10154889797296117',\n",
       "   'story': \"Ricardo Alanis shared Pásele a lo Abierto's post.\"},\n",
       "  {'created_time': '2017-04-08T06:03:58+0000',\n",
       "   'id': '10152636101046117_10154885651736117',\n",
       "   'story': \"Ricardo Alanis shared El Cachivache Quinteto's video.\"},\n",
       "  {'created_time': '2017-04-07T15:58:20+0000',\n",
       "   'id': '10152636101046117_10154883386446117',\n",
       "   'message': 'Que cool que el municipio tenga la voluntad de aportar.',\n",
       "   'story': 'Cesia Carolina Escobar with Ricardo Alanis at Palacio de Justicia de San Pedro Garza Garcia Nuevo Leon.'},\n",
       "  {'created_time': '2017-04-01T03:46:38+0000',\n",
       "   'id': '10152636101046117_10154862310201117',\n",
       "   'story': \"Ricardo Alanis shared Alfonso Noé's post.\"},\n",
       "  {'created_time': '2017-03-31T19:19:10+0000',\n",
       "   'id': '10152636101046117_10154861069936117',\n",
       "   'message': 'Slightly less adventurous than advertised.',\n",
       "   'story': 'Ricardo Alanis updated his profile picture.'},\n",
       "  {'created_time': '2017-03-31T19:13:50+0000',\n",
       "   'id': '10152636101046117_10154861061636117',\n",
       "   'story': 'Ricardo Alanis added 2 new photos.'},\n",
       "  {'created_time': '2017-03-23T01:55:57+0000',\n",
       "   'id': '10152636101046117_10154836571241117',\n",
       "   'story': \"Ricardo Alanis shared Codeando Xalapa's post.\"},\n",
       "  {'created_time': '2017-03-16T03:03:36+0000',\n",
       "   'id': '10152636101046117_10154817298506117',\n",
       "   'story': \"Ricardo Alanis shared Hackers & Founders Guadalajara's live video.\"},\n",
       "  {'created_time': '2017-03-13T15:40:48+0000',\n",
       "   'id': '10152636101046117_10154811116446117',\n",
       "   'message': 'Keep the masterpieces coming.',\n",
       "   'story': \"Ricardo Alanis shared GameSpot Universe's video.\"},\n",
       "  {'created_time': '2017-03-11T06:15:28+0000',\n",
       "   'id': '10152636101046117_10154803538566117',\n",
       "   'message': 'Let this be the last thing you see tonight.\\n'},\n",
       "  {'created_time': '2017-03-09T04:33:04+0000',\n",
       "   'id': '10152636101046117_10154795908416117',\n",
       "   'story': 'Ricardo Alanis shared a link.'},\n",
       "  {'created_time': '2017-03-08T19:35:35+0000',\n",
       "   'id': '10152636101046117_10154794390866117',\n",
       "   'message': 'http://www.nosotrasdesarrollamos.mx/'},\n",
       "  {'created_time': '2017-03-03T18:50:01+0000',\n",
       "   'id': '10152636101046117_10154778797656117',\n",
       "   'story': \"Ricardo Alanis shared Phi Requiem's post.\"},\n",
       "  {'created_time': '2017-03-02T16:09:34+0000',\n",
       "   'id': '10152636101046117_10154775209406117',\n",
       "   'message': \"Post cursi del día. \\n\\nHace un año exactamente Ricardo Alanis y yo fuimos a un hack sobre datos de movilidad y ahí conocí a Mercurio Cadena y fuimos a comer y yo estaba estrenando a Furiosa y platicamos sobre la vida y las leyes y la política y las bicis.\\n\\nRic y yo regresamos a la oficina y comento: hey Sandy, ese vato me gusta pa'ti (lease con acento norteño) y yo dije: Oye y además que interesante y guapo, y luego pum, aquí estamos <3\\n\\nRic les puede leer su fortuna en el amor.\"},\n",
       "  {'created_time': '2017-02-28T02:20:22+0000',\n",
       "   'id': '10152636101046117_10154769217456117',\n",
       "   'story': \"Ricardo Alanis shared Hacking Health Monterrey's album.\"}],\n",
       " 'paging': {'next': 'https://graph.facebook.com/v2.9/10152636101046117/feed?access_token=EAACEdEose0cBAGoe7GOJ8Whl1AauRRwhFfPAjq9VPuZBxMFOQkYVp0TGP6buMolncdRZC1M3lxxYns7lSYw9W6dPNuZCiqlP7GipD2CpKhXoliw6qGJkQLFqxGB2wrcgJCpoaEMhQ1CKe6ly6A0DUSUXqXOlOBYlHGvZCGVRL7ZCWUUp3eXLiBXy7ey8IUPIZD&limit=25&until=1488248422&__paging_token=enc_AdCvzeqpYcETmKjD25pX0hqcXLw0ghasjxyj2IceYFnxVQ8YrOXr82Au4TgnRKlL7S8qXZCeP3Emk5WktR7sCWq5w',\n",
       "  'previous': 'https://graph.facebook.com/v2.9/10152636101046117/feed?since=1494018984&access_token=EAACEdEose0cBAGoe7GOJ8Whl1AauRRwhFfPAjq9VPuZBxMFOQkYVp0TGP6buMolncdRZC1M3lxxYns7lSYw9W6dPNuZCiqlP7GipD2CpKhXoliw6qGJkQLFqxGB2wrcgJCpoaEMhQ1CKe6ly6A0DUSUXqXOlOBYlHGvZCGVRL7ZCWUUp3eXLiBXy7ey8IUPIZD&limit=25&__paging_token=enc_AdCVauPZCpwjbCabTXQoV48KVrgPzXGpoZALSIHJEZB5S1VhCIC9VQCZAk23fIbj7T1qWTgXpC1WbRly9fS8aBOc2npB&__previous=1'}}"
      ]
     },
     "execution_count": 38,
     "metadata": {},
     "output_type": "execute_result"
    }
   ],
   "source": [
    "facebook_request(\"/me/feed/\", {})"
   ]
  },
  {
   "cell_type": "markdown",
   "metadata": {},
   "source": [
    "https://developers.facebook.com/docs/"
   ]
  },
  {
   "cell_type": "markdown",
   "metadata": {},
   "source": [
    "El tl'dr de la documentación lo podemos encontrar en metadata. Al mandarle a cualquier objeto de facebook (Al ratito vemos que significa eso) ese argumento, te muestra una explicación de cada uno de los campos que puedes pedir (Si, facebook no te da todos los campos de los objetos que preguntas) y de las acciones debajo este objeto. Vamos a ver a profundidad que significa esto para Páginas"
   ]
  },
  {
   "cell_type": "code",
   "execution_count": 41,
   "metadata": {},
   "outputs": [
    {
     "data": {
      "text/plain": [
       "{'id': '10152636101046117',\n",
       " 'metadata': {'connections': {'accounts': 'https://graph.facebook.com/v2.9/10152636101046117/accounts?access_token=EAACEdEose0cBAGoe7GOJ8Whl1AauRRwhFfPAjq9VPuZBxMFOQkYVp0TGP6buMolncdRZC1M3lxxYns7lSYw9W6dPNuZCiqlP7GipD2CpKhXoliw6qGJkQLFqxGB2wrcgJCpoaEMhQ1CKe6ly6A0DUSUXqXOlOBYlHGvZCGVRL7ZCWUUp3eXLiBXy7ey8IUPIZD',\n",
       "   'achievements': 'https://graph.facebook.com/v2.9/10152636101046117/achievements?access_token=EAACEdEose0cBAGoe7GOJ8Whl1AauRRwhFfPAjq9VPuZBxMFOQkYVp0TGP6buMolncdRZC1M3lxxYns7lSYw9W6dPNuZCiqlP7GipD2CpKhXoliw6qGJkQLFqxGB2wrcgJCpoaEMhQ1CKe6ly6A0DUSUXqXOlOBYlHGvZCGVRL7ZCWUUp3eXLiBXy7ey8IUPIZD',\n",
       "   'ad_studies': 'https://graph.facebook.com/v2.9/10152636101046117/ad_studies?access_token=EAACEdEose0cBAGoe7GOJ8Whl1AauRRwhFfPAjq9VPuZBxMFOQkYVp0TGP6buMolncdRZC1M3lxxYns7lSYw9W6dPNuZCiqlP7GipD2CpKhXoliw6qGJkQLFqxGB2wrcgJCpoaEMhQ1CKe6ly6A0DUSUXqXOlOBYlHGvZCGVRL7ZCWUUp3eXLiBXy7ey8IUPIZD',\n",
       "   'adaccounts': 'https://graph.facebook.com/v2.9/10152636101046117/adaccounts?access_token=EAACEdEose0cBAGoe7GOJ8Whl1AauRRwhFfPAjq9VPuZBxMFOQkYVp0TGP6buMolncdRZC1M3lxxYns7lSYw9W6dPNuZCiqlP7GipD2CpKhXoliw6qGJkQLFqxGB2wrcgJCpoaEMhQ1CKe6ly6A0DUSUXqXOlOBYlHGvZCGVRL7ZCWUUp3eXLiBXy7ey8IUPIZD',\n",
       "   'adcontracts': 'https://graph.facebook.com/v2.9/10152636101046117/adcontracts?access_token=EAACEdEose0cBAGoe7GOJ8Whl1AauRRwhFfPAjq9VPuZBxMFOQkYVp0TGP6buMolncdRZC1M3lxxYns7lSYw9W6dPNuZCiqlP7GipD2CpKhXoliw6qGJkQLFqxGB2wrcgJCpoaEMhQ1CKe6ly6A0DUSUXqXOlOBYlHGvZCGVRL7ZCWUUp3eXLiBXy7ey8IUPIZD',\n",
       "   'adnetworkanalytics': 'https://graph.facebook.com/v2.9/10152636101046117/adnetworkanalytics?access_token=EAACEdEose0cBAGoe7GOJ8Whl1AauRRwhFfPAjq9VPuZBxMFOQkYVp0TGP6buMolncdRZC1M3lxxYns7lSYw9W6dPNuZCiqlP7GipD2CpKhXoliw6qGJkQLFqxGB2wrcgJCpoaEMhQ1CKe6ly6A0DUSUXqXOlOBYlHGvZCGVRL7ZCWUUp3eXLiBXy7ey8IUPIZD',\n",
       "   'albums': 'https://graph.facebook.com/v2.9/10152636101046117/albums?access_token=EAACEdEose0cBAGoe7GOJ8Whl1AauRRwhFfPAjq9VPuZBxMFOQkYVp0TGP6buMolncdRZC1M3lxxYns7lSYw9W6dPNuZCiqlP7GipD2CpKhXoliw6qGJkQLFqxGB2wrcgJCpoaEMhQ1CKe6ly6A0DUSUXqXOlOBYlHGvZCGVRL7ZCWUUp3eXLiBXy7ey8IUPIZD',\n",
       "   'applications': 'https://graph.facebook.com/v2.9/10152636101046117/applications?access_token=EAACEdEose0cBAGoe7GOJ8Whl1AauRRwhFfPAjq9VPuZBxMFOQkYVp0TGP6buMolncdRZC1M3lxxYns7lSYw9W6dPNuZCiqlP7GipD2CpKhXoliw6qGJkQLFqxGB2wrcgJCpoaEMhQ1CKe6ly6A0DUSUXqXOlOBYlHGvZCGVRL7ZCWUUp3eXLiBXy7ey8IUPIZD',\n",
       "   'apprequestformerrecipients': 'https://graph.facebook.com/v2.9/10152636101046117/apprequestformerrecipients?access_token=EAACEdEose0cBAGoe7GOJ8Whl1AauRRwhFfPAjq9VPuZBxMFOQkYVp0TGP6buMolncdRZC1M3lxxYns7lSYw9W6dPNuZCiqlP7GipD2CpKhXoliw6qGJkQLFqxGB2wrcgJCpoaEMhQ1CKe6ly6A0DUSUXqXOlOBYlHGvZCGVRL7ZCWUUp3eXLiBXy7ey8IUPIZD',\n",
       "   'apprequests': 'https://graph.facebook.com/v2.9/10152636101046117/apprequests?access_token=EAACEdEose0cBAGoe7GOJ8Whl1AauRRwhFfPAjq9VPuZBxMFOQkYVp0TGP6buMolncdRZC1M3lxxYns7lSYw9W6dPNuZCiqlP7GipD2CpKhXoliw6qGJkQLFqxGB2wrcgJCpoaEMhQ1CKe6ly6A0DUSUXqXOlOBYlHGvZCGVRL7ZCWUUp3eXLiBXy7ey8IUPIZD',\n",
       "   'books': 'https://graph.facebook.com/v2.9/10152636101046117/books?access_token=EAACEdEose0cBAGoe7GOJ8Whl1AauRRwhFfPAjq9VPuZBxMFOQkYVp0TGP6buMolncdRZC1M3lxxYns7lSYw9W6dPNuZCiqlP7GipD2CpKhXoliw6qGJkQLFqxGB2wrcgJCpoaEMhQ1CKe6ly6A0DUSUXqXOlOBYlHGvZCGVRL7ZCWUUp3eXLiBXy7ey8IUPIZD',\n",
       "   'brand_teams': 'https://graph.facebook.com/v2.9/10152636101046117/brand_teams?access_token=EAACEdEose0cBAGoe7GOJ8Whl1AauRRwhFfPAjq9VPuZBxMFOQkYVp0TGP6buMolncdRZC1M3lxxYns7lSYw9W6dPNuZCiqlP7GipD2CpKhXoliw6qGJkQLFqxGB2wrcgJCpoaEMhQ1CKe6ly6A0DUSUXqXOlOBYlHGvZCGVRL7ZCWUUp3eXLiBXy7ey8IUPIZD',\n",
       "   'business_activities': 'https://graph.facebook.com/v2.9/10152636101046117/business_activities?access_token=EAACEdEose0cBAGoe7GOJ8Whl1AauRRwhFfPAjq9VPuZBxMFOQkYVp0TGP6buMolncdRZC1M3lxxYns7lSYw9W6dPNuZCiqlP7GipD2CpKhXoliw6qGJkQLFqxGB2wrcgJCpoaEMhQ1CKe6ly6A0DUSUXqXOlOBYlHGvZCGVRL7ZCWUUp3eXLiBXy7ey8IUPIZD',\n",
       "   'businesses': 'https://graph.facebook.com/v2.9/10152636101046117/businesses?access_token=EAACEdEose0cBAGoe7GOJ8Whl1AauRRwhFfPAjq9VPuZBxMFOQkYVp0TGP6buMolncdRZC1M3lxxYns7lSYw9W6dPNuZCiqlP7GipD2CpKhXoliw6qGJkQLFqxGB2wrcgJCpoaEMhQ1CKe6ly6A0DUSUXqXOlOBYlHGvZCGVRL7ZCWUUp3eXLiBXy7ey8IUPIZD',\n",
       "   'businesssettinglogs': 'https://graph.facebook.com/v2.9/10152636101046117/businesssettinglogs?access_token=EAACEdEose0cBAGoe7GOJ8Whl1AauRRwhFfPAjq9VPuZBxMFOQkYVp0TGP6buMolncdRZC1M3lxxYns7lSYw9W6dPNuZCiqlP7GipD2CpKhXoliw6qGJkQLFqxGB2wrcgJCpoaEMhQ1CKe6ly6A0DUSUXqXOlOBYlHGvZCGVRL7ZCWUUp3eXLiBXy7ey8IUPIZD',\n",
       "   'checkins': 'https://graph.facebook.com/v2.9/10152636101046117/checkins?access_token=EAACEdEose0cBAGoe7GOJ8Whl1AauRRwhFfPAjq9VPuZBxMFOQkYVp0TGP6buMolncdRZC1M3lxxYns7lSYw9W6dPNuZCiqlP7GipD2CpKhXoliw6qGJkQLFqxGB2wrcgJCpoaEMhQ1CKe6ly6A0DUSUXqXOlOBYlHGvZCGVRL7ZCWUUp3eXLiBXy7ey8IUPIZD',\n",
       "   'commission_splits': 'https://graph.facebook.com/v2.9/10152636101046117/commission_splits?access_token=EAACEdEose0cBAGoe7GOJ8Whl1AauRRwhFfPAjq9VPuZBxMFOQkYVp0TGP6buMolncdRZC1M3lxxYns7lSYw9W6dPNuZCiqlP7GipD2CpKhXoliw6qGJkQLFqxGB2wrcgJCpoaEMhQ1CKe6ly6A0DUSUXqXOlOBYlHGvZCGVRL7ZCWUUp3eXLiBXy7ey8IUPIZD',\n",
       "   'conversations': 'https://graph.facebook.com/v2.9/10152636101046117/conversations?access_token=EAACEdEose0cBAGoe7GOJ8Whl1AauRRwhFfPAjq9VPuZBxMFOQkYVp0TGP6buMolncdRZC1M3lxxYns7lSYw9W6dPNuZCiqlP7GipD2CpKhXoliw6qGJkQLFqxGB2wrcgJCpoaEMhQ1CKe6ly6A0DUSUXqXOlOBYlHGvZCGVRL7ZCWUUp3eXLiBXy7ey8IUPIZD',\n",
       "   'curated_collections': 'https://graph.facebook.com/v2.9/10152636101046117/curated_collections?access_token=EAACEdEose0cBAGoe7GOJ8Whl1AauRRwhFfPAjq9VPuZBxMFOQkYVp0TGP6buMolncdRZC1M3lxxYns7lSYw9W6dPNuZCiqlP7GipD2CpKhXoliw6qGJkQLFqxGB2wrcgJCpoaEMhQ1CKe6ly6A0DUSUXqXOlOBYlHGvZCGVRL7ZCWUUp3eXLiBXy7ey8IUPIZD',\n",
       "   'domains': 'https://graph.facebook.com/v2.9/10152636101046117/domains?access_token=EAACEdEose0cBAGoe7GOJ8Whl1AauRRwhFfPAjq9VPuZBxMFOQkYVp0TGP6buMolncdRZC1M3lxxYns7lSYw9W6dPNuZCiqlP7GipD2CpKhXoliw6qGJkQLFqxGB2wrcgJCpoaEMhQ1CKe6ly6A0DUSUXqXOlOBYlHGvZCGVRL7ZCWUUp3eXLiBXy7ey8IUPIZD',\n",
       "   'events': 'https://graph.facebook.com/v2.9/10152636101046117/events?access_token=EAACEdEose0cBAGoe7GOJ8Whl1AauRRwhFfPAjq9VPuZBxMFOQkYVp0TGP6buMolncdRZC1M3lxxYns7lSYw9W6dPNuZCiqlP7GipD2CpKhXoliw6qGJkQLFqxGB2wrcgJCpoaEMhQ1CKe6ly6A0DUSUXqXOlOBYlHGvZCGVRL7ZCWUUp3eXLiBXy7ey8IUPIZD',\n",
       "   'family': 'https://graph.facebook.com/v2.9/10152636101046117/family?access_token=EAACEdEose0cBAGoe7GOJ8Whl1AauRRwhFfPAjq9VPuZBxMFOQkYVp0TGP6buMolncdRZC1M3lxxYns7lSYw9W6dPNuZCiqlP7GipD2CpKhXoliw6qGJkQLFqxGB2wrcgJCpoaEMhQ1CKe6ly6A0DUSUXqXOlOBYlHGvZCGVRL7ZCWUUp3eXLiBXy7ey8IUPIZD',\n",
       "   'favorite_requests': 'https://graph.facebook.com/v2.9/10152636101046117/favorite_requests?access_token=EAACEdEose0cBAGoe7GOJ8Whl1AauRRwhFfPAjq9VPuZBxMFOQkYVp0TGP6buMolncdRZC1M3lxxYns7lSYw9W6dPNuZCiqlP7GipD2CpKhXoliw6qGJkQLFqxGB2wrcgJCpoaEMhQ1CKe6ly6A0DUSUXqXOlOBYlHGvZCGVRL7ZCWUUp3eXLiBXy7ey8IUPIZD',\n",
       "   'feed': 'https://graph.facebook.com/v2.9/10152636101046117/feed?access_token=EAACEdEose0cBAGoe7GOJ8Whl1AauRRwhFfPAjq9VPuZBxMFOQkYVp0TGP6buMolncdRZC1M3lxxYns7lSYw9W6dPNuZCiqlP7GipD2CpKhXoliw6qGJkQLFqxGB2wrcgJCpoaEMhQ1CKe6ly6A0DUSUXqXOlOBYlHGvZCGVRL7ZCWUUp3eXLiBXy7ey8IUPIZD',\n",
       "   'friendlists': 'https://graph.facebook.com/v2.9/10152636101046117/friendlists?access_token=EAACEdEose0cBAGoe7GOJ8Whl1AauRRwhFfPAjq9VPuZBxMFOQkYVp0TGP6buMolncdRZC1M3lxxYns7lSYw9W6dPNuZCiqlP7GipD2CpKhXoliw6qGJkQLFqxGB2wrcgJCpoaEMhQ1CKe6ly6A0DUSUXqXOlOBYlHGvZCGVRL7ZCWUUp3eXLiBXy7ey8IUPIZD',\n",
       "   'friendrequests': 'https://graph.facebook.com/v2.9/10152636101046117/friendrequests?access_token=EAACEdEose0cBAGoe7GOJ8Whl1AauRRwhFfPAjq9VPuZBxMFOQkYVp0TGP6buMolncdRZC1M3lxxYns7lSYw9W6dPNuZCiqlP7GipD2CpKhXoliw6qGJkQLFqxGB2wrcgJCpoaEMhQ1CKe6ly6A0DUSUXqXOlOBYlHGvZCGVRL7ZCWUUp3eXLiBXy7ey8IUPIZD',\n",
       "   'friends': 'https://graph.facebook.com/v2.9/10152636101046117/friends?access_token=EAACEdEose0cBAGoe7GOJ8Whl1AauRRwhFfPAjq9VPuZBxMFOQkYVp0TGP6buMolncdRZC1M3lxxYns7lSYw9W6dPNuZCiqlP7GipD2CpKhXoliw6qGJkQLFqxGB2wrcgJCpoaEMhQ1CKe6ly6A0DUSUXqXOlOBYlHGvZCGVRL7ZCWUUp3eXLiBXy7ey8IUPIZD',\n",
       "   'games': 'https://graph.facebook.com/v2.9/10152636101046117/games?access_token=EAACEdEose0cBAGoe7GOJ8Whl1AauRRwhFfPAjq9VPuZBxMFOQkYVp0TGP6buMolncdRZC1M3lxxYns7lSYw9W6dPNuZCiqlP7GipD2CpKhXoliw6qGJkQLFqxGB2wrcgJCpoaEMhQ1CKe6ly6A0DUSUXqXOlOBYlHGvZCGVRL7ZCWUUp3eXLiBXy7ey8IUPIZD',\n",
       "   'groups': 'https://graph.facebook.com/v2.9/10152636101046117/groups?access_token=EAACEdEose0cBAGoe7GOJ8Whl1AauRRwhFfPAjq9VPuZBxMFOQkYVp0TGP6buMolncdRZC1M3lxxYns7lSYw9W6dPNuZCiqlP7GipD2CpKhXoliw6qGJkQLFqxGB2wrcgJCpoaEMhQ1CKe6ly6A0DUSUXqXOlOBYlHGvZCGVRL7ZCWUUp3eXLiBXy7ey8IUPIZD',\n",
       "   'home': 'https://graph.facebook.com/v2.9/10152636101046117/home?access_token=EAACEdEose0cBAGoe7GOJ8Whl1AauRRwhFfPAjq9VPuZBxMFOQkYVp0TGP6buMolncdRZC1M3lxxYns7lSYw9W6dPNuZCiqlP7GipD2CpKhXoliw6qGJkQLFqxGB2wrcgJCpoaEMhQ1CKe6ly6A0DUSUXqXOlOBYlHGvZCGVRL7ZCWUUp3eXLiBXy7ey8IUPIZD',\n",
       "   'ids_for_apps': 'https://graph.facebook.com/v2.9/10152636101046117/ids_for_apps?access_token=EAACEdEose0cBAGoe7GOJ8Whl1AauRRwhFfPAjq9VPuZBxMFOQkYVp0TGP6buMolncdRZC1M3lxxYns7lSYw9W6dPNuZCiqlP7GipD2CpKhXoliw6qGJkQLFqxGB2wrcgJCpoaEMhQ1CKe6ly6A0DUSUXqXOlOBYlHGvZCGVRL7ZCWUUp3eXLiBXy7ey8IUPIZD',\n",
       "   'ids_for_business': 'https://graph.facebook.com/v2.9/10152636101046117/ids_for_business?access_token=EAACEdEose0cBAGoe7GOJ8Whl1AauRRwhFfPAjq9VPuZBxMFOQkYVp0TGP6buMolncdRZC1M3lxxYns7lSYw9W6dPNuZCiqlP7GipD2CpKhXoliw6qGJkQLFqxGB2wrcgJCpoaEMhQ1CKe6ly6A0DUSUXqXOlOBYlHGvZCGVRL7ZCWUUp3eXLiBXy7ey8IUPIZD',\n",
       "   'ids_for_pages': 'https://graph.facebook.com/v2.9/10152636101046117/ids_for_pages?access_token=EAACEdEose0cBAGoe7GOJ8Whl1AauRRwhFfPAjq9VPuZBxMFOQkYVp0TGP6buMolncdRZC1M3lxxYns7lSYw9W6dPNuZCiqlP7GipD2CpKhXoliw6qGJkQLFqxGB2wrcgJCpoaEMhQ1CKe6ly6A0DUSUXqXOlOBYlHGvZCGVRL7ZCWUUp3eXLiBXy7ey8IUPIZD',\n",
       "   'inbox': 'https://graph.facebook.com/v2.9/10152636101046117/inbox?access_token=EAACEdEose0cBAGoe7GOJ8Whl1AauRRwhFfPAjq9VPuZBxMFOQkYVp0TGP6buMolncdRZC1M3lxxYns7lSYw9W6dPNuZCiqlP7GipD2CpKhXoliw6qGJkQLFqxGB2wrcgJCpoaEMhQ1CKe6ly6A0DUSUXqXOlOBYlHGvZCGVRL7ZCWUUp3eXLiBXy7ey8IUPIZD',\n",
       "   'insights': 'https://graph.facebook.com/v2.9/10152636101046117/insights?access_token=EAACEdEose0cBAGoe7GOJ8Whl1AauRRwhFfPAjq9VPuZBxMFOQkYVp0TGP6buMolncdRZC1M3lxxYns7lSYw9W6dPNuZCiqlP7GipD2CpKhXoliw6qGJkQLFqxGB2wrcgJCpoaEMhQ1CKe6ly6A0DUSUXqXOlOBYlHGvZCGVRL7ZCWUUp3eXLiBXy7ey8IUPIZD',\n",
       "   'integrated_plugin_feed': 'https://graph.facebook.com/v2.9/10152636101046117/integrated_plugin_feed?access_token=EAACEdEose0cBAGoe7GOJ8Whl1AauRRwhFfPAjq9VPuZBxMFOQkYVp0TGP6buMolncdRZC1M3lxxYns7lSYw9W6dPNuZCiqlP7GipD2CpKhXoliw6qGJkQLFqxGB2wrcgJCpoaEMhQ1CKe6ly6A0DUSUXqXOlOBYlHGvZCGVRL7ZCWUUp3eXLiBXy7ey8IUPIZD',\n",
       "   'invitable_friends': 'https://graph.facebook.com/v2.9/10152636101046117/invitable_friends?access_token=EAACEdEose0cBAGoe7GOJ8Whl1AauRRwhFfPAjq9VPuZBxMFOQkYVp0TGP6buMolncdRZC1M3lxxYns7lSYw9W6dPNuZCiqlP7GipD2CpKhXoliw6qGJkQLFqxGB2wrcgJCpoaEMhQ1CKe6ly6A0DUSUXqXOlOBYlHGvZCGVRL7ZCWUUp3eXLiBXy7ey8IUPIZD',\n",
       "   'leadgen_forms': 'https://graph.facebook.com/v2.9/10152636101046117/leadgen_forms?access_token=EAACEdEose0cBAGoe7GOJ8Whl1AauRRwhFfPAjq9VPuZBxMFOQkYVp0TGP6buMolncdRZC1M3lxxYns7lSYw9W6dPNuZCiqlP7GipD2CpKhXoliw6qGJkQLFqxGB2wrcgJCpoaEMhQ1CKe6ly6A0DUSUXqXOlOBYlHGvZCGVRL7ZCWUUp3eXLiBXy7ey8IUPIZD',\n",
       "   'likes': 'https://graph.facebook.com/v2.9/10152636101046117/likes?access_token=EAACEdEose0cBAGoe7GOJ8Whl1AauRRwhFfPAjq9VPuZBxMFOQkYVp0TGP6buMolncdRZC1M3lxxYns7lSYw9W6dPNuZCiqlP7GipD2CpKhXoliw6qGJkQLFqxGB2wrcgJCpoaEMhQ1CKe6ly6A0DUSUXqXOlOBYlHGvZCGVRL7ZCWUUp3eXLiBXy7ey8IUPIZD',\n",
       "   'live_videos': 'https://graph.facebook.com/v2.9/10152636101046117/live_videos?access_token=EAACEdEose0cBAGoe7GOJ8Whl1AauRRwhFfPAjq9VPuZBxMFOQkYVp0TGP6buMolncdRZC1M3lxxYns7lSYw9W6dPNuZCiqlP7GipD2CpKhXoliw6qGJkQLFqxGB2wrcgJCpoaEMhQ1CKe6ly6A0DUSUXqXOlOBYlHGvZCGVRL7ZCWUUp3eXLiBXy7ey8IUPIZD',\n",
       "   'locations': 'https://graph.facebook.com/v2.9/10152636101046117/locations?access_token=EAACEdEose0cBAGoe7GOJ8Whl1AauRRwhFfPAjq9VPuZBxMFOQkYVp0TGP6buMolncdRZC1M3lxxYns7lSYw9W6dPNuZCiqlP7GipD2CpKhXoliw6qGJkQLFqxGB2wrcgJCpoaEMhQ1CKe6ly6A0DUSUXqXOlOBYlHGvZCGVRL7ZCWUUp3eXLiBXy7ey8IUPIZD',\n",
       "   'movies': 'https://graph.facebook.com/v2.9/10152636101046117/movies?access_token=EAACEdEose0cBAGoe7GOJ8Whl1AauRRwhFfPAjq9VPuZBxMFOQkYVp0TGP6buMolncdRZC1M3lxxYns7lSYw9W6dPNuZCiqlP7GipD2CpKhXoliw6qGJkQLFqxGB2wrcgJCpoaEMhQ1CKe6ly6A0DUSUXqXOlOBYlHGvZCGVRL7ZCWUUp3eXLiBXy7ey8IUPIZD',\n",
       "   'music': 'https://graph.facebook.com/v2.9/10152636101046117/music?access_token=EAACEdEose0cBAGoe7GOJ8Whl1AauRRwhFfPAjq9VPuZBxMFOQkYVp0TGP6buMolncdRZC1M3lxxYns7lSYw9W6dPNuZCiqlP7GipD2CpKhXoliw6qGJkQLFqxGB2wrcgJCpoaEMhQ1CKe6ly6A0DUSUXqXOlOBYlHGvZCGVRL7ZCWUUp3eXLiBXy7ey8IUPIZD',\n",
       "   'notifications': 'https://graph.facebook.com/v2.9/10152636101046117/notifications?access_token=EAACEdEose0cBAGoe7GOJ8Whl1AauRRwhFfPAjq9VPuZBxMFOQkYVp0TGP6buMolncdRZC1M3lxxYns7lSYw9W6dPNuZCiqlP7GipD2CpKhXoliw6qGJkQLFqxGB2wrcgJCpoaEMhQ1CKe6ly6A0DUSUXqXOlOBYlHGvZCGVRL7ZCWUUp3eXLiBXy7ey8IUPIZD',\n",
       "   'notify_me': 'https://graph.facebook.com/v2.9/10152636101046117/notify_me?access_token=EAACEdEose0cBAGoe7GOJ8Whl1AauRRwhFfPAjq9VPuZBxMFOQkYVp0TGP6buMolncdRZC1M3lxxYns7lSYw9W6dPNuZCiqlP7GipD2CpKhXoliw6qGJkQLFqxGB2wrcgJCpoaEMhQ1CKe6ly6A0DUSUXqXOlOBYlHGvZCGVRL7ZCWUUp3eXLiBXy7ey8IUPIZD',\n",
       "   'objects': 'https://graph.facebook.com/v2.9/10152636101046117/objects?access_token=EAACEdEose0cBAGoe7GOJ8Whl1AauRRwhFfPAjq9VPuZBxMFOQkYVp0TGP6buMolncdRZC1M3lxxYns7lSYw9W6dPNuZCiqlP7GipD2CpKhXoliw6qGJkQLFqxGB2wrcgJCpoaEMhQ1CKe6ly6A0DUSUXqXOlOBYlHGvZCGVRL7ZCWUUp3eXLiBXy7ey8IUPIZD',\n",
       "   'outbox': 'https://graph.facebook.com/v2.9/10152636101046117/outbox?access_token=EAACEdEose0cBAGoe7GOJ8Whl1AauRRwhFfPAjq9VPuZBxMFOQkYVp0TGP6buMolncdRZC1M3lxxYns7lSYw9W6dPNuZCiqlP7GipD2CpKhXoliw6qGJkQLFqxGB2wrcgJCpoaEMhQ1CKe6ly6A0DUSUXqXOlOBYlHGvZCGVRL7ZCWUUp3eXLiBXy7ey8IUPIZD',\n",
       "   'ownerapps': 'https://graph.facebook.com/v2.9/10152636101046117/ownerapps?access_token=EAACEdEose0cBAGoe7GOJ8Whl1AauRRwhFfPAjq9VPuZBxMFOQkYVp0TGP6buMolncdRZC1M3lxxYns7lSYw9W6dPNuZCiqlP7GipD2CpKhXoliw6qGJkQLFqxGB2wrcgJCpoaEMhQ1CKe6ly6A0DUSUXqXOlOBYlHGvZCGVRL7ZCWUUp3eXLiBXy7ey8IUPIZD',\n",
       "   'payment.subscriptions': 'https://graph.facebook.com/v2.9/10152636101046117/payment.subscriptions?access_token=EAACEdEose0cBAGoe7GOJ8Whl1AauRRwhFfPAjq9VPuZBxMFOQkYVp0TGP6buMolncdRZC1M3lxxYns7lSYw9W6dPNuZCiqlP7GipD2CpKhXoliw6qGJkQLFqxGB2wrcgJCpoaEMhQ1CKe6ly6A0DUSUXqXOlOBYlHGvZCGVRL7ZCWUUp3eXLiBXy7ey8IUPIZD',\n",
       "   'payment_transactions': 'https://graph.facebook.com/v2.9/10152636101046117/payment_transactions?access_token=EAACEdEose0cBAGoe7GOJ8Whl1AauRRwhFfPAjq9VPuZBxMFOQkYVp0TGP6buMolncdRZC1M3lxxYns7lSYw9W6dPNuZCiqlP7GipD2CpKhXoliw6qGJkQLFqxGB2wrcgJCpoaEMhQ1CKe6ly6A0DUSUXqXOlOBYlHGvZCGVRL7ZCWUUp3eXLiBXy7ey8IUPIZD',\n",
       "   'payments': 'https://graph.facebook.com/v2.9/10152636101046117/payments?access_token=EAACEdEose0cBAGoe7GOJ8Whl1AauRRwhFfPAjq9VPuZBxMFOQkYVp0TGP6buMolncdRZC1M3lxxYns7lSYw9W6dPNuZCiqlP7GipD2CpKhXoliw6qGJkQLFqxGB2wrcgJCpoaEMhQ1CKe6ly6A0DUSUXqXOlOBYlHGvZCGVRL7ZCWUUp3eXLiBXy7ey8IUPIZD',\n",
       "   'permissions': 'https://graph.facebook.com/v2.9/10152636101046117/permissions?access_token=EAACEdEose0cBAGoe7GOJ8Whl1AauRRwhFfPAjq9VPuZBxMFOQkYVp0TGP6buMolncdRZC1M3lxxYns7lSYw9W6dPNuZCiqlP7GipD2CpKhXoliw6qGJkQLFqxGB2wrcgJCpoaEMhQ1CKe6ly6A0DUSUXqXOlOBYlHGvZCGVRL7ZCWUUp3eXLiBXy7ey8IUPIZD',\n",
       "   'personal_ad_accounts': 'https://graph.facebook.com/v2.9/10152636101046117/personal_ad_accounts?access_token=EAACEdEose0cBAGoe7GOJ8Whl1AauRRwhFfPAjq9VPuZBxMFOQkYVp0TGP6buMolncdRZC1M3lxxYns7lSYw9W6dPNuZCiqlP7GipD2CpKhXoliw6qGJkQLFqxGB2wrcgJCpoaEMhQ1CKe6ly6A0DUSUXqXOlOBYlHGvZCGVRL7ZCWUUp3eXLiBXy7ey8IUPIZD',\n",
       "   'photos': 'https://graph.facebook.com/v2.9/10152636101046117/photos?access_token=EAACEdEose0cBAGoe7GOJ8Whl1AauRRwhFfPAjq9VPuZBxMFOQkYVp0TGP6buMolncdRZC1M3lxxYns7lSYw9W6dPNuZCiqlP7GipD2CpKhXoliw6qGJkQLFqxGB2wrcgJCpoaEMhQ1CKe6ly6A0DUSUXqXOlOBYlHGvZCGVRL7ZCWUUp3eXLiBXy7ey8IUPIZD',\n",
       "   'picture': 'https://graph.facebook.com/v2.9/10152636101046117/picture?access_token=EAACEdEose0cBAGoe7GOJ8Whl1AauRRwhFfPAjq9VPuZBxMFOQkYVp0TGP6buMolncdRZC1M3lxxYns7lSYw9W6dPNuZCiqlP7GipD2CpKhXoliw6qGJkQLFqxGB2wrcgJCpoaEMhQ1CKe6ly6A0DUSUXqXOlOBYlHGvZCGVRL7ZCWUUp3eXLiBXy7ey8IUPIZD',\n",
       "   'platformrequests': 'https://graph.facebook.com/v2.9/10152636101046117/platformrequests?access_token=EAACEdEose0cBAGoe7GOJ8Whl1AauRRwhFfPAjq9VPuZBxMFOQkYVp0TGP6buMolncdRZC1M3lxxYns7lSYw9W6dPNuZCiqlP7GipD2CpKhXoliw6qGJkQLFqxGB2wrcgJCpoaEMhQ1CKe6ly6A0DUSUXqXOlOBYlHGvZCGVRL7ZCWUUp3eXLiBXy7ey8IUPIZD',\n",
       "   'pokes': 'https://graph.facebook.com/v2.9/10152636101046117/pokes?access_token=EAACEdEose0cBAGoe7GOJ8Whl1AauRRwhFfPAjq9VPuZBxMFOQkYVp0TGP6buMolncdRZC1M3lxxYns7lSYw9W6dPNuZCiqlP7GipD2CpKhXoliw6qGJkQLFqxGB2wrcgJCpoaEMhQ1CKe6ly6A0DUSUXqXOlOBYlHGvZCGVRL7ZCWUUp3eXLiBXy7ey8IUPIZD',\n",
       "   'posts': 'https://graph.facebook.com/v2.9/10152636101046117/posts?access_token=EAACEdEose0cBAGoe7GOJ8Whl1AauRRwhFfPAjq9VPuZBxMFOQkYVp0TGP6buMolncdRZC1M3lxxYns7lSYw9W6dPNuZCiqlP7GipD2CpKhXoliw6qGJkQLFqxGB2wrcgJCpoaEMhQ1CKe6ly6A0DUSUXqXOlOBYlHGvZCGVRL7ZCWUUp3eXLiBXy7ey8IUPIZD',\n",
       "   'privacy_options': 'https://graph.facebook.com/v2.9/10152636101046117/privacy_options?access_token=EAACEdEose0cBAGoe7GOJ8Whl1AauRRwhFfPAjq9VPuZBxMFOQkYVp0TGP6buMolncdRZC1M3lxxYns7lSYw9W6dPNuZCiqlP7GipD2CpKhXoliw6qGJkQLFqxGB2wrcgJCpoaEMhQ1CKe6ly6A0DUSUXqXOlOBYlHGvZCGVRL7ZCWUUp3eXLiBXy7ey8IUPIZD',\n",
       "   'promotable_domains': 'https://graph.facebook.com/v2.9/10152636101046117/promotable_domains?access_token=EAACEdEose0cBAGoe7GOJ8Whl1AauRRwhFfPAjq9VPuZBxMFOQkYVp0TGP6buMolncdRZC1M3lxxYns7lSYw9W6dPNuZCiqlP7GipD2CpKhXoliw6qGJkQLFqxGB2wrcgJCpoaEMhQ1CKe6ly6A0DUSUXqXOlOBYlHGvZCGVRL7ZCWUUp3eXLiBXy7ey8IUPIZD',\n",
       "   'promotable_events': 'https://graph.facebook.com/v2.9/10152636101046117/promotable_events?access_token=EAACEdEose0cBAGoe7GOJ8Whl1AauRRwhFfPAjq9VPuZBxMFOQkYVp0TGP6buMolncdRZC1M3lxxYns7lSYw9W6dPNuZCiqlP7GipD2CpKhXoliw6qGJkQLFqxGB2wrcgJCpoaEMhQ1CKe6ly6A0DUSUXqXOlOBYlHGvZCGVRL7ZCWUUp3eXLiBXy7ey8IUPIZD',\n",
       "   'ratings': 'https://graph.facebook.com/v2.9/10152636101046117/ratings?access_token=EAACEdEose0cBAGoe7GOJ8Whl1AauRRwhFfPAjq9VPuZBxMFOQkYVp0TGP6buMolncdRZC1M3lxxYns7lSYw9W6dPNuZCiqlP7GipD2CpKhXoliw6qGJkQLFqxGB2wrcgJCpoaEMhQ1CKe6ly6A0DUSUXqXOlOBYlHGvZCGVRL7ZCWUUp3eXLiBXy7ey8IUPIZD',\n",
       "   'request_history': 'https://graph.facebook.com/v2.9/10152636101046117/request_history?access_token=EAACEdEose0cBAGoe7GOJ8Whl1AauRRwhFfPAjq9VPuZBxMFOQkYVp0TGP6buMolncdRZC1M3lxxYns7lSYw9W6dPNuZCiqlP7GipD2CpKhXoliw6qGJkQLFqxGB2wrcgJCpoaEMhQ1CKe6ly6A0DUSUXqXOlOBYlHGvZCGVRL7ZCWUUp3eXLiBXy7ey8IUPIZD',\n",
       "   'rich_media_documents': 'https://graph.facebook.com/v2.9/10152636101046117/rich_media_documents?access_token=EAACEdEose0cBAGoe7GOJ8Whl1AauRRwhFfPAjq9VPuZBxMFOQkYVp0TGP6buMolncdRZC1M3lxxYns7lSYw9W6dPNuZCiqlP7GipD2CpKhXoliw6qGJkQLFqxGB2wrcgJCpoaEMhQ1CKe6ly6A0DUSUXqXOlOBYlHGvZCGVRL7ZCWUUp3eXLiBXy7ey8IUPIZD',\n",
       "   'scores': 'https://graph.facebook.com/v2.9/10152636101046117/scores?access_token=EAACEdEose0cBAGoe7GOJ8Whl1AauRRwhFfPAjq9VPuZBxMFOQkYVp0TGP6buMolncdRZC1M3lxxYns7lSYw9W6dPNuZCiqlP7GipD2CpKhXoliw6qGJkQLFqxGB2wrcgJCpoaEMhQ1CKe6ly6A0DUSUXqXOlOBYlHGvZCGVRL7ZCWUUp3eXLiBXy7ey8IUPIZD',\n",
       "   'screennames': 'https://graph.facebook.com/v2.9/10152636101046117/screennames?access_token=EAACEdEose0cBAGoe7GOJ8Whl1AauRRwhFfPAjq9VPuZBxMFOQkYVp0TGP6buMolncdRZC1M3lxxYns7lSYw9W6dPNuZCiqlP7GipD2CpKhXoliw6qGJkQLFqxGB2wrcgJCpoaEMhQ1CKe6ly6A0DUSUXqXOlOBYlHGvZCGVRL7ZCWUUp3eXLiBXy7ey8IUPIZD',\n",
       "   'session_keys': 'https://graph.facebook.com/v2.9/10152636101046117/session_keys?access_token=EAACEdEose0cBAGoe7GOJ8Whl1AauRRwhFfPAjq9VPuZBxMFOQkYVp0TGP6buMolncdRZC1M3lxxYns7lSYw9W6dPNuZCiqlP7GipD2CpKhXoliw6qGJkQLFqxGB2wrcgJCpoaEMhQ1CKe6ly6A0DUSUXqXOlOBYlHGvZCGVRL7ZCWUUp3eXLiBXy7ey8IUPIZD',\n",
       "   'stream_filters': 'https://graph.facebook.com/v2.9/10152636101046117/stream_filters?access_token=EAACEdEose0cBAGoe7GOJ8Whl1AauRRwhFfPAjq9VPuZBxMFOQkYVp0TGP6buMolncdRZC1M3lxxYns7lSYw9W6dPNuZCiqlP7GipD2CpKhXoliw6qGJkQLFqxGB2wrcgJCpoaEMhQ1CKe6ly6A0DUSUXqXOlOBYlHGvZCGVRL7ZCWUUp3eXLiBXy7ey8IUPIZD',\n",
       "   'taggable_friends': 'https://graph.facebook.com/v2.9/10152636101046117/taggable_friends?access_token=EAACEdEose0cBAGoe7GOJ8Whl1AauRRwhFfPAjq9VPuZBxMFOQkYVp0TGP6buMolncdRZC1M3lxxYns7lSYw9W6dPNuZCiqlP7GipD2CpKhXoliw6qGJkQLFqxGB2wrcgJCpoaEMhQ1CKe6ly6A0DUSUXqXOlOBYlHGvZCGVRL7ZCWUUp3eXLiBXy7ey8IUPIZD',\n",
       "   'tagged': 'https://graph.facebook.com/v2.9/10152636101046117/tagged?access_token=EAACEdEose0cBAGoe7GOJ8Whl1AauRRwhFfPAjq9VPuZBxMFOQkYVp0TGP6buMolncdRZC1M3lxxYns7lSYw9W6dPNuZCiqlP7GipD2CpKhXoliw6qGJkQLFqxGB2wrcgJCpoaEMhQ1CKe6ly6A0DUSUXqXOlOBYlHGvZCGVRL7ZCWUUp3eXLiBXy7ey8IUPIZD',\n",
       "   'tagged_places': 'https://graph.facebook.com/v2.9/10152636101046117/tagged_places?access_token=EAACEdEose0cBAGoe7GOJ8Whl1AauRRwhFfPAjq9VPuZBxMFOQkYVp0TGP6buMolncdRZC1M3lxxYns7lSYw9W6dPNuZCiqlP7GipD2CpKhXoliw6qGJkQLFqxGB2wrcgJCpoaEMhQ1CKe6ly6A0DUSUXqXOlOBYlHGvZCGVRL7ZCWUUp3eXLiBXy7ey8IUPIZD',\n",
       "   'television': 'https://graph.facebook.com/v2.9/10152636101046117/television?access_token=EAACEdEose0cBAGoe7GOJ8Whl1AauRRwhFfPAjq9VPuZBxMFOQkYVp0TGP6buMolncdRZC1M3lxxYns7lSYw9W6dPNuZCiqlP7GipD2CpKhXoliw6qGJkQLFqxGB2wrcgJCpoaEMhQ1CKe6ly6A0DUSUXqXOlOBYlHGvZCGVRL7ZCWUUp3eXLiBXy7ey8IUPIZD',\n",
       "   'threads': 'https://graph.facebook.com/v2.9/10152636101046117/threads?access_token=EAACEdEose0cBAGoe7GOJ8Whl1AauRRwhFfPAjq9VPuZBxMFOQkYVp0TGP6buMolncdRZC1M3lxxYns7lSYw9W6dPNuZCiqlP7GipD2CpKhXoliw6qGJkQLFqxGB2wrcgJCpoaEMhQ1CKe6ly6A0DUSUXqXOlOBYlHGvZCGVRL7ZCWUUp3eXLiBXy7ey8IUPIZD',\n",
       "   'updates': 'https://graph.facebook.com/v2.9/10152636101046117/updates?access_token=EAACEdEose0cBAGoe7GOJ8Whl1AauRRwhFfPAjq9VPuZBxMFOQkYVp0TGP6buMolncdRZC1M3lxxYns7lSYw9W6dPNuZCiqlP7GipD2CpKhXoliw6qGJkQLFqxGB2wrcgJCpoaEMhQ1CKe6ly6A0DUSUXqXOlOBYlHGvZCGVRL7ZCWUUp3eXLiBXy7ey8IUPIZD',\n",
       "   'video_broadcasts': 'https://graph.facebook.com/v2.9/10152636101046117/video_broadcasts?access_token=EAACEdEose0cBAGoe7GOJ8Whl1AauRRwhFfPAjq9VPuZBxMFOQkYVp0TGP6buMolncdRZC1M3lxxYns7lSYw9W6dPNuZCiqlP7GipD2CpKhXoliw6qGJkQLFqxGB2wrcgJCpoaEMhQ1CKe6ly6A0DUSUXqXOlOBYlHGvZCGVRL7ZCWUUp3eXLiBXy7ey8IUPIZD',\n",
       "   'videos': 'https://graph.facebook.com/v2.9/10152636101046117/videos?access_token=EAACEdEose0cBAGoe7GOJ8Whl1AauRRwhFfPAjq9VPuZBxMFOQkYVp0TGP6buMolncdRZC1M3lxxYns7lSYw9W6dPNuZCiqlP7GipD2CpKhXoliw6qGJkQLFqxGB2wrcgJCpoaEMhQ1CKe6ly6A0DUSUXqXOlOBYlHGvZCGVRL7ZCWUUp3eXLiBXy7ey8IUPIZD'},\n",
       "  'fields': [{'description': \"The id of this person's user account. This ID is unique to each app and cannot be used across different apps. [Our upgrade guide provides more information about app-specific IDs](/docs/apps/upgrading/#upgrading_v2_0_user_ids)\",\n",
       "    'name': 'id',\n",
       "    'type': 'numeric string'},\n",
       "   {'description': 'Equivalent to the `bio` field',\n",
       "    'name': 'about',\n",
       "    'type': 'string'},\n",
       "   {'description': 'Notes added by viewing page on this person',\n",
       "    'name': 'admin_notes',\n",
       "    'type': 'list<pageadminnote>'},\n",
       "   {'description': 'The age segment for this person expressed as a minimum and maximum age. For example, more than 18, less than 21.',\n",
       "    'name': 'age_range',\n",
       "    'type': 'agerange'},\n",
       "   {'description': \"The person's birthday.  This is a fixed format string, like `MM/DD/YYYY`.  However, people can control who can see the year they were born separately from the month and day so this string can be only the year (YYYY) or the month + day (MM/DD)\",\n",
       "    'name': 'birthday',\n",
       "    'type': 'string'},\n",
       "   {'description': 'Can the person review brand polls',\n",
       "    'name': 'can_review_measurement_request',\n",
       "    'type': 'bool'},\n",
       "   {'description': 'Social context for this person',\n",
       "    'name': 'context',\n",
       "    'type': 'usercontext'},\n",
       "   {'description': \"The person's cover photo\",\n",
       "    'name': 'cover',\n",
       "    'type': 'coverphoto'},\n",
       "   {'description': \"The person's local currency information\",\n",
       "    'name': 'currency',\n",
       "    'type': 'currency'},\n",
       "   {'description': 'The list of devices the person is using. This will return only iOS and Android devices',\n",
       "    'name': 'devices',\n",
       "    'type': 'list<userdevice>'},\n",
       "   {'description': \"The person's education\",\n",
       "    'name': 'education',\n",
       "    'type': 'list<educationexperience>'},\n",
       "   {'description': \"The person's primary email address listed on their profile. This field will not be returned if no valid email address is available\",\n",
       "    'name': 'email',\n",
       "    'type': 'string'},\n",
       "   {'description': \"The person's employee number, as set by the company via SCIM API\",\n",
       "    'name': 'employee_number',\n",
       "    'type': 'string'},\n",
       "   {'description': 'Athletes the person likes',\n",
       "    'name': 'favorite_athletes',\n",
       "    'type': 'list<experience>'},\n",
       "   {'description': 'Sports teams the person likes',\n",
       "    'name': 'favorite_teams',\n",
       "    'type': 'list<experience>'},\n",
       "   {'description': \"The person's first name\",\n",
       "    'name': 'first_name',\n",
       "    'type': 'string'},\n",
       "   {'description': 'The gender selected by this person, `male` or `female`. If the gender is set to a custom value, this value will be based off of the preferred pronoun; it will be omitted if the preferred preferred pronoun is neutral',\n",
       "    'name': 'gender',\n",
       "    'type': 'string'},\n",
       "   {'description': \"The person's hometown\",\n",
       "    'name': 'hometown',\n",
       "    'type': 'page'},\n",
       "   {'description': \"The person's inspirational people\",\n",
       "    'name': 'inspirational_people',\n",
       "    'type': 'list<experience>'},\n",
       "   {'description': 'Install type', 'name': 'install_type', 'type': 'enum'},\n",
       "   {'description': 'Is the app making the request installed?',\n",
       "    'name': 'installed',\n",
       "    'type': 'bool'},\n",
       "   {'description': 'Genders the person is interested in',\n",
       "    'name': 'interested_in',\n",
       "    'type': 'list<string>'},\n",
       "   {'description': 'Is this a shared login (e.g. a gray user)',\n",
       "    'name': 'is_shared_login',\n",
       "    'type': 'bool'},\n",
       "   {'description': \"People with large numbers of followers can have the authenticity of their identity [manually verified by Facebook](https://www.facebook.com/help/196050490547892). This field indicates whether the person's profile is verified in this way. This is distinct from the `verified` field\",\n",
       "    'name': 'is_verified',\n",
       "    'type': 'bool'},\n",
       "   {'description': 'Labels applied by viewing page on this person',\n",
       "    'name': 'labels',\n",
       "    'type': 'list<pagelabel>'},\n",
       "   {'description': 'Facebook Pages representing the languages this person knows',\n",
       "    'name': 'languages',\n",
       "    'type': 'list<experience>'},\n",
       "   {'description': \"The person's last name\",\n",
       "    'name': 'last_name',\n",
       "    'type': 'string'},\n",
       "   {'description': \"A link to the person's Timeline\",\n",
       "    'name': 'link',\n",
       "    'type': 'string'},\n",
       "   {'description': \"The person's locale\", 'name': 'locale', 'type': 'string'},\n",
       "   {'description': \"The person's current location as entered by them on their profile. This field is not related to check-ins\",\n",
       "    'name': 'location',\n",
       "    'type': 'page'},\n",
       "   {'description': 'What the person is interested in meeting for',\n",
       "    'name': 'meeting_for',\n",
       "    'type': 'list<string>'},\n",
       "   {'description': \"The person's middle name\",\n",
       "    'name': 'middle_name',\n",
       "    'type': 'string'},\n",
       "   {'description': \"The person's full name\", 'name': 'name', 'type': 'string'},\n",
       "   {'description': \"The person's name formatted to correctly handle Chinese, Japanese, or Korean ordering\",\n",
       "    'name': 'name_format',\n",
       "    'type': 'string'},\n",
       "   {'description': \"The person's payment pricepoints\",\n",
       "    'name': 'payment_pricepoints',\n",
       "    'type': 'paymentpricepoints'},\n",
       "   {'description': \"The person's political views\",\n",
       "    'name': 'political',\n",
       "    'type': 'string'},\n",
       "   {'description': \"The person's PGP public key\",\n",
       "    'name': 'public_key',\n",
       "    'type': 'string'},\n",
       "   {'description': \"The person's favorite quotes\",\n",
       "    'name': 'quotes',\n",
       "    'type': 'string'},\n",
       "   {'description': \"The person's relationship status\",\n",
       "    'name': 'relationship_status',\n",
       "    'type': 'string'},\n",
       "   {'description': \"The person's religion\",\n",
       "    'name': 'religion',\n",
       "    'type': 'string'},\n",
       "   {'description': 'Security settings',\n",
       "    'name': 'security_settings',\n",
       "    'type': 'securitysettings'},\n",
       "   {'description': 'The time that the shared loginneeds to be upgraded to Business Manager by',\n",
       "    'name': 'shared_login_upgrade_required_by',\n",
       "    'type': 'datetime'},\n",
       "   {'description': 'Shortened, locale-aware name for the person',\n",
       "    'name': 'short_name',\n",
       "    'type': 'string'},\n",
       "   {'description': \"The person's significant other\",\n",
       "    'name': 'significant_other',\n",
       "    'type': 'user'},\n",
       "   {'description': 'Sports played by the person',\n",
       "    'name': 'sports',\n",
       "    'type': 'list<experience>'},\n",
       "   {'description': 'Platform test group',\n",
       "    'name': 'test_group',\n",
       "    'type': 'unsigned int32'},\n",
       "   {'description': 'A string containing an anonymous, but unique identifier for the person. You can use this identifier with third parties',\n",
       "    'name': 'third_party_id',\n",
       "    'type': 'string'},\n",
       "   {'description': \"The person's current timezone offset from UTC\",\n",
       "    'name': 'timezone',\n",
       "    'type': 'float (min: -24) (max: 24)'},\n",
       "   {'description': \"A token that is the same across a business's apps. Access to this token requires that the person be logged into your app or have a role on your app. This token will change if the business owning the app changes\",\n",
       "    'name': 'token_for_business',\n",
       "    'type': 'string'},\n",
       "   {'description': 'Updated time', 'name': 'updated_time', 'type': 'datetime'},\n",
       "   {'description': 'Indicates whether the account has been verified. This is distinct from the `is_verified` field. Someone is considered verified if they take any of the following actions:\\n\\n* Register for mobile\\n* Confirm their account via SMS\\n* Enter a valid credit card\\n',\n",
       "    'name': 'verified',\n",
       "    'type': 'bool'},\n",
       "   {'description': 'Video upload limits',\n",
       "    'name': 'video_upload_limits',\n",
       "    'type': 'videouploadlimits'},\n",
       "   {'description': 'Can the viewer send a gift to this person?',\n",
       "    'name': 'viewer_can_send_gift',\n",
       "    'type': 'bool'},\n",
       "   {'description': \"The person's website\",\n",
       "    'name': 'website',\n",
       "    'type': 'string'},\n",
       "   {'description': 'Details of a person`s work experience',\n",
       "    'name': 'work',\n",
       "    'type': 'list<workexperience>'}],\n",
       "  'type': 'user'},\n",
       " 'name': 'Ricardo Alanis'}"
      ]
     },
     "execution_count": 41,
     "metadata": {},
     "output_type": "execute_result"
    }
   ],
   "source": [
    "facebook_request(\"/me/\", {\"metadata\":\"1\"})"
   ]
  },
  {
   "cell_type": "markdown",
   "metadata": {},
   "source": [
    "Cada objeto en facebook tiene un lugar en la API. La mayoría de las cosas sabrosas de la Red Social están en páginas. Vamos a consultar Aristegui:"
   ]
  },
  {
   "cell_type": "code",
   "execution_count": 42,
   "metadata": {},
   "outputs": [
    {
     "data": {
      "text/plain": [
       "{'id': '183919588401049', 'name': 'Aristegui Noticias'}"
      ]
     },
     "execution_count": 42,
     "metadata": {},
     "output_type": "execute_result"
    }
   ],
   "source": [
    "facebook_request(\"/AristeguiOnline/\", {})"
   ]
  },
  {
   "cell_type": "markdown",
   "metadata": {},
   "source": [
    "Estos objetos son generalmente números o strings muy largos"
   ]
  },
  {
   "cell_type": "code",
   "execution_count": 43,
   "metadata": {},
   "outputs": [
    {
     "data": {
      "text/plain": [
       "{'id': '183919588401049', 'name': 'Aristegui Noticias'}"
      ]
     },
     "execution_count": 43,
     "metadata": {},
     "output_type": "execute_result"
    }
   ],
   "source": [
    "facebook_request(\"/183919588401049/\", {})"
   ]
  },
  {
   "cell_type": "code",
   "execution_count": 44,
   "metadata": {},
   "outputs": [
    {
     "data": {
      "text/plain": [
       "{'data': [{'created_time': '2017-05-19T04:20:05+0000',\n",
       "   'id': '183919588401049_1405281509598178',\n",
       "   'message': 'El último concierto de #ChrisCornell #Video 📽 en #Aristegui 👉  http://ow.ly/Tqjc30bQyCD'},\n",
       "  {'created_time': '2017-05-19T04:10:03+0000',\n",
       "   'id': '183919588401049_1405276292932033',\n",
       "   'message': 'Asegura Marco Fabián que el Tricolor le puede pegar a cualquiera http://ow.ly/GiJr30bQQ1h'},\n",
       "  {'created_time': '2017-05-19T04:05:03+0000',\n",
       "   'id': '183919588401049_1405273859598943',\n",
       "   'message': '#InvestigaciónEspecial: Así instruyeron a priistas en el #Edomex para responder a adversarios 👉 \\u200fhttp://ow.ly/yufA30bPXHc'},\n",
       "  {'created_time': '2017-05-19T04:00:15+0000',\n",
       "   'id': '183919588401049_1405271356265860',\n",
       "   'message': 'Firma Conor McGregor 🥋 el contrato…. ¡falta Floyd Mayweather Jr🥊! #Video 📽 en #Aristegui 👉 http://ow.ly/bo6830bQydp'},\n",
       "  {'created_time': '2017-05-19T03:59:33+0000',\n",
       "   'id': '183919588401049_1405270866265909',\n",
       "   'message': 'Liga MX: Sale Chivas bien libradas del Nemesio Díez (Video) http://ow.ly/6UMC30bR8Hw'},\n",
       "  {'created_time': '2017-05-19T03:45:51+0000',\n",
       "   'id': '183919588401049_1405261589600170',\n",
       "   'message': '¡Que vivan los Museos! (Video) http://ow.ly/mQbb30bQN9h'},\n",
       "  {'created_time': '2017-05-19T03:40:05+0000',\n",
       "   'id': '183919588401049_1405259079600421',\n",
       "   'message': '. @Banxico sube tasa de referencia a 6.75 por ciento http://ow.ly/G3Ep30bQy0h'},\n",
       "  {'created_time': '2017-05-19T03:26:43+0000',\n",
       "   'id': '183919588401049_1405253366267659',\n",
       "   'message': 'Si se confirma alguno de los rumores, comenzaría “proceso de destitución de Trump”: Gerardo Rodríguez en CNN http://ow.ly/Yf4R30bQNHU'},\n",
       "  {'created_time': '2017-05-19T03:20:05+0000',\n",
       "   'id': '183919588401049_1405250729601256',\n",
       "   'message': 'Congreso de EU debe investigar verdaderas razones del despido de Comey: diario de Canadá http://ow.ly/EV8B30bQx7f'},\n",
       "  {'created_time': '2017-05-19T03:10:03+0000',\n",
       "   'id': '183919588401049_1405246056268390',\n",
       "   'message': 'En 2018 no habrá alianzas con condiciones, dice Arturo Núñez; PRD-PAN, escenario posible http://ow.ly/CbFv30bR4YB'},\n",
       "  {'created_time': '2017-05-19T03:00:16+0000',\n",
       "   'id': '183919588401049_1405241216268874',\n",
       "   'message': '.@LVidegaray pide renegociación trilateral del #TLCAN http://ow.ly/ref130bQwWR'},\n",
       "  {'created_time': '2017-05-19T03:00:16+0000',\n",
       "   'id': '183919588401049_1405241222935540',\n",
       "   'message': 'Esto es todo lo que le robaron a @MolotovBanda #Fotos 📸 en #Aristegui 👉 http://ow.ly/qX1e30bQqZp'},\n",
       "  {'created_time': '2017-05-19T02:44:46+0000',\n",
       "   'id': '183919588401049_1405220959604233',\n",
       "   'message': 'Acusado de agredir a cura, inimputable; va a Centro de Readaptación Psicosocial http://ow.ly/iL3F30bR4Uz'},\n",
       "  {'created_time': '2017-05-19T02:44:26+0000',\n",
       "   'id': '183919588401049_1405220552937607',\n",
       "   'message': 'Acusado de agredir a cura, inimputable; va a Centro de Readaptación Psicosocial http://ow.ly/iL3F30bR4Uz'},\n",
       "  {'created_time': '2017-05-19T02:40:09+0000',\n",
       "   'id': '183919588401049_1405218439604485',\n",
       "   'message': 'Este director técnico perdió su empleo por no saber hablar inglés ⚽️ #Deportes #Video 📽 en #Aristegui 👉 http://ow.ly/twPa30bQvxm'},\n",
       "  {'created_time': '2017-05-19T02:20:03+0000',\n",
       "   'id': '183919588401049_1405208196272176',\n",
       "   'message': 'Vázquez Mota denuncia ante Fepade a Fundación Colosio por compra de votos http://ow.ly/Z4bm30bR3pR'},\n",
       "  {'created_time': '2017-05-19T02:15:03+0000',\n",
       "   'id': '183919588401049_1405205566272439',\n",
       "   'message': 'Enfermeras de Chiapas llevan 18 días de huelga de hambre http://ow.ly/eaVp30bR3fq'},\n",
       "  {'created_time': '2017-05-19T02:06:28+0000',\n",
       "   'id': '183919588401049_1405200012939661',\n",
       "   'message': 'Investigan a policías de Zihuatanejo ‘infiltrados’ por narco; familiares y alcalde lo niegan http://ow.ly/zKkZ30bR3bp'},\n",
       "  {'created_time': '2017-05-19T02:00:28+0000',\n",
       "   'id': '183919588401049_1405196299606699',\n",
       "   'message': '44 muertos en Venezuela tras seis semanas de violencia http://ow.ly/peTq30bQvoC'},\n",
       "  {'created_time': '2017-05-19T01:36:48+0000',\n",
       "   'id': '183919588401049_1405185036274492',\n",
       "   'message': '“Hay una necesidad imperiosa de terminar con la impunidad” en México: Carlos Lauría del @CPJAmericas #Video 📽 http://ow.ly/5btU30bQuIZ'},\n",
       "  {'created_time': '2017-05-19T01:30:05+0000',\n",
       "   'id': '183919588401049_1405181986274797',\n",
       "   'message': 'Revelan imágenes de la embestida de automóvil en NY http://ow.ly/TdyK30bQWsP\\ufeff (Video con imágenes fuertes)'},\n",
       "  {'created_time': '2017-05-19T01:26:56+0000',\n",
       "   'id': '183919588401049_1405180176274978',\n",
       "   'message': '#Rulfo100Años La lente poética de Juan Rulfo http://ow.ly/qCaG30bR1Aj'},\n",
       "  {'created_time': '2017-05-19T01:20:05+0000',\n",
       "   'id': '183919588401049_1405176456275350',\n",
       "   'message': 'Al menos 16 estados, con temperaturas de más de 40 grados Celsius  http://ow.ly/h4cg30bQqhH'},\n",
       "  {'created_time': '2017-05-19T01:00:18+0000',\n",
       "   'id': '183919588401049_1405164292943233',\n",
       "   'message': 'Chelsea Manning revela su rostro tras salir de prisión #Foto 📸  en #Aristegui 👉 http://ow.ly/8nsJ30bQq7h'},\n",
       "  {'created_time': '2017-05-19T00:40:08+0000',\n",
       "   'id': '183919588401049_1405152216277774',\n",
       "   'message': 'Medidas de @EPN podrían desencadenar más riesgos para periodistas: @DanielareaRea #LoMejor #Video 📽 en #Aristegui 👉 http://ow.ly/CWcb30bQnVK'}],\n",
       " 'paging': {'cursors': {'after': 'Q2c4U1pXNTBYM0YxWlhKNVgzTjBiM0o1WDJsa0R5TXhPRE01TVRrMU9EZAzBNREV3TkRrNkxUYzFNek0xTmpNME56SXdORGt4TVRRMU5ROE1ZAWEJwWDNOMGIzSjVYMmxrRHlBeE9ETTVNVGsxT0RnME1ERXdORGxmTVRRd05URTFNakl4TmpJM056YzNOQThFZAEdsdFpRWlpIajdvQVE9PQZDZD',\n",
       "   'before': 'Q2c4U1pXNTBYM0YxWlhKNVgzTjBiM0o1WDJsa0R5UXhPRE01TVRrMU9EZAzBNREV3TkRrNkxUa3hNRFkzTURFNU5UZAzNNakkxTkRNME16Y1BER0ZA3YVY5emRHOXllVjlwWkE4ZA01UZA3pPVEU1TlRnNE5EQXhNRFE1WHpFME1EVXlPREUxTURrMU9UZA3hOemdQQkhScGJXVUdXUjV5ZAFFFPQZDZD'},\n",
       "  'next': 'https://graph.facebook.com/v2.9/183919588401049/feed?access_token=EAACEdEose0cBAGoe7GOJ8Whl1AauRRwhFfPAjq9VPuZBxMFOQkYVp0TGP6buMolncdRZC1M3lxxYns7lSYw9W6dPNuZCiqlP7GipD2CpKhXoliw6qGJkQLFqxGB2wrcgJCpoaEMhQ1CKe6ly6A0DUSUXqXOlOBYlHGvZCGVRL7ZCWUUp3eXLiBXy7ey8IUPIZD&limit=25&after=Q2c4U1pXNTBYM0YxWlhKNVgzTjBiM0o1WDJsa0R5TXhPRE01TVRrMU9EZAzBNREV3TkRrNkxUYzFNek0xTmpNME56SXdORGt4TVRRMU5ROE1ZAWEJwWDNOMGIzSjVYMmxrRHlBeE9ETTVNVGsxT0RnME1ERXdORGxmTVRRd05URTFNakl4TmpJM056YzNOQThFZAEdsdFpRWlpIajdvQVE9PQZDZD'}}"
      ]
     },
     "execution_count": 44,
     "metadata": {},
     "output_type": "execute_result"
    }
   ],
   "source": [
    "facebook_request(\"/183919588401049/feed\", {})"
   ]
  },
  {
   "cell_type": "code",
   "execution_count": 128,
   "metadata": {},
   "outputs": [
    {
     "name": "stdout",
     "output_type": "stream",
     "text": [
      "25\n",
      "100\n"
     ]
    }
   ],
   "source": [
    "#Podemos ayudarle a facebook a traernos más datos. De manera rápida podemos traernos más datos de un solo golpe\n",
    "data = facebook_request(\"/183919588401049/feed\", {})[\"data\"]\n",
    "print(len(data))\n",
    "data = facebook_request(\"/183919588401049/feed\", {\"limit\":\"100\"})[\"data\"]\n",
    "print(len(data))\n",
    "# También, vale la pena que veas los links a los siguientes comentarios que vienen abajo."
   ]
  },
  {
   "cell_type": "code",
   "execution_count": 45,
   "metadata": {},
   "outputs": [
    {
     "data": {
      "text/plain": [
       "{'error': {'code': 100,\n",
       "  'fbtrace_id': 'ANFgPcjajR2',\n",
       "  'message': '(#100) Tried accessing nonexisting field (feed) on node type (Post)',\n",
       "  'type': 'OAuthException'}}"
      ]
     },
     "execution_count": 45,
     "metadata": {},
     "output_type": "execute_result"
    }
   ],
   "source": [
    "#Cada uno de estos mensajes de aristegui, a su vez, es un objeto:\n",
    "facebook_request(\"/183919588401049_1405152216277774/feed\", {})"
   ]
  },
  {
   "cell_type": "code",
   "execution_count": 46,
   "metadata": {},
   "outputs": [
    {
     "data": {
      "text/plain": [
       "{'created_time': '2017-05-19T00:40:08+0000',\n",
       " 'id': '183919588401049_1405152216277774',\n",
       " 'message': 'Medidas de @EPN podrían desencadenar más riesgos para periodistas: @DanielareaRea #LoMejor #Video 📽 en #Aristegui 👉 http://ow.ly/CWcb30bQnVK'}"
      ]
     },
     "execution_count": 46,
     "metadata": {},
     "output_type": "execute_result"
    }
   ],
   "source": [
    "#Oh, tratamos de traernos la acción feed sobre un post. Error.\n",
    "facebook_request(\"/183919588401049_1405152216277774\", {})"
   ]
  },
  {
   "cell_type": "code",
   "execution_count": 50,
   "metadata": {},
   "outputs": [
    {
     "data": {
      "text/plain": [
       "{'created_time': '2017-05-19T00:40:08+0000',\n",
       " 'id': '183919588401049_1405152216277774',\n",
       " 'message': 'Medidas de @EPN podrían desencadenar más riesgos para periodistas: @DanielareaRea #LoMejor #Video 📽 en #Aristegui 👉 http://ow.ly/CWcb30bQnVK',\n",
       " 'metadata': {'connections': {'attachments': 'https://graph.facebook.com/v2.9/183919588401049_1405152216277774/attachments?access_token=EAACEdEose0cBAGoe7GOJ8Whl1AauRRwhFfPAjq9VPuZBxMFOQkYVp0TGP6buMolncdRZC1M3lxxYns7lSYw9W6dPNuZCiqlP7GipD2CpKhXoliw6qGJkQLFqxGB2wrcgJCpoaEMhQ1CKe6ly6A0DUSUXqXOlOBYlHGvZCGVRL7ZCWUUp3eXLiBXy7ey8IUPIZD',\n",
       "   'comments': 'https://graph.facebook.com/v2.9/183919588401049_1405152216277774/comments?access_token=EAACEdEose0cBAGoe7GOJ8Whl1AauRRwhFfPAjq9VPuZBxMFOQkYVp0TGP6buMolncdRZC1M3lxxYns7lSYw9W6dPNuZCiqlP7GipD2CpKhXoliw6qGJkQLFqxGB2wrcgJCpoaEMhQ1CKe6ly6A0DUSUXqXOlOBYlHGvZCGVRL7ZCWUUp3eXLiBXy7ey8IUPIZD',\n",
       "   'dynamic_posts': 'https://graph.facebook.com/v2.9/183919588401049_1405152216277774/dynamic_posts?access_token=EAACEdEose0cBAGoe7GOJ8Whl1AauRRwhFfPAjq9VPuZBxMFOQkYVp0TGP6buMolncdRZC1M3lxxYns7lSYw9W6dPNuZCiqlP7GipD2CpKhXoliw6qGJkQLFqxGB2wrcgJCpoaEMhQ1CKe6ly6A0DUSUXqXOlOBYlHGvZCGVRL7ZCWUUp3eXLiBXy7ey8IUPIZD',\n",
       "   'insights': 'https://graph.facebook.com/v2.9/183919588401049_1405152216277774/insights?access_token=EAACEdEose0cBAGoe7GOJ8Whl1AauRRwhFfPAjq9VPuZBxMFOQkYVp0TGP6buMolncdRZC1M3lxxYns7lSYw9W6dPNuZCiqlP7GipD2CpKhXoliw6qGJkQLFqxGB2wrcgJCpoaEMhQ1CKe6ly6A0DUSUXqXOlOBYlHGvZCGVRL7ZCWUUp3eXLiBXy7ey8IUPIZD',\n",
       "   'likes': 'https://graph.facebook.com/v2.9/183919588401049_1405152216277774/likes?access_token=EAACEdEose0cBAGoe7GOJ8Whl1AauRRwhFfPAjq9VPuZBxMFOQkYVp0TGP6buMolncdRZC1M3lxxYns7lSYw9W6dPNuZCiqlP7GipD2CpKhXoliw6qGJkQLFqxGB2wrcgJCpoaEMhQ1CKe6ly6A0DUSUXqXOlOBYlHGvZCGVRL7ZCWUUp3eXLiBXy7ey8IUPIZD',\n",
       "   'reactions': 'https://graph.facebook.com/v2.9/183919588401049_1405152216277774/reactions?access_token=EAACEdEose0cBAGoe7GOJ8Whl1AauRRwhFfPAjq9VPuZBxMFOQkYVp0TGP6buMolncdRZC1M3lxxYns7lSYw9W6dPNuZCiqlP7GipD2CpKhXoliw6qGJkQLFqxGB2wrcgJCpoaEMhQ1CKe6ly6A0DUSUXqXOlOBYlHGvZCGVRL7ZCWUUp3eXLiBXy7ey8IUPIZD',\n",
       "   'sharedposts': 'https://graph.facebook.com/v2.9/183919588401049_1405152216277774/sharedposts?access_token=EAACEdEose0cBAGoe7GOJ8Whl1AauRRwhFfPAjq9VPuZBxMFOQkYVp0TGP6buMolncdRZC1M3lxxYns7lSYw9W6dPNuZCiqlP7GipD2CpKhXoliw6qGJkQLFqxGB2wrcgJCpoaEMhQ1CKe6ly6A0DUSUXqXOlOBYlHGvZCGVRL7ZCWUUp3eXLiBXy7ey8IUPIZD',\n",
       "   'sponsor_tags': 'https://graph.facebook.com/v2.9/183919588401049_1405152216277774/sponsor_tags?access_token=EAACEdEose0cBAGoe7GOJ8Whl1AauRRwhFfPAjq9VPuZBxMFOQkYVp0TGP6buMolncdRZC1M3lxxYns7lSYw9W6dPNuZCiqlP7GipD2CpKhXoliw6qGJkQLFqxGB2wrcgJCpoaEMhQ1CKe6ly6A0DUSUXqXOlOBYlHGvZCGVRL7ZCWUUp3eXLiBXy7ey8IUPIZD',\n",
       "   'to': 'https://graph.facebook.com/v2.9/183919588401049_1405152216277774/to?access_token=EAACEdEose0cBAGoe7GOJ8Whl1AauRRwhFfPAjq9VPuZBxMFOQkYVp0TGP6buMolncdRZC1M3lxxYns7lSYw9W6dPNuZCiqlP7GipD2CpKhXoliw6qGJkQLFqxGB2wrcgJCpoaEMhQ1CKe6ly6A0DUSUXqXOlOBYlHGvZCGVRL7ZCWUUp3eXLiBXy7ey8IUPIZD',\n",
       "   'with_tags': 'https://graph.facebook.com/v2.9/183919588401049_1405152216277774/with_tags?access_token=EAACEdEose0cBAGoe7GOJ8Whl1AauRRwhFfPAjq9VPuZBxMFOQkYVp0TGP6buMolncdRZC1M3lxxYns7lSYw9W6dPNuZCiqlP7GipD2CpKhXoliw6qGJkQLFqxGB2wrcgJCpoaEMhQ1CKe6ly6A0DUSUXqXOlOBYlHGvZCGVRL7ZCWUUp3eXLiBXy7ey8IUPIZD'},\n",
       "  'fields': [{'description': 'The post ID',\n",
       "    'name': 'id',\n",
       "    'type': 'token with structure: post id'},\n",
       "   {'description': 'Action links', 'name': 'actions', 'type': 'list'},\n",
       "   {'description': 'The admin creator of a Page Post. A page access token is required to access this field.',\n",
       "    'name': 'admin_creator'},\n",
       "   {'description': 'Objectives under which this post can be advertised',\n",
       "    'name': 'allowed_advertising_objectives',\n",
       "    'type': 'list<string>'},\n",
       "   {'description': 'Information about the app this post was published by.',\n",
       "    'name': 'application',\n",
       "    'type': 'application'},\n",
       "   {'description': 'The backdated time for backdate post. For regular post, this field will be set to null.',\n",
       "    'name': 'backdated_time',\n",
       "    'type': 'datetime'},\n",
       "   {'description': 'The call to action type used in any Page posts for mobile app engagement ads.',\n",
       "    'name': 'call_to_action',\n",
       "    'type': 'struct with keys: type, value'},\n",
       "   {'description': 'The caption of a link in the post (appears beneath the name).',\n",
       "    'name': 'caption',\n",
       "    'type': 'string'},\n",
       "   {'description': 'Sub-shares of a multi-link share post',\n",
       "    'name': 'child_attachments',\n",
       "    'type': 'list'},\n",
       "   {'description': 'If comments are being mirrored to an external site, this function returns the domain of that external site.',\n",
       "    'name': 'comments_mirroring_domain',\n",
       "    'type': 'string'},\n",
       "   {'description': 'An array of information about the attachment to the post',\n",
       "    'name': 'coordinates',\n",
       "    'type': 'struct with keys: checkin_id, author_uid, page_id, target_id, target_href, coords, tagged_uids, timestamp, message, target_type'},\n",
       "   {'description': 'The time the post was published, expressed as UNIX timestamp',\n",
       "    'name': 'created_time',\n",
       "    'type': 'datetime'},\n",
       "   {'description': 'A description of a link in the post (appears beneath the caption).',\n",
       "    'name': 'description',\n",
       "    'type': 'string'},\n",
       "   {'description': 'If this Post has a place, the event associated with the place',\n",
       "    'name': 'event',\n",
       "    'type': 'event'},\n",
       "   {'description': 'An array of information about the attachment to the post',\n",
       "    'name': 'expanded_height',\n",
       "    'type': 'unsigned int32'},\n",
       "   {'description': 'An array of information about the attachment to the post',\n",
       "    'name': 'expanded_width',\n",
       "    'type': 'unsigned int32'},\n",
       "   {'description': 'Object that controls news feed targeting for this post. Anyone in these groups will be more likely to see this post, others will be less likely, but may still see it anyway. Any of the targeting fields shown here can be used, none are required (applies to Pages only).',\n",
       "    'name': 'feed_targeting',\n",
       "    'type': 'struct with keys: country, cities, regions, genders, age_min, age_max, education_statuses, college_years, relationship_statuses, interests, interested_in, user_adclusters, locales, countries, geo_locations, work_positions, work_employers, education_majors, education_schools, family_statuses, life_events, industries, politics, ethnic_affinity, generation, fan_of, relevant_until_ts'},\n",
       "   {'description': 'The ID of the user, page, group, or event that published the post',\n",
       "    'name': 'from',\n",
       "    'type': 'user|page'},\n",
       "   {'description': 'Full size picture from attachment',\n",
       "    'name': 'full_picture',\n",
       "    'type': 'string'},\n",
       "   {'description': 'An array of information about the attachment to the post',\n",
       "    'name': 'height',\n",
       "    'type': 'unsigned int32'},\n",
       "   {'description': 'A link to an icon representing the type of this post.',\n",
       "    'name': 'icon',\n",
       "    'type': 'string'},\n",
       "   {'description': 'Whether the post can be promoted on Instagram. It returns the enum \"eligible\" if it can be promoted.  Otherwise it returns an enum for why it cannot be promoted',\n",
       "    'name': 'instagram_eligibility',\n",
       "    'type': 'enum'},\n",
       "   {'description': 'Whether or not the post references an app',\n",
       "    'name': 'is_app_share',\n",
       "    'type': 'bool'},\n",
       "   {'description': 'Whether the post has expiration time that has passed',\n",
       "    'name': 'is_expired',\n",
       "    'type': 'bool'},\n",
       "   {'description': 'Whether a post has been set to hidden',\n",
       "    'name': 'is_hidden',\n",
       "    'type': 'bool'},\n",
       "   {'description': 'Whether this post can be promoted in Instagram',\n",
       "    'name': 'is_instagram_eligible',\n",
       "    'type': 'bool'},\n",
       "   {'description': 'Whether the post is currently popular. Based on whether the total actions as a percentage of reach exceeds a certain threshold',\n",
       "    'name': 'is_popular',\n",
       "    'type': 'bool'},\n",
       "   {'description': 'Indicates whether a scheduled post was published (applies to scheduled Page Post only, for users post and instanlty published posts this value is always true)',\n",
       "    'name': 'is_published',\n",
       "    'type': 'bool'},\n",
       "   {'description': 'Whether the post is a spherical video post',\n",
       "    'name': 'is_spherical',\n",
       "    'type': 'bool'},\n",
       "   {'description': 'The link attached to this post.',\n",
       "    'name': 'link',\n",
       "    'type': 'string'},\n",
       "   {'description': 'The message written in the post',\n",
       "    'name': 'message',\n",
       "    'type': 'string'},\n",
       "   {'description': 'Profiles tagged in message. This is an object with a unique key for each tag in the message',\n",
       "    'name': 'message_tags',\n",
       "    'type': 'list'},\n",
       "   {'description': 'Whether display the end card for a multi-link share post',\n",
       "    'name': 'multi_share_end_card',\n",
       "    'type': 'bool'},\n",
       "   {'description': 'Whether automatically select the order of the links in multi-link share post when used in an ad',\n",
       "    'name': 'multi_share_optimized',\n",
       "    'type': 'bool'},\n",
       "   {'description': 'The name of the link.', 'name': 'name', 'type': 'string'},\n",
       "   {'description': 'The ID of any uploaded photo or video attached to the post.',\n",
       "    'name': 'object_id',\n",
       "    'type': 'string'},\n",
       "   {'description': \"The ID of a parent post for this post, if it exists. For example, if this story is a 'Your Page was mentioned in a post' story, the parent_id will be the original post where the mention happened\",\n",
       "    'name': 'parent_id',\n",
       "    'type': 'token with structure: post id'},\n",
       "   {'description': 'The permanent static URL to the post on www.facebook.com. Example: https://www.facebook.com/FacebookforDevelopers/posts/10153449196353553',\n",
       "    'name': 'permalink_url',\n",
       "    'type': 'uri'},\n",
       "   {'description': 'The picture scraped from any link included with the post.',\n",
       "    'name': 'picture',\n",
       "    'type': 'string'},\n",
       "   {'description': 'ID of the place associated with the post',\n",
       "    'name': 'place',\n",
       "    'type': 'place'},\n",
       "   {'description': 'The privacy settings for a post',\n",
       "    'name': 'privacy',\n",
       "    'type': 'privacy'},\n",
       "   {'description': 'ID of post to use for promotion for stories that cannot be promoted directly',\n",
       "    'name': 'promotable_id',\n",
       "    'type': 'token with structure: post id'},\n",
       "   {'description': 'Status of the promotion, if the post was promoted',\n",
       "    'name': 'promotion_status',\n",
       "    'type': 'string'},\n",
       "   {'description': 'A list of properties for any attached video, for example, the length of the video.',\n",
       "    'name': 'properties',\n",
       "    'type': 'list'},\n",
       "   {'description': 'UNIX timestamp of the scheduled publish time for the post',\n",
       "    'name': 'scheduled_publish_time',\n",
       "    'type': 'float'},\n",
       "   {'description': 'Number of times the post has been shared',\n",
       "    'name': 'shares',\n",
       "    'type': 'struct with keys: count'},\n",
       "   {'description': 'A URL to any Flash movie or video file attached to the post.',\n",
       "    'name': 'source',\n",
       "    'type': 'string'},\n",
       "   {'description': 'Description of the type of a status update.',\n",
       "    'name': 'status_type',\n",
       "    'type': 'string'},\n",
       "   {'description': 'Text of stories not intentionally generated by users, such as those generated when two users become friends. You must have the \"Include recent activity stories\" migration enabled in your app to retrieve this field',\n",
       "    'name': 'story',\n",
       "    'type': 'string'},\n",
       "   {'description': 'The list of tags in the post description',\n",
       "    'name': 'story_tags',\n",
       "    'type': 'list'},\n",
       "   {'description': 'Whether user is subscribed to the post',\n",
       "    'name': 'subscribed',\n",
       "    'type': 'bool'},\n",
       "   {'description': 'The profile this was posted on if different from the author',\n",
       "    'name': 'target',\n",
       "    'type': 'profile'},\n",
       "   {'description': 'Object that limited the audience for this content. Anyone not in these demographics will not be able to view this content. This will not override any Page-level demographic restrictions that may be in place.',\n",
       "    'name': 'targeting',\n",
       "    'type': 'struct with keys: country, cities, regions, zips, genders, college_networks, work_networks, age_min, age_max, education_statuses, college_years, college_majors, political_views, relationship_statuses, interests, keywords, interested_in, user_clusters, user_clusters2, user_clusters3, user_adclusters, excluded_user_adclusters, custom_audiences, excluded_custom_audiences, locales, radius, connections, excluded_connections, friends_of_connections, countries, excluded_user_clusters, adgroup_id, user_event, qrt_versions, page_types, user_os, user_device, action_spec, action_spec_friend, action_spec_excluded, geo_locations, excluded_geo_locations, targeted_entities, conjunctive_user_adclusters, rtb_flag, wireless_carrier, site_category, work_positions, work_employers, education_majors, education_schools, family_statuses, life_events, behaviors, travel_status, industries, politics, markets, income, net_worth, home_type, home_ownership, home_value, ethnic_affinity, generation, household_composition, moms, office_type, interest_clusters_expansion, dynamic_audience_ids, product_audience_specs, excluded_product_audience_specs, exclusions, flexible_spec, engagement_specs, excluded_engagement_specs'},\n",
       "   {'description': 'Timeline visibility information of the post',\n",
       "    'name': 'timeline_visibility',\n",
       "    'type': 'string'},\n",
       "   {'description': 'A string indicating the object type of this post.',\n",
       "    'name': 'type',\n",
       "    'type': 'string'},\n",
       "   {'description': 'The time the post was last updated, which occurs when a user comments on the post, expressed as a UNIX timestamp',\n",
       "    'name': 'updated_time',\n",
       "    'type': 'datetime'},\n",
       "   {'description': 'ID of the user or Page the post was shared from',\n",
       "    'name': 'via',\n",
       "    'type': 'user|page'},\n",
       "   {'description': 'An array of information about the attachment to the post',\n",
       "    'name': 'width',\n",
       "    'type': 'unsigned int32'}],\n",
       "  'type': 'post'}}"
      ]
     },
     "execution_count": 50,
     "metadata": {},
     "output_type": "execute_result"
    }
   ],
   "source": [
    "# ¿Qué le podemos hacer a un post?\n",
    "llamada_post = facebook_request(\"/183919588401049_1405152216277774\", {\"metadata\":\"1\"})\n",
    "llamada_post"
   ]
  },
  {
   "cell_type": "code",
   "execution_count": 51,
   "metadata": {},
   "outputs": [
    {
     "data": {
      "text/plain": [
       "dict_keys(['created_time', 'message', 'metadata', 'id'])"
      ]
     },
     "execution_count": 51,
     "metadata": {},
     "output_type": "execute_result"
    }
   ],
   "source": [
    "llamada_post.keys()"
   ]
  },
  {
   "cell_type": "code",
   "execution_count": 56,
   "metadata": {},
   "outputs": [
    {
     "name": "stdout",
     "output_type": "stream",
     "text": [
      "dict_keys(['fields', 'type', 'connections'])\n"
     ]
    }
   ],
   "source": [
    "print(llamada_post[\"metadata\"].keys())"
   ]
  },
  {
   "cell_type": "code",
   "execution_count": 57,
   "metadata": {},
   "outputs": [
    {
     "name": "stdout",
     "output_type": "stream",
     "text": [
      "dict_keys(['attachments', 'comments', 'dynamic_posts', 'insights', 'likes', 'reactions', 'sharedposts', 'sponsor_tags', 'to', 'with_tags'])\n"
     ]
    }
   ],
   "source": [
    "print(llamada_post[\"metadata\"][\"connections\"].keys())"
   ]
  },
  {
   "cell_type": "code",
   "execution_count": 64,
   "metadata": {},
   "outputs": [
    {
     "name": "stdout",
     "output_type": "stream",
     "text": [
      "['id', 'actions', 'admin_creator', 'allowed_advertising_objectives', 'application', 'backdated_time', 'call_to_action', 'caption', 'child_attachments', 'comments_mirroring_domain', 'coordinates', 'created_time', 'description', 'event', 'expanded_height', 'expanded_width', 'feed_targeting', 'from', 'full_picture', 'height', 'icon', 'instagram_eligibility', 'is_app_share', 'is_expired', 'is_hidden', 'is_instagram_eligible', 'is_popular', 'is_published', 'is_spherical', 'link', 'message', 'message_tags', 'multi_share_end_card', 'multi_share_optimized', 'name', 'object_id', 'parent_id', 'permalink_url', 'picture', 'place', 'privacy', 'promotable_id', 'promotion_status', 'properties', 'scheduled_publish_time', 'shares', 'source', 'status_type', 'story', 'story_tags', 'subscribed', 'target', 'targeting', 'timeline_visibility', 'type', 'updated_time', 'via', 'width']\n"
     ]
    }
   ],
   "source": [
    "# Cada una de estas es un link, es decir. Tiene una lista de objetos a su vez. Los campos, por otro lado, son cosas que nos podríamos traer del mismo objeto\n",
    "possible_fields = [field[\"name\"] for field in llamada_post[\"metadata\"][\"fields\"]]\n",
    "print([field[\"name\"] for field in llamada_post[\"metadata\"][\"fields\"]])"
   ]
  },
  {
   "cell_type": "code",
   "execution_count": 61,
   "metadata": {},
   "outputs": [
    {
     "data": {
      "text/plain": [
       "{'created_time': '2017-05-19T00:40:08+0000',\n",
       " 'id': '183919588401049_1405152216277774',\n",
       " 'message': 'Medidas de @EPN podrían desencadenar más riesgos para periodistas: @DanielareaRea #LoMejor #Video 📽 en #Aristegui 👉 http://ow.ly/CWcb30bQnVK'}"
      ]
     },
     "execution_count": 61,
     "metadata": {},
     "output_type": "execute_result"
    }
   ],
   "source": [
    "# Regresándonos a nuestro post anterior.\n",
    "facebook_request(\"/183919588401049_1405152216277774\", {})"
   ]
  },
  {
   "cell_type": "code",
   "execution_count": 62,
   "metadata": {},
   "outputs": [
    {
     "data": {
      "text/plain": [
       "{'id': '183919588401049_1405152216277774'}"
      ]
     },
     "execution_count": 62,
     "metadata": {},
     "output_type": "execute_result"
    }
   ],
   "source": [
    "facebook_request(\"/183919588401049_1405152216277774\", {\"fields\": \"id\"})"
   ]
  },
  {
   "cell_type": "code",
   "execution_count": 63,
   "metadata": {},
   "outputs": [
    {
     "data": {
      "text/plain": [
       "{'actions': [{'link': 'https://www.facebook.com/AristeguiOnline/posts/1405152216277774',\n",
       "   'name': 'Like'},\n",
       "  {'link': 'https://www.facebook.com/AristeguiOnline/posts/1405152216277774',\n",
       "   'name': 'Comment'},\n",
       "  {'link': 'https://www.facebook.com/AristeguiOnline/posts/1405152216277774',\n",
       "   'name': 'Share'}],\n",
       " 'id': '183919588401049_1405152216277774'}"
      ]
     },
     "execution_count": 63,
     "metadata": {},
     "output_type": "execute_result"
    }
   ],
   "source": [
    "facebook_request(\"/183919588401049_1405152216277774\", {\"fields\": \"id,actions\"})"
   ]
  },
  {
   "cell_type": "code",
   "execution_count": 69,
   "metadata": {},
   "outputs": [
    {
     "data": {
      "text/plain": [
       "{'actions': [{'link': 'https://www.facebook.com/AristeguiOnline/posts/1405152216277774',\n",
       "   'name': 'Like'},\n",
       "  {'link': 'https://www.facebook.com/AristeguiOnline/posts/1405152216277774',\n",
       "   'name': 'Comment'},\n",
       "  {'link': 'https://www.facebook.com/AristeguiOnline/posts/1405152216277774',\n",
       "   'name': 'Share'}],\n",
       " 'id': '183919588401049_1405152216277774',\n",
       " 'link': 'http://ow.ly/CWcb30bQnVK',\n",
       " 'message': 'Medidas de @EPN podrían desencadenar más riesgos para periodistas: @DanielareaRea #LoMejor #Video 📽 en #Aristegui 👉 http://ow.ly/CWcb30bQnVK',\n",
       " 'message_tags': []}"
      ]
     },
     "execution_count": 69,
     "metadata": {},
     "output_type": "execute_result"
    }
   ],
   "source": [
    "facebook_request(\"/183919588401049_1405152216277774\",{\"fields\": \"id,actions, link, message, message_tags\"})"
   ]
  },
  {
   "cell_type": "code",
   "execution_count": 83,
   "metadata": {},
   "outputs": [
    {
     "data": {
      "text/plain": [
       "{'data': [{'created_time': '2017-05-19T00:53:02+0000',\n",
       "   'from': {'id': '395946213925888', 'name': 'Héctor Eduardo Zaragoza A'},\n",
       "   'id': '1405152216277774_1405160319610297',\n",
       "   'message': 'Es que el Presidente no da una'},\n",
       "  {'created_time': '2017-05-19T02:29:44+0000',\n",
       "   'from': {'id': '124669261435539', 'name': 'Raul Serrano'},\n",
       "   'id': '1405152216277774_1405213626271633',\n",
       "   'message': 'POR KE NO LO KORREN SAKEN 1 LEY PERSONA INEPTA KE SE BAYA'}],\n",
       " 'paging': {'cursors': {'after': 'MQZDZD', 'before': 'MgZDZD'}}}"
      ]
     },
     "execution_count": 83,
     "metadata": {},
     "output_type": "execute_result"
    }
   ],
   "source": [
    "# Para saber la opinion de las personas sobre los posts de aristegui, solo hace falta ver los comentarios por publicación\n",
    "facebook_request(\"/183919588401049_1405152216277774/comments\")"
   ]
  },
  {
   "cell_type": "code",
   "execution_count": 84,
   "metadata": {},
   "outputs": [
    {
     "data": {
      "text/plain": [
       "{'created_time': '2017-05-19T00:53:02+0000',\n",
       " 'from': {'id': '395946213925888', 'name': 'Héctor Eduardo Zaragoza A'},\n",
       " 'id': '1405152216277774_1405160319610297',\n",
       " 'message': 'Es que el Presidente no da una'}"
      ]
     },
     "execution_count": 84,
     "metadata": {},
     "output_type": "execute_result"
    }
   ],
   "source": [
    "facebook_request(\"/1405152216277774_1405160319610297\")"
   ]
  },
  {
   "cell_type": "code",
   "execution_count": 90,
   "metadata": {
    "collapsed": true
   },
   "outputs": [],
   "source": [
    "# Y como sacamos el conteo de likes, shares y comments?\n",
    "# primero veamos una foto de aristegui:"
   ]
  },
  {
   "cell_type": "code",
   "execution_count": 91,
   "metadata": {},
   "outputs": [
    {
     "data": {
      "text/plain": [
       "{'id': '183919588401049', 'name': 'Aristegui Noticias'}"
      ]
     },
     "execution_count": 91,
     "metadata": {},
     "output_type": "execute_result"
    }
   ],
   "source": [
    "facebook_request(\"/183919588401049\")"
   ]
  },
  {
   "cell_type": "code",
   "execution_count": 93,
   "metadata": {},
   "outputs": [
    {
     "data": {
      "text/plain": [
       "{'data': [{'created_time': '2017-01-25T23:25:13+0000',\n",
       "   'id': '1275284042597926'},\n",
       "  {'created_time': '2014-02-20T12:30:03+0000', 'id': '469600783166260'},\n",
       "  {'created_time': '2013-10-17T18:19:51+0000', 'id': '402803369846002'},\n",
       "  {'created_time': '2012-08-08T22:15:32+0000', 'id': '213306675462340'},\n",
       "  {'created_time': '2012-06-01T03:15:31+0000', 'id': '183919798401028'}],\n",
       " 'paging': {'cursors': {'after': 'MTgzOTE5Nzk4NDAxMDI4',\n",
       "   'before': 'MTI3NTI4NDA0MjU5NzkyNgZDZD'}}}"
      ]
     },
     "execution_count": 93,
     "metadata": {},
     "output_type": "execute_result"
    }
   ],
   "source": [
    "facebook_request(\"/183919588401049/photos\")"
   ]
  },
  {
   "cell_type": "code",
   "execution_count": 96,
   "metadata": {},
   "outputs": [
    {
     "data": {
      "text/plain": [
       "{'created_time': '2017-01-25T23:25:13+0000',\n",
       " 'id': '1275284042597926',\n",
       " 'metadata': {'connections': {'comments': 'https://graph.facebook.com/v2.9/1275284042597926/comments?access_token=EAACEdEose0cBAGoe7GOJ8Whl1AauRRwhFfPAjq9VPuZBxMFOQkYVp0TGP6buMolncdRZC1M3lxxYns7lSYw9W6dPNuZCiqlP7GipD2CpKhXoliw6qGJkQLFqxGB2wrcgJCpoaEMhQ1CKe6ly6A0DUSUXqXOlOBYlHGvZCGVRL7ZCWUUp3eXLiBXy7ey8IUPIZD',\n",
       "   'insights': 'https://graph.facebook.com/v2.9/1275284042597926/insights?access_token=EAACEdEose0cBAGoe7GOJ8Whl1AauRRwhFfPAjq9VPuZBxMFOQkYVp0TGP6buMolncdRZC1M3lxxYns7lSYw9W6dPNuZCiqlP7GipD2CpKhXoliw6qGJkQLFqxGB2wrcgJCpoaEMhQ1CKe6ly6A0DUSUXqXOlOBYlHGvZCGVRL7ZCWUUp3eXLiBXy7ey8IUPIZD',\n",
       "   'likes': 'https://graph.facebook.com/v2.9/1275284042597926/likes?access_token=EAACEdEose0cBAGoe7GOJ8Whl1AauRRwhFfPAjq9VPuZBxMFOQkYVp0TGP6buMolncdRZC1M3lxxYns7lSYw9W6dPNuZCiqlP7GipD2CpKhXoliw6qGJkQLFqxGB2wrcgJCpoaEMhQ1CKe6ly6A0DUSUXqXOlOBYlHGvZCGVRL7ZCWUUp3eXLiBXy7ey8IUPIZD',\n",
       "   'reactions': 'https://graph.facebook.com/v2.9/1275284042597926/reactions?access_token=EAACEdEose0cBAGoe7GOJ8Whl1AauRRwhFfPAjq9VPuZBxMFOQkYVp0TGP6buMolncdRZC1M3lxxYns7lSYw9W6dPNuZCiqlP7GipD2CpKhXoliw6qGJkQLFqxGB2wrcgJCpoaEMhQ1CKe6ly6A0DUSUXqXOlOBYlHGvZCGVRL7ZCWUUp3eXLiBXy7ey8IUPIZD',\n",
       "   'sharedposts': 'https://graph.facebook.com/v2.9/1275284042597926/sharedposts?access_token=EAACEdEose0cBAGoe7GOJ8Whl1AauRRwhFfPAjq9VPuZBxMFOQkYVp0TGP6buMolncdRZC1M3lxxYns7lSYw9W6dPNuZCiqlP7GipD2CpKhXoliw6qGJkQLFqxGB2wrcgJCpoaEMhQ1CKe6ly6A0DUSUXqXOlOBYlHGvZCGVRL7ZCWUUp3eXLiBXy7ey8IUPIZD',\n",
       "   'sponsor_tags': 'https://graph.facebook.com/v2.9/1275284042597926/sponsor_tags?access_token=EAACEdEose0cBAGoe7GOJ8Whl1AauRRwhFfPAjq9VPuZBxMFOQkYVp0TGP6buMolncdRZC1M3lxxYns7lSYw9W6dPNuZCiqlP7GipD2CpKhXoliw6qGJkQLFqxGB2wrcgJCpoaEMhQ1CKe6ly6A0DUSUXqXOlOBYlHGvZCGVRL7ZCWUUp3eXLiBXy7ey8IUPIZD',\n",
       "   'tags': 'https://graph.facebook.com/v2.9/1275284042597926/tags?access_token=EAACEdEose0cBAGoe7GOJ8Whl1AauRRwhFfPAjq9VPuZBxMFOQkYVp0TGP6buMolncdRZC1M3lxxYns7lSYw9W6dPNuZCiqlP7GipD2CpKhXoliw6qGJkQLFqxGB2wrcgJCpoaEMhQ1CKe6ly6A0DUSUXqXOlOBYlHGvZCGVRL7ZCWUUp3eXLiBXy7ey8IUPIZD'},\n",
       "  'fields': [{'description': 'The photo ID',\n",
       "    'name': 'id',\n",
       "    'type': 'numeric string'},\n",
       "   {'description': 'The album this photo is in',\n",
       "    'name': 'album',\n",
       "    'type': 'album'},\n",
       "   {'description': 'A user-specified time for when this object was created',\n",
       "    'name': 'backdated_time',\n",
       "    'type': 'datetime'},\n",
       "   {'description': 'How accurate the backdated time is',\n",
       "    'name': 'backdated_time_granularity',\n",
       "    'type': 'enum'},\n",
       "   {'description': 'Indicates whether the viewer can backdate the photo',\n",
       "    'name': 'can_backdate',\n",
       "    'type': 'bool'},\n",
       "   {'description': 'Indicates whether the viewer can delete the photo',\n",
       "    'name': 'can_delete',\n",
       "    'type': 'bool'},\n",
       "   {'description': 'Indicates whether the viewer can tag the photo',\n",
       "    'name': 'can_tag',\n",
       "    'type': 'bool'},\n",
       "   {'description': 'The time this photo was published',\n",
       "    'name': 'created_time',\n",
       "    'type': 'datetime'},\n",
       "   {'description': 'If this object has a place, the event associated with the place',\n",
       "    'name': 'event',\n",
       "    'type': 'event'},\n",
       "   {'description': 'The profile (user or page) that uploaded this photo',\n",
       "    'name': 'from',\n",
       "    'type': 'user|page'},\n",
       "   {'description': 'The height of this photo in pixels',\n",
       "    'name': 'height',\n",
       "    'type': 'unsigned int32'},\n",
       "   {'description': 'The icon that Facebook displays when photos are published to News Feed',\n",
       "    'name': 'icon',\n",
       "    'type': 'string'},\n",
       "   {'description': 'The different stored representations of the photo. Can vary in number based upon the size of the original photo.',\n",
       "    'name': 'images',\n",
       "    'type': 'list<platformimagesource>'},\n",
       "   {'description': 'A link to the photo on Facebook',\n",
       "    'name': 'link',\n",
       "    'type': 'string'},\n",
       "   {'description': 'The user-provided caption given to this photo. Corresponds to `caption` when creating photos',\n",
       "    'name': 'name',\n",
       "    'type': 'string'},\n",
       "   {'description': 'An array containing an array of objects mentioned in the name field which contain the id, name, and type of each object as well as the offset and length which can be used to match it up with its corresponding string in the name field',\n",
       "    'name': 'name_tags',\n",
       "    'type': 'list<entityattextrange>'},\n",
       "   {'description': 'ID of the page story this corresponds to. May not be on all photos. Applies only to published photos',\n",
       "    'name': 'page_story_id',\n",
       "    'type': 'string'},\n",
       "   {'description': 'Link to the 100px wide representation of this photo',\n",
       "    'name': 'picture',\n",
       "    'type': 'string'},\n",
       "   {'description': 'Location associated with the photo, if any',\n",
       "    'name': 'place',\n",
       "    'type': 'place'},\n",
       "   {'description': 'The target this photo is published to',\n",
       "    'name': 'target',\n",
       "    'type': 'profile'},\n",
       "   {'description': 'The last time the photo was updated',\n",
       "    'name': 'updated_time',\n",
       "    'type': 'datetime'},\n",
       "   {'description': 'The different stored representations of the photo in webp format. Can vary in number based upon the size of the original photo.',\n",
       "    'name': 'webp_images',\n",
       "    'type': 'list<platformimagesource>'},\n",
       "   {'description': 'The width of this photo in pixels',\n",
       "    'name': 'width',\n",
       "    'type': 'unsigned int32'}],\n",
       "  'type': 'photo'}}"
      ]
     },
     "execution_count": 96,
     "metadata": {},
     "output_type": "execute_result"
    }
   ],
   "source": [
    "facebook_request(\"/1275284042597926/\", {\"metadata\":\"1\"})"
   ]
  },
  {
   "cell_type": "code",
   "execution_count": 97,
   "metadata": {},
   "outputs": [
    {
     "name": "stdout",
     "output_type": "stream",
     "text": [
      "['id', 'album', 'backdated_time', 'backdated_time_granularity', 'can_backdate', 'can_delete', 'can_tag', 'created_time', 'event', 'from', 'height', 'icon', 'images', 'link', 'name', 'name_tags', 'page_story_id', 'picture', 'place', 'target', 'updated_time', 'webp_images', 'width']\n"
     ]
    }
   ],
   "source": [
    "llamada_photo = facebook_request(\"/1275284042597926/\", {\"metadata\":\"1\"})\n",
    "possible_fields = [field[\"name\"] for field in llamada_photo[\"metadata\"][\"fields\"]]\n",
    "print([field[\"name\"] for field in llamada_photo[\"metadata\"][\"fields\"]])"
   ]
  },
  {
   "cell_type": "code",
   "execution_count": 100,
   "metadata": {},
   "outputs": [
    {
     "data": {
      "text/plain": [
       "{'data': [{'id': '434532230017644', 'name': 'J Enrique Hernandez'},\n",
       "  {'id': '341701692850309', 'name': 'Jose De Jesus Davalos Rodriguez'},\n",
       "  {'id': '1735756836747356', 'name': 'Maria V. Duran Gomez'},\n",
       "  {'id': '147202485808044', 'name': 'Luis Zavala'},\n",
       "  {'id': '143853169490726', 'name': 'Aida Maciel Valle'},\n",
       "  {'id': '1852368634776946', 'name': 'Carlos Alvear'},\n",
       "  {'id': '265910773854322', 'name': 'Mdel Diaz'},\n",
       "  {'id': '2003475953218460', 'name': 'Tomas Martinez'},\n",
       "  {'id': '476794545813798', 'name': 'Yaya Sang Lee'},\n",
       "  {'id': '166560073876169', 'name': 'Mario Hernandez'},\n",
       "  {'id': '136978663515491', 'name': 'Ana Maria Thomas'},\n",
       "  {'id': '440391916331443', 'name': 'Jesus Natividad'},\n",
       "  {'id': '230331670786283', 'name': 'Irma Molina'},\n",
       "  {'id': '169291170186534', 'name': 'Ismail Bayan'},\n",
       "  {'id': '152270825311936', 'name': 'Urvas Martines'},\n",
       "  {'id': '923704370983566', 'name': 'Mari Contreras'},\n",
       "  {'id': '787532717991064', 'name': 'Alberto Sosa'},\n",
       "  {'id': '117271128849606', 'name': 'Lop Ez'},\n",
       "  {'id': '113320325914574', 'name': 'Lili Rojas'},\n",
       "  {'id': '140578093097752', 'name': 'Gómez Sandra'},\n",
       "  {'id': '806291172785782', 'name': 'Ce Melo Jarillo'},\n",
       "  {'id': '1118002144894140', 'name': 'Martin Olea Franco'},\n",
       "  {'id': '466109853552538', 'name': 'Luis Pérez'},\n",
       "  {'id': '299599107128481', 'name': 'Lorenzo Martinez'},\n",
       "  {'id': '1378785938879410', 'name': 'Cruz Carrera Martinez'}],\n",
       " 'paging': {'cursors': {'after': 'MTM3ODc4NTkzODg3OTQxMAZDZD',\n",
       "   'before': 'NDM0NTMyMjMwMDE3NjQ0'},\n",
       "  'next': 'https://graph.facebook.com/v2.9/1275284042597926/likes?access_token=EAACEdEose0cBAGoe7GOJ8Whl1AauRRwhFfPAjq9VPuZBxMFOQkYVp0TGP6buMolncdRZC1M3lxxYns7lSYw9W6dPNuZCiqlP7GipD2CpKhXoliw6qGJkQLFqxGB2wrcgJCpoaEMhQ1CKe6ly6A0DUSUXqXOlOBYlHGvZCGVRL7ZCWUUp3eXLiBXy7ey8IUPIZD&limit=25&after=MTM3ODc4NTkzODg3OTQxMAZDZD'}}"
      ]
     },
     "execution_count": 100,
     "metadata": {},
     "output_type": "execute_result"
    }
   ],
   "source": [
    "facebook_request(\"/1275284042597926/likes\")"
   ]
  },
  {
   "cell_type": "code",
   "execution_count": 101,
   "metadata": {},
   "outputs": [
    {
     "data": {
      "text/plain": [
       "{'data': [{'created_time': '2017-01-25T23:32:21+0000',\n",
       "   'from': {'id': '10206271020403914', 'name': 'Beatriz Righetti Rojo'},\n",
       "   'id': '1275284042597926_1275289509264046',\n",
       "   'message': 'Eres una de las mujeres más admiradas en México  por valiente, inteligente y profesional en tu labor de informar con veracidad!!! Felicidades además de todo eso guapa también. 👍'},\n",
       "  {'created_time': '2017-01-25T23:43:49+0000',\n",
       "   'from': {'id': '10206435493828610', 'name': 'Jose Luis Gibson Tama'},\n",
       "   'id': '1275284042597926_1275299612596369',\n",
       "   'message': 'Carmen, más allá de populismos baratos, más allá de demagogias, ten el coraje para ya lanzarte de una vez como candidata a la presidencia, ya necesitamos a alguien de tu talante para esta nueva era que se avecina.'},\n",
       "  {'created_time': '2017-01-25T23:33:39+0000',\n",
       "   'from': {'id': '521679774697063', 'name': 'Olgiux Tovar'},\n",
       "   'id': '1275284042597926_1275290599263937',\n",
       "   'message': 'Amiga del pueblo enemiga del gobierno t politicos pero se queda con el pueblo q la respeta y se cree su periodismo no es vendido es Neta'},\n",
       "  {'created_time': '2017-01-25T23:35:39+0000',\n",
       "   'from': {'id': '572966322806500', 'name': 'Silvia J Barcenas'},\n",
       "   'id': '1275284042597926_1275292559263741',\n",
       "   'message': 'mi admiración y respeto por ser esa mujer inteligente y que no la puede callar nada ni nadie, eres muy querida y respetada en mi familia .....bendiciones y no cambies eres una gran periodista ....mis respetos'},\n",
       "  {'created_time': '2017-01-25T23:56:15+0000',\n",
       "   'from': {'id': '224717097937625', 'name': 'Gisella Gonzalez'},\n",
       "   'id': '1275284042597926_1275312882595042',\n",
       "   'message': 'Me caes tan bien! Además del enorme reconocimiento que tengo por tu trabajo.  Eres una bendición para muchísimos y una piedra en el zapato para unos cuantos.  Estoy entre tu audiencia más asidua. Gracias.'},\n",
       "  {'created_time': '2017-01-26T02:21:13+0000',\n",
       "   'from': {'id': '10207539732321275', 'name': 'Eugenio Salvador Muñoz'},\n",
       "   'id': '1275284042597926_1275457622580568',\n",
       "   'message': 'Usted bella dama es una mujer admirable en todo sentido de la palabra , es honesta , leal y sobre todo humana, mujeres así y hombres con estas características ahí muchas en México  pero viven con miedo ...'},\n",
       "  {'created_time': '2017-01-26T02:00:53+0000',\n",
       "   'from': {'id': '1121181311321995', 'name': 'Gilberto Rojas Elizalde'},\n",
       "   'id': '1275284042597926_1275436809249316',\n",
       "   'message': 'Que falta nos hacias carmen,nadie como tu,directa y objetiva. Rodeada de colaboradores exelentes. Ojala algun dia regreses al radio y a la tv,aunque es pedir demasiado. Saludos.'},\n",
       "  {'created_time': '2017-01-26T16:35:07+0000',\n",
       "   'from': {'id': '1673183712914638', 'name': 'Alex Diaz R'},\n",
       "   'id': '1275284042597926_377969319225159',\n",
       "   'message': 'Pues q le puedo decir si ya muchas personas se lo dicen, lo único es que se lanze como candidata a la presidencia para que usted pueda sacar adelante a nuestro México muchos de nuestros políticos son unos títeres de loa que kieren vender a nuestro México así q cuando forme un equipo de trabajo se llene de personas q en verdad kiera sacar a México adelante y robarle así mismo que eche abajo todas las reformas del actual presidente o analizar si es que alguna nos sirve pero tiene q cambiar muchísimas reformas, como quitar las pensiones a los exprecidentes,generar mas empleos,quitar tanto senador y diputados que únicamente van a calentar la silla y el fuero y realizar juicios políticos encontra de políticos corruptos quitarles las privatizaciones para q el pueblo lo trabaje y salga adelante y muchas cosas porque si le sigo diciendo no acabaría así es que suerte a lo cual estoy seguro q si usted lanza su candidatura ganara'},\n",
       "  {'created_time': '2017-01-25T23:50:39+0000',\n",
       "   'from': {'id': '798019753569438', 'name': 'Rod MunSe'},\n",
       "   'id': '1275284042597926_1275305902595740',\n",
       "   'message': 'Deberían omitir la imagen de Carmen Aristegui pues muchos de ustedes (equipo de trabajo) se ocultan tras el sitio Aristegui noticias para publicar noticias bastante amarillistas'},\n",
       "  {'created_time': '2017-01-26T01:38:06+0000',\n",
       "   'from': {'id': '953665924675304', 'name': 'Guerrero Vengador'},\n",
       "   'id': '1275284042597926_1275417235917940',\n",
       "   'message': 'Bien una mujer intelectual, desafurtunadamente nuestros gobernantes ante su poco intelecto no les permite aceptar la crítica, como algo que pudiera mejorar en bastante te las condiciones de nuestro país que lo tienen en el engaño. ....'},\n",
       "  {'created_time': '2017-01-26T01:37:54+0000',\n",
       "   'from': {'id': '570855623049673', 'name': 'Martin Velázquez'},\n",
       "   'id': '1275284042597926_1275417092584621',\n",
       "   'message': 'Junto con las personas luchadoras para la liberacion de México el pueblo le gustaría ver a Aristegui formar parte del nuevo gobierno y hacer la justicia siempre con el poder de su lapicero.'},\n",
       "  {'created_time': '2017-01-26T02:54:36+0000',\n",
       "   'from': {'id': '10204418554535707', 'name': 'Eddy Lavin'},\n",
       "   'id': '1275284042597926_1275500235909640',\n",
       "   'message': 'Mis Respetos eres la voz de México. Saludos desde el extranjero mujeres como tu son pocas. Te Felicito por lo Guerrera y luchona. Saludos'},\n",
       "  {'created_time': '2017-01-26T07:52:16+0000',\n",
       "   'from': {'id': '772659232823235', 'name': 'Jose Alfredo Lara'},\n",
       "   'id': '1275284042597926_1762746544044291',\n",
       "   'message': 'Mi ejemplo y esperanza de un México mejor se báza en mexicanos Como carmen y su equipo así Como muchos que luchamos por denunciar la corrupcion y la impunidad que impera en México.'},\n",
       "  {'created_time': '2017-04-23T00:52:05+0000',\n",
       "   'from': {'id': '10205343219380082', 'name': 'Humberto Fierros'},\n",
       "   'id': '1275284042597926_232741320542222',\n",
       "   'message': 'Estimada señora,con mucha simpleza le digo ,poca gente ,o más bien poquísima ,logra ser dueño de su persona  y de su palabra. Que se Corona con acciones en bien de los demás,........quisiera decirle mil cosas más,de ideología ,de obediencia de patriotismo,etc.etc..Remató diciéndole ser hombre,o mujer,pintados., muchísimos pero,auténticos,me sobran dedos. La felicidad implícita...felicidades señora A R I  S  T E G  U  I.'},\n",
       "  {'created_time': '2017-01-26T02:34:54+0000',\n",
       "   'from': {'id': '786204968161610', 'name': 'Maru Canovas'},\n",
       "   'id': '1275284042597926_1275477685911895',\n",
       "   'message': 'Mil felicidades señora Aristegui y a todo su grupo , no me pierdo su gran programa Aristegui noticias en vivo BRAVO lo logró ven beneficio de México siga adelante 👏👏👏👏👏👏🌟🌟🌟🌟🌟'},\n",
       "  {'created_time': '2017-01-26T04:47:00+0000',\n",
       "   'from': {'id': '1387932417919303', 'name': 'Gabriel Rodriguez Hernandez'},\n",
       "   'id': '1275284042597926_1275611145898549',\n",
       "   'message': 'Es digna de admirar X su gran trabajo. Es una de las personas que más admiro en mi País la felicito y respeto ojalá y algún día la conozca. Es una gran mujer además de ser bonita inspira seguridad.  Cuidese mucho que Dios la bendiga.'},\n",
       "  {'created_time': '2017-01-26T01:08:46+0000',\n",
       "   'from': {'id': '526637941060516', 'name': 'Oton Ortega'},\n",
       "   'id': '1275284042597926_1275388105920853',\n",
       "   'message': 'Mujer muy completa todo lo tienes eres excelente te admiro mucho ojala algún día Dios me permitiera saludarte en persona y platicar algunos minutos eres súper inteligente'},\n",
       "  {'created_time': '2017-01-26T02:05:03+0000',\n",
       "   'from': {'id': '706830726163823', 'name': 'J Pedro Barajas'},\n",
       "   'id': '1275284042597926_1275440462582284',\n",
       "   'message': 'De acuerdo con JLGT;  de este talante,  con tesón y además el temple que la ha forjado, es la candidata idónea para nuestro país, infestado de ladrones, corruptos, mentirosos, cínicos, patanes, y traidores.'},\n",
       "  {'created_time': '2017-01-26T06:16:20+0000',\n",
       "   'from': {'id': '838005266271018', 'name': 'Antony de La'},\n",
       "   'id': '1275284042597926_402673296740072',\n",
       "   'message': \"TRUMP AYUDARÁ A LA ÉLITE A TRAER UNA GRAN CRISIS A MÉXICO!\\n\\nEl objetivo de los amos del mundo sigue siendo el mismo de siempre, lograr la imposición de un Nuevo Orden Mundial. Lo único que se ha venido modificando y adaptando a los tiempos modernos es la forma de conseguirlo. México es una pieza fundamental para la elite por su ubicación estratégica, gran cantidad de recursos naturales e influencia en Latinoamérica. La élite se dedicó a sabotear todos los motores de crecimiento del país, las paraestatales, por medio del fomento de políticas que limitaran su desarrollo, poca inversión y la corrupción de sus títeres. Esto permitió que la industria mexicana fuera destruida y reemplazada por invenciones y servicios extranjeros (sobre todo en materia energética). Tantos negocios sucios representaron un gran cargo al erario público, pero un regocijo incomparable para ciertas compañías transnacionales. En el proceso, los títeres que ayudaron a los amos del mundo se volvieron millonarios de la noche a la mañana y condenaron el futuro de varias generaciones. Las privatizaciones fueron un tremendo éxito desde el auge neoliberal, lo cual permitió que el sionismo y sus secuaces se adueñaran de casi todo mientras los mexicanos se aferraban a la esclavitud moderna y se distraían con circos mediáticos. Algunas de las perdidas más notables para el pueblo fueron minas, playas, terrenos, ferrocarriles, bancos y medios de comunicación. El plan de un Nuevo Orden Mundial solo funcionará hasta que el consorcio de banqueros y oligarcas globalistas logren privatizar todos los bienes y servicios de cada rincón del planeta. Para culminar con esta tarea tan difícil en México, ellos planean traer una crisis peor que la que se vivió en el 94. Un país neoliberal es sumamente fácil de destruir pues es como un bebé que depende totalmente del exterior, solo basta con cortar de tajo varias de las inversiones extranjeras para poner en graves aprietos a la economía nacional. Y es precisamente lo que se pretende conseguir con la llegada del títere Trump a la presidencia de EU, una gran crisis económica en México. Cuando México ya haya tocado fondo, requerirá de mucho dinero para acomodar y levantar todos sus escombros. La obtención de dicho dinero se condicionará al remate de todas las paraestatales y recursos que aún le queden al país para que de esta manera, los hambrientos sabuesos sionistas al acecho logren atragantarse con este jugoso botín. Todo esto será algo muy similar a lo que vivió Perú para salir de la crisis en los 90's. Así es como se hará realidad la privatización total de México, la cual será una ladrillo esencial para la construcción de un Nuevo Orden Mundial. \\n\\n-GLADIUS-\"},\n",
       "  {'created_time': '2017-01-26T04:41:16+0000',\n",
       "   'from': {'id': '1765134357045429', 'name': 'Oscar Tinajero'},\n",
       "   'id': '1275284042597926_1275605955899068',\n",
       "   'message': 'Se ve muy bien señora y si no es mucha molestia por favor ya no ponga más cosas sobre Vicente Fox no hay que perder tiempo en tonterías de antemano muchas gracias'},\n",
       "  {'created_time': '2017-02-25T01:11:05+0000',\n",
       "   'from': {'id': '820824254680789', 'name': 'Anda Rivera'},\n",
       "   'id': '1275284042597926_270476826707392',\n",
       "   'message': 'Tengo una noticias especial tales me pueda ayudar es de inmigración que me agredieron sin pieda y me isieron perder mi dímero cantidad aproximada mente medio millon eatoi en una silla de rueda me agredieron un cubierta melte aprisimada mente mas de tres año si quiere a ser el reportaje me testella gracias'},\n",
       "  {'created_time': '2017-01-26T01:16:09+0000',\n",
       "   'from': {'id': '10153545323628852', 'name': 'Juany Flores'},\n",
       "   'id': '1275284042597926_1275394799253517',\n",
       "   'message': 'Mi ejemplo de mujer la admiro y la respeto y me inyecta valor ante las cosas difíciles de la vida diaria aparte es usted hermosa Saludos y un fuerte abrazo'},\n",
       "  {'created_time': '2017-01-26T04:25:56+0000',\n",
       "   'from': {'id': '182403065531753', 'name': 'Eric Diaz'},\n",
       "   'id': '1275284042597926_1275588575900806',\n",
       "   'message': 'T he seguido desde imajen cuando estabas con Pedro\\nLuego tu y luego Javier m caes bien solo dile a Slim q le suba el sueldo a los d Sanborns q no traen sangre Libanes como uds pero son Mexicanos como uds'},\n",
       "  {'created_time': '2017-01-26T05:23:34+0000',\n",
       "   'from': {'id': '1603207553269279', 'name': 'Reu Ochoa'},\n",
       "   'id': '1275284042597926_1275640615895602',\n",
       "   'message': 'Hola; Carmen, recuerdas yo te predije que serias nuestra presidenta y casi ya lo eres nuestro México  te kiere, te cree, te respeta y sobre todo te apoyamos mi futura presidenta ,a echarle los kilos.'},\n",
       "  {'created_time': '2017-01-26T16:11:11+0000',\n",
       "   'from': {'id': '187949641602786', 'name': 'Patito Ramos Jimenez'},\n",
       "   'id': '1275284042597926_377960592559365',\n",
       "   'message': 'Hola Carmen k bien t vez en tu foto muy guapa, además eres una persona sincera y respetada x los mexicanos, k papá Dios t bendiga y t proteja siempre, mis respetos asía ti😘😘😘🍀🍀🍀'}],\n",
       " 'paging': {'cursors': {'after': 'MTQyMAZDZD', 'before': 'MTQ0NAZDZD'},\n",
       "  'next': 'https://graph.facebook.com/v2.9/1275284042597926/comments?access_token=EAACEdEose0cBAGoe7GOJ8Whl1AauRRwhFfPAjq9VPuZBxMFOQkYVp0TGP6buMolncdRZC1M3lxxYns7lSYw9W6dPNuZCiqlP7GipD2CpKhXoliw6qGJkQLFqxGB2wrcgJCpoaEMhQ1CKe6ly6A0DUSUXqXOlOBYlHGvZCGVRL7ZCWUUp3eXLiBXy7ey8IUPIZD&limit=25&after=MTQyMAZDZD'}}"
      ]
     },
     "execution_count": 101,
     "metadata": {},
     "output_type": "execute_result"
    }
   ],
   "source": [
    "facebook_request(\"/1275284042597926/comments\")"
   ]
  },
  {
   "cell_type": "code",
   "execution_count": 98,
   "metadata": {
    "collapsed": true
   },
   "outputs": [],
   "source": [
    "# Como vemos, tanto los likes como los shares son elementos separados o verbos a expensas de la fotografía"
   ]
  },
  {
   "cell_type": "code",
   "execution_count": 124,
   "metadata": {},
   "outputs": [
    {
     "data": {
      "text/plain": [
       "{'comments': {'data': [],\n",
       "  'summary': {'can_comment': True, 'order': 'ranked', 'total_count': 1444}},\n",
       " 'id': '1275284042597926',\n",
       " 'likes': {'data': [],\n",
       "  'summary': {'can_like': True, 'has_liked': False, 'total_count': 61560}}}"
      ]
     },
     "execution_count": 124,
     "metadata": {},
     "output_type": "execute_result"
    }
   ],
   "source": [
    "facebook_request(\"/1275284042597926/\", {\"fields\":\"likes.summary(true).limit(0),comments.summary(true).limit(0)\"})"
   ]
  },
  {
   "cell_type": "code",
   "execution_count": 113,
   "metadata": {},
   "outputs": [
    {
     "data": {
      "text/plain": [
       "{'id': '923704370983566', 'name': 'Mari Contreras'}"
      ]
     },
     "execution_count": 113,
     "metadata": {},
     "output_type": "execute_result"
    }
   ],
   "source": [
    "# Pareciera que esos datos de personas son super lindos y no manches porque aristegui nos da tanto! Tomemos a Mari, por ejemplo\n",
    "facebook_request(\"/923704370983566/\")"
   ]
  },
  {
   "cell_type": "code",
   "execution_count": 114,
   "metadata": {},
   "outputs": [
    {
     "data": {
      "text/plain": [
       "{'id': '923704370983566',\n",
       " 'metadata': {'connections': {'accounts': 'https://graph.facebook.com/v2.9/923704370983566/accounts?access_token=EAACEdEose0cBAGoe7GOJ8Whl1AauRRwhFfPAjq9VPuZBxMFOQkYVp0TGP6buMolncdRZC1M3lxxYns7lSYw9W6dPNuZCiqlP7GipD2CpKhXoliw6qGJkQLFqxGB2wrcgJCpoaEMhQ1CKe6ly6A0DUSUXqXOlOBYlHGvZCGVRL7ZCWUUp3eXLiBXy7ey8IUPIZD',\n",
       "   'achievements': 'https://graph.facebook.com/v2.9/923704370983566/achievements?access_token=EAACEdEose0cBAGoe7GOJ8Whl1AauRRwhFfPAjq9VPuZBxMFOQkYVp0TGP6buMolncdRZC1M3lxxYns7lSYw9W6dPNuZCiqlP7GipD2CpKhXoliw6qGJkQLFqxGB2wrcgJCpoaEMhQ1CKe6ly6A0DUSUXqXOlOBYlHGvZCGVRL7ZCWUUp3eXLiBXy7ey8IUPIZD',\n",
       "   'ad_studies': 'https://graph.facebook.com/v2.9/923704370983566/ad_studies?access_token=EAACEdEose0cBAGoe7GOJ8Whl1AauRRwhFfPAjq9VPuZBxMFOQkYVp0TGP6buMolncdRZC1M3lxxYns7lSYw9W6dPNuZCiqlP7GipD2CpKhXoliw6qGJkQLFqxGB2wrcgJCpoaEMhQ1CKe6ly6A0DUSUXqXOlOBYlHGvZCGVRL7ZCWUUp3eXLiBXy7ey8IUPIZD',\n",
       "   'adaccounts': 'https://graph.facebook.com/v2.9/923704370983566/adaccounts?access_token=EAACEdEose0cBAGoe7GOJ8Whl1AauRRwhFfPAjq9VPuZBxMFOQkYVp0TGP6buMolncdRZC1M3lxxYns7lSYw9W6dPNuZCiqlP7GipD2CpKhXoliw6qGJkQLFqxGB2wrcgJCpoaEMhQ1CKe6ly6A0DUSUXqXOlOBYlHGvZCGVRL7ZCWUUp3eXLiBXy7ey8IUPIZD',\n",
       "   'adcontracts': 'https://graph.facebook.com/v2.9/923704370983566/adcontracts?access_token=EAACEdEose0cBAGoe7GOJ8Whl1AauRRwhFfPAjq9VPuZBxMFOQkYVp0TGP6buMolncdRZC1M3lxxYns7lSYw9W6dPNuZCiqlP7GipD2CpKhXoliw6qGJkQLFqxGB2wrcgJCpoaEMhQ1CKe6ly6A0DUSUXqXOlOBYlHGvZCGVRL7ZCWUUp3eXLiBXy7ey8IUPIZD',\n",
       "   'adnetworkanalytics': 'https://graph.facebook.com/v2.9/923704370983566/adnetworkanalytics?access_token=EAACEdEose0cBAGoe7GOJ8Whl1AauRRwhFfPAjq9VPuZBxMFOQkYVp0TGP6buMolncdRZC1M3lxxYns7lSYw9W6dPNuZCiqlP7GipD2CpKhXoliw6qGJkQLFqxGB2wrcgJCpoaEMhQ1CKe6ly6A0DUSUXqXOlOBYlHGvZCGVRL7ZCWUUp3eXLiBXy7ey8IUPIZD',\n",
       "   'albums': 'https://graph.facebook.com/v2.9/923704370983566/albums?access_token=EAACEdEose0cBAGoe7GOJ8Whl1AauRRwhFfPAjq9VPuZBxMFOQkYVp0TGP6buMolncdRZC1M3lxxYns7lSYw9W6dPNuZCiqlP7GipD2CpKhXoliw6qGJkQLFqxGB2wrcgJCpoaEMhQ1CKe6ly6A0DUSUXqXOlOBYlHGvZCGVRL7ZCWUUp3eXLiBXy7ey8IUPIZD',\n",
       "   'applications': 'https://graph.facebook.com/v2.9/923704370983566/applications?access_token=EAACEdEose0cBAGoe7GOJ8Whl1AauRRwhFfPAjq9VPuZBxMFOQkYVp0TGP6buMolncdRZC1M3lxxYns7lSYw9W6dPNuZCiqlP7GipD2CpKhXoliw6qGJkQLFqxGB2wrcgJCpoaEMhQ1CKe6ly6A0DUSUXqXOlOBYlHGvZCGVRL7ZCWUUp3eXLiBXy7ey8IUPIZD',\n",
       "   'apprequestformerrecipients': 'https://graph.facebook.com/v2.9/923704370983566/apprequestformerrecipients?access_token=EAACEdEose0cBAGoe7GOJ8Whl1AauRRwhFfPAjq9VPuZBxMFOQkYVp0TGP6buMolncdRZC1M3lxxYns7lSYw9W6dPNuZCiqlP7GipD2CpKhXoliw6qGJkQLFqxGB2wrcgJCpoaEMhQ1CKe6ly6A0DUSUXqXOlOBYlHGvZCGVRL7ZCWUUp3eXLiBXy7ey8IUPIZD',\n",
       "   'apprequests': 'https://graph.facebook.com/v2.9/923704370983566/apprequests?access_token=EAACEdEose0cBAGoe7GOJ8Whl1AauRRwhFfPAjq9VPuZBxMFOQkYVp0TGP6buMolncdRZC1M3lxxYns7lSYw9W6dPNuZCiqlP7GipD2CpKhXoliw6qGJkQLFqxGB2wrcgJCpoaEMhQ1CKe6ly6A0DUSUXqXOlOBYlHGvZCGVRL7ZCWUUp3eXLiBXy7ey8IUPIZD',\n",
       "   'books': 'https://graph.facebook.com/v2.9/923704370983566/books?access_token=EAACEdEose0cBAGoe7GOJ8Whl1AauRRwhFfPAjq9VPuZBxMFOQkYVp0TGP6buMolncdRZC1M3lxxYns7lSYw9W6dPNuZCiqlP7GipD2CpKhXoliw6qGJkQLFqxGB2wrcgJCpoaEMhQ1CKe6ly6A0DUSUXqXOlOBYlHGvZCGVRL7ZCWUUp3eXLiBXy7ey8IUPIZD',\n",
       "   'brand_teams': 'https://graph.facebook.com/v2.9/923704370983566/brand_teams?access_token=EAACEdEose0cBAGoe7GOJ8Whl1AauRRwhFfPAjq9VPuZBxMFOQkYVp0TGP6buMolncdRZC1M3lxxYns7lSYw9W6dPNuZCiqlP7GipD2CpKhXoliw6qGJkQLFqxGB2wrcgJCpoaEMhQ1CKe6ly6A0DUSUXqXOlOBYlHGvZCGVRL7ZCWUUp3eXLiBXy7ey8IUPIZD',\n",
       "   'business_activities': 'https://graph.facebook.com/v2.9/923704370983566/business_activities?access_token=EAACEdEose0cBAGoe7GOJ8Whl1AauRRwhFfPAjq9VPuZBxMFOQkYVp0TGP6buMolncdRZC1M3lxxYns7lSYw9W6dPNuZCiqlP7GipD2CpKhXoliw6qGJkQLFqxGB2wrcgJCpoaEMhQ1CKe6ly6A0DUSUXqXOlOBYlHGvZCGVRL7ZCWUUp3eXLiBXy7ey8IUPIZD',\n",
       "   'businesses': 'https://graph.facebook.com/v2.9/923704370983566/businesses?access_token=EAACEdEose0cBAGoe7GOJ8Whl1AauRRwhFfPAjq9VPuZBxMFOQkYVp0TGP6buMolncdRZC1M3lxxYns7lSYw9W6dPNuZCiqlP7GipD2CpKhXoliw6qGJkQLFqxGB2wrcgJCpoaEMhQ1CKe6ly6A0DUSUXqXOlOBYlHGvZCGVRL7ZCWUUp3eXLiBXy7ey8IUPIZD',\n",
       "   'businesssettinglogs': 'https://graph.facebook.com/v2.9/923704370983566/businesssettinglogs?access_token=EAACEdEose0cBAGoe7GOJ8Whl1AauRRwhFfPAjq9VPuZBxMFOQkYVp0TGP6buMolncdRZC1M3lxxYns7lSYw9W6dPNuZCiqlP7GipD2CpKhXoliw6qGJkQLFqxGB2wrcgJCpoaEMhQ1CKe6ly6A0DUSUXqXOlOBYlHGvZCGVRL7ZCWUUp3eXLiBXy7ey8IUPIZD',\n",
       "   'checkins': 'https://graph.facebook.com/v2.9/923704370983566/checkins?access_token=EAACEdEose0cBAGoe7GOJ8Whl1AauRRwhFfPAjq9VPuZBxMFOQkYVp0TGP6buMolncdRZC1M3lxxYns7lSYw9W6dPNuZCiqlP7GipD2CpKhXoliw6qGJkQLFqxGB2wrcgJCpoaEMhQ1CKe6ly6A0DUSUXqXOlOBYlHGvZCGVRL7ZCWUUp3eXLiBXy7ey8IUPIZD',\n",
       "   'commission_splits': 'https://graph.facebook.com/v2.9/923704370983566/commission_splits?access_token=EAACEdEose0cBAGoe7GOJ8Whl1AauRRwhFfPAjq9VPuZBxMFOQkYVp0TGP6buMolncdRZC1M3lxxYns7lSYw9W6dPNuZCiqlP7GipD2CpKhXoliw6qGJkQLFqxGB2wrcgJCpoaEMhQ1CKe6ly6A0DUSUXqXOlOBYlHGvZCGVRL7ZCWUUp3eXLiBXy7ey8IUPIZD',\n",
       "   'conversations': 'https://graph.facebook.com/v2.9/923704370983566/conversations?access_token=EAACEdEose0cBAGoe7GOJ8Whl1AauRRwhFfPAjq9VPuZBxMFOQkYVp0TGP6buMolncdRZC1M3lxxYns7lSYw9W6dPNuZCiqlP7GipD2CpKhXoliw6qGJkQLFqxGB2wrcgJCpoaEMhQ1CKe6ly6A0DUSUXqXOlOBYlHGvZCGVRL7ZCWUUp3eXLiBXy7ey8IUPIZD',\n",
       "   'curated_collections': 'https://graph.facebook.com/v2.9/923704370983566/curated_collections?access_token=EAACEdEose0cBAGoe7GOJ8Whl1AauRRwhFfPAjq9VPuZBxMFOQkYVp0TGP6buMolncdRZC1M3lxxYns7lSYw9W6dPNuZCiqlP7GipD2CpKhXoliw6qGJkQLFqxGB2wrcgJCpoaEMhQ1CKe6ly6A0DUSUXqXOlOBYlHGvZCGVRL7ZCWUUp3eXLiBXy7ey8IUPIZD',\n",
       "   'domains': 'https://graph.facebook.com/v2.9/923704370983566/domains?access_token=EAACEdEose0cBAGoe7GOJ8Whl1AauRRwhFfPAjq9VPuZBxMFOQkYVp0TGP6buMolncdRZC1M3lxxYns7lSYw9W6dPNuZCiqlP7GipD2CpKhXoliw6qGJkQLFqxGB2wrcgJCpoaEMhQ1CKe6ly6A0DUSUXqXOlOBYlHGvZCGVRL7ZCWUUp3eXLiBXy7ey8IUPIZD',\n",
       "   'events': 'https://graph.facebook.com/v2.9/923704370983566/events?access_token=EAACEdEose0cBAGoe7GOJ8Whl1AauRRwhFfPAjq9VPuZBxMFOQkYVp0TGP6buMolncdRZC1M3lxxYns7lSYw9W6dPNuZCiqlP7GipD2CpKhXoliw6qGJkQLFqxGB2wrcgJCpoaEMhQ1CKe6ly6A0DUSUXqXOlOBYlHGvZCGVRL7ZCWUUp3eXLiBXy7ey8IUPIZD',\n",
       "   'family': 'https://graph.facebook.com/v2.9/923704370983566/family?access_token=EAACEdEose0cBAGoe7GOJ8Whl1AauRRwhFfPAjq9VPuZBxMFOQkYVp0TGP6buMolncdRZC1M3lxxYns7lSYw9W6dPNuZCiqlP7GipD2CpKhXoliw6qGJkQLFqxGB2wrcgJCpoaEMhQ1CKe6ly6A0DUSUXqXOlOBYlHGvZCGVRL7ZCWUUp3eXLiBXy7ey8IUPIZD',\n",
       "   'favorite_requests': 'https://graph.facebook.com/v2.9/923704370983566/favorite_requests?access_token=EAACEdEose0cBAGoe7GOJ8Whl1AauRRwhFfPAjq9VPuZBxMFOQkYVp0TGP6buMolncdRZC1M3lxxYns7lSYw9W6dPNuZCiqlP7GipD2CpKhXoliw6qGJkQLFqxGB2wrcgJCpoaEMhQ1CKe6ly6A0DUSUXqXOlOBYlHGvZCGVRL7ZCWUUp3eXLiBXy7ey8IUPIZD',\n",
       "   'feed': 'https://graph.facebook.com/v2.9/923704370983566/feed?access_token=EAACEdEose0cBAGoe7GOJ8Whl1AauRRwhFfPAjq9VPuZBxMFOQkYVp0TGP6buMolncdRZC1M3lxxYns7lSYw9W6dPNuZCiqlP7GipD2CpKhXoliw6qGJkQLFqxGB2wrcgJCpoaEMhQ1CKe6ly6A0DUSUXqXOlOBYlHGvZCGVRL7ZCWUUp3eXLiBXy7ey8IUPIZD',\n",
       "   'friendlists': 'https://graph.facebook.com/v2.9/923704370983566/friendlists?access_token=EAACEdEose0cBAGoe7GOJ8Whl1AauRRwhFfPAjq9VPuZBxMFOQkYVp0TGP6buMolncdRZC1M3lxxYns7lSYw9W6dPNuZCiqlP7GipD2CpKhXoliw6qGJkQLFqxGB2wrcgJCpoaEMhQ1CKe6ly6A0DUSUXqXOlOBYlHGvZCGVRL7ZCWUUp3eXLiBXy7ey8IUPIZD',\n",
       "   'friendrequests': 'https://graph.facebook.com/v2.9/923704370983566/friendrequests?access_token=EAACEdEose0cBAGoe7GOJ8Whl1AauRRwhFfPAjq9VPuZBxMFOQkYVp0TGP6buMolncdRZC1M3lxxYns7lSYw9W6dPNuZCiqlP7GipD2CpKhXoliw6qGJkQLFqxGB2wrcgJCpoaEMhQ1CKe6ly6A0DUSUXqXOlOBYlHGvZCGVRL7ZCWUUp3eXLiBXy7ey8IUPIZD',\n",
       "   'friends': 'https://graph.facebook.com/v2.9/923704370983566/friends?access_token=EAACEdEose0cBAGoe7GOJ8Whl1AauRRwhFfPAjq9VPuZBxMFOQkYVp0TGP6buMolncdRZC1M3lxxYns7lSYw9W6dPNuZCiqlP7GipD2CpKhXoliw6qGJkQLFqxGB2wrcgJCpoaEMhQ1CKe6ly6A0DUSUXqXOlOBYlHGvZCGVRL7ZCWUUp3eXLiBXy7ey8IUPIZD',\n",
       "   'games': 'https://graph.facebook.com/v2.9/923704370983566/games?access_token=EAACEdEose0cBAGoe7GOJ8Whl1AauRRwhFfPAjq9VPuZBxMFOQkYVp0TGP6buMolncdRZC1M3lxxYns7lSYw9W6dPNuZCiqlP7GipD2CpKhXoliw6qGJkQLFqxGB2wrcgJCpoaEMhQ1CKe6ly6A0DUSUXqXOlOBYlHGvZCGVRL7ZCWUUp3eXLiBXy7ey8IUPIZD',\n",
       "   'groups': 'https://graph.facebook.com/v2.9/923704370983566/groups?access_token=EAACEdEose0cBAGoe7GOJ8Whl1AauRRwhFfPAjq9VPuZBxMFOQkYVp0TGP6buMolncdRZC1M3lxxYns7lSYw9W6dPNuZCiqlP7GipD2CpKhXoliw6qGJkQLFqxGB2wrcgJCpoaEMhQ1CKe6ly6A0DUSUXqXOlOBYlHGvZCGVRL7ZCWUUp3eXLiBXy7ey8IUPIZD',\n",
       "   'home': 'https://graph.facebook.com/v2.9/923704370983566/home?access_token=EAACEdEose0cBAGoe7GOJ8Whl1AauRRwhFfPAjq9VPuZBxMFOQkYVp0TGP6buMolncdRZC1M3lxxYns7lSYw9W6dPNuZCiqlP7GipD2CpKhXoliw6qGJkQLFqxGB2wrcgJCpoaEMhQ1CKe6ly6A0DUSUXqXOlOBYlHGvZCGVRL7ZCWUUp3eXLiBXy7ey8IUPIZD',\n",
       "   'ids_for_apps': 'https://graph.facebook.com/v2.9/923704370983566/ids_for_apps?access_token=EAACEdEose0cBAGoe7GOJ8Whl1AauRRwhFfPAjq9VPuZBxMFOQkYVp0TGP6buMolncdRZC1M3lxxYns7lSYw9W6dPNuZCiqlP7GipD2CpKhXoliw6qGJkQLFqxGB2wrcgJCpoaEMhQ1CKe6ly6A0DUSUXqXOlOBYlHGvZCGVRL7ZCWUUp3eXLiBXy7ey8IUPIZD',\n",
       "   'ids_for_business': 'https://graph.facebook.com/v2.9/923704370983566/ids_for_business?access_token=EAACEdEose0cBAGoe7GOJ8Whl1AauRRwhFfPAjq9VPuZBxMFOQkYVp0TGP6buMolncdRZC1M3lxxYns7lSYw9W6dPNuZCiqlP7GipD2CpKhXoliw6qGJkQLFqxGB2wrcgJCpoaEMhQ1CKe6ly6A0DUSUXqXOlOBYlHGvZCGVRL7ZCWUUp3eXLiBXy7ey8IUPIZD',\n",
       "   'ids_for_pages': 'https://graph.facebook.com/v2.9/923704370983566/ids_for_pages?access_token=EAACEdEose0cBAGoe7GOJ8Whl1AauRRwhFfPAjq9VPuZBxMFOQkYVp0TGP6buMolncdRZC1M3lxxYns7lSYw9W6dPNuZCiqlP7GipD2CpKhXoliw6qGJkQLFqxGB2wrcgJCpoaEMhQ1CKe6ly6A0DUSUXqXOlOBYlHGvZCGVRL7ZCWUUp3eXLiBXy7ey8IUPIZD',\n",
       "   'inbox': 'https://graph.facebook.com/v2.9/923704370983566/inbox?access_token=EAACEdEose0cBAGoe7GOJ8Whl1AauRRwhFfPAjq9VPuZBxMFOQkYVp0TGP6buMolncdRZC1M3lxxYns7lSYw9W6dPNuZCiqlP7GipD2CpKhXoliw6qGJkQLFqxGB2wrcgJCpoaEMhQ1CKe6ly6A0DUSUXqXOlOBYlHGvZCGVRL7ZCWUUp3eXLiBXy7ey8IUPIZD',\n",
       "   'insights': 'https://graph.facebook.com/v2.9/923704370983566/insights?access_token=EAACEdEose0cBAGoe7GOJ8Whl1AauRRwhFfPAjq9VPuZBxMFOQkYVp0TGP6buMolncdRZC1M3lxxYns7lSYw9W6dPNuZCiqlP7GipD2CpKhXoliw6qGJkQLFqxGB2wrcgJCpoaEMhQ1CKe6ly6A0DUSUXqXOlOBYlHGvZCGVRL7ZCWUUp3eXLiBXy7ey8IUPIZD',\n",
       "   'integrated_plugin_feed': 'https://graph.facebook.com/v2.9/923704370983566/integrated_plugin_feed?access_token=EAACEdEose0cBAGoe7GOJ8Whl1AauRRwhFfPAjq9VPuZBxMFOQkYVp0TGP6buMolncdRZC1M3lxxYns7lSYw9W6dPNuZCiqlP7GipD2CpKhXoliw6qGJkQLFqxGB2wrcgJCpoaEMhQ1CKe6ly6A0DUSUXqXOlOBYlHGvZCGVRL7ZCWUUp3eXLiBXy7ey8IUPIZD',\n",
       "   'invitable_friends': 'https://graph.facebook.com/v2.9/923704370983566/invitable_friends?access_token=EAACEdEose0cBAGoe7GOJ8Whl1AauRRwhFfPAjq9VPuZBxMFOQkYVp0TGP6buMolncdRZC1M3lxxYns7lSYw9W6dPNuZCiqlP7GipD2CpKhXoliw6qGJkQLFqxGB2wrcgJCpoaEMhQ1CKe6ly6A0DUSUXqXOlOBYlHGvZCGVRL7ZCWUUp3eXLiBXy7ey8IUPIZD',\n",
       "   'leadgen_forms': 'https://graph.facebook.com/v2.9/923704370983566/leadgen_forms?access_token=EAACEdEose0cBAGoe7GOJ8Whl1AauRRwhFfPAjq9VPuZBxMFOQkYVp0TGP6buMolncdRZC1M3lxxYns7lSYw9W6dPNuZCiqlP7GipD2CpKhXoliw6qGJkQLFqxGB2wrcgJCpoaEMhQ1CKe6ly6A0DUSUXqXOlOBYlHGvZCGVRL7ZCWUUp3eXLiBXy7ey8IUPIZD',\n",
       "   'likes': 'https://graph.facebook.com/v2.9/923704370983566/likes?access_token=EAACEdEose0cBAGoe7GOJ8Whl1AauRRwhFfPAjq9VPuZBxMFOQkYVp0TGP6buMolncdRZC1M3lxxYns7lSYw9W6dPNuZCiqlP7GipD2CpKhXoliw6qGJkQLFqxGB2wrcgJCpoaEMhQ1CKe6ly6A0DUSUXqXOlOBYlHGvZCGVRL7ZCWUUp3eXLiBXy7ey8IUPIZD',\n",
       "   'live_videos': 'https://graph.facebook.com/v2.9/923704370983566/live_videos?access_token=EAACEdEose0cBAGoe7GOJ8Whl1AauRRwhFfPAjq9VPuZBxMFOQkYVp0TGP6buMolncdRZC1M3lxxYns7lSYw9W6dPNuZCiqlP7GipD2CpKhXoliw6qGJkQLFqxGB2wrcgJCpoaEMhQ1CKe6ly6A0DUSUXqXOlOBYlHGvZCGVRL7ZCWUUp3eXLiBXy7ey8IUPIZD',\n",
       "   'locations': 'https://graph.facebook.com/v2.9/923704370983566/locations?access_token=EAACEdEose0cBAGoe7GOJ8Whl1AauRRwhFfPAjq9VPuZBxMFOQkYVp0TGP6buMolncdRZC1M3lxxYns7lSYw9W6dPNuZCiqlP7GipD2CpKhXoliw6qGJkQLFqxGB2wrcgJCpoaEMhQ1CKe6ly6A0DUSUXqXOlOBYlHGvZCGVRL7ZCWUUp3eXLiBXy7ey8IUPIZD',\n",
       "   'movies': 'https://graph.facebook.com/v2.9/923704370983566/movies?access_token=EAACEdEose0cBAGoe7GOJ8Whl1AauRRwhFfPAjq9VPuZBxMFOQkYVp0TGP6buMolncdRZC1M3lxxYns7lSYw9W6dPNuZCiqlP7GipD2CpKhXoliw6qGJkQLFqxGB2wrcgJCpoaEMhQ1CKe6ly6A0DUSUXqXOlOBYlHGvZCGVRL7ZCWUUp3eXLiBXy7ey8IUPIZD',\n",
       "   'music': 'https://graph.facebook.com/v2.9/923704370983566/music?access_token=EAACEdEose0cBAGoe7GOJ8Whl1AauRRwhFfPAjq9VPuZBxMFOQkYVp0TGP6buMolncdRZC1M3lxxYns7lSYw9W6dPNuZCiqlP7GipD2CpKhXoliw6qGJkQLFqxGB2wrcgJCpoaEMhQ1CKe6ly6A0DUSUXqXOlOBYlHGvZCGVRL7ZCWUUp3eXLiBXy7ey8IUPIZD',\n",
       "   'notifications': 'https://graph.facebook.com/v2.9/923704370983566/notifications?access_token=EAACEdEose0cBAGoe7GOJ8Whl1AauRRwhFfPAjq9VPuZBxMFOQkYVp0TGP6buMolncdRZC1M3lxxYns7lSYw9W6dPNuZCiqlP7GipD2CpKhXoliw6qGJkQLFqxGB2wrcgJCpoaEMhQ1CKe6ly6A0DUSUXqXOlOBYlHGvZCGVRL7ZCWUUp3eXLiBXy7ey8IUPIZD',\n",
       "   'notify_me': 'https://graph.facebook.com/v2.9/923704370983566/notify_me?access_token=EAACEdEose0cBAGoe7GOJ8Whl1AauRRwhFfPAjq9VPuZBxMFOQkYVp0TGP6buMolncdRZC1M3lxxYns7lSYw9W6dPNuZCiqlP7GipD2CpKhXoliw6qGJkQLFqxGB2wrcgJCpoaEMhQ1CKe6ly6A0DUSUXqXOlOBYlHGvZCGVRL7ZCWUUp3eXLiBXy7ey8IUPIZD',\n",
       "   'objects': 'https://graph.facebook.com/v2.9/923704370983566/objects?access_token=EAACEdEose0cBAGoe7GOJ8Whl1AauRRwhFfPAjq9VPuZBxMFOQkYVp0TGP6buMolncdRZC1M3lxxYns7lSYw9W6dPNuZCiqlP7GipD2CpKhXoliw6qGJkQLFqxGB2wrcgJCpoaEMhQ1CKe6ly6A0DUSUXqXOlOBYlHGvZCGVRL7ZCWUUp3eXLiBXy7ey8IUPIZD',\n",
       "   'outbox': 'https://graph.facebook.com/v2.9/923704370983566/outbox?access_token=EAACEdEose0cBAGoe7GOJ8Whl1AauRRwhFfPAjq9VPuZBxMFOQkYVp0TGP6buMolncdRZC1M3lxxYns7lSYw9W6dPNuZCiqlP7GipD2CpKhXoliw6qGJkQLFqxGB2wrcgJCpoaEMhQ1CKe6ly6A0DUSUXqXOlOBYlHGvZCGVRL7ZCWUUp3eXLiBXy7ey8IUPIZD',\n",
       "   'ownerapps': 'https://graph.facebook.com/v2.9/923704370983566/ownerapps?access_token=EAACEdEose0cBAGoe7GOJ8Whl1AauRRwhFfPAjq9VPuZBxMFOQkYVp0TGP6buMolncdRZC1M3lxxYns7lSYw9W6dPNuZCiqlP7GipD2CpKhXoliw6qGJkQLFqxGB2wrcgJCpoaEMhQ1CKe6ly6A0DUSUXqXOlOBYlHGvZCGVRL7ZCWUUp3eXLiBXy7ey8IUPIZD',\n",
       "   'payment.subscriptions': 'https://graph.facebook.com/v2.9/923704370983566/payment.subscriptions?access_token=EAACEdEose0cBAGoe7GOJ8Whl1AauRRwhFfPAjq9VPuZBxMFOQkYVp0TGP6buMolncdRZC1M3lxxYns7lSYw9W6dPNuZCiqlP7GipD2CpKhXoliw6qGJkQLFqxGB2wrcgJCpoaEMhQ1CKe6ly6A0DUSUXqXOlOBYlHGvZCGVRL7ZCWUUp3eXLiBXy7ey8IUPIZD',\n",
       "   'payment_transactions': 'https://graph.facebook.com/v2.9/923704370983566/payment_transactions?access_token=EAACEdEose0cBAGoe7GOJ8Whl1AauRRwhFfPAjq9VPuZBxMFOQkYVp0TGP6buMolncdRZC1M3lxxYns7lSYw9W6dPNuZCiqlP7GipD2CpKhXoliw6qGJkQLFqxGB2wrcgJCpoaEMhQ1CKe6ly6A0DUSUXqXOlOBYlHGvZCGVRL7ZCWUUp3eXLiBXy7ey8IUPIZD',\n",
       "   'payments': 'https://graph.facebook.com/v2.9/923704370983566/payments?access_token=EAACEdEose0cBAGoe7GOJ8Whl1AauRRwhFfPAjq9VPuZBxMFOQkYVp0TGP6buMolncdRZC1M3lxxYns7lSYw9W6dPNuZCiqlP7GipD2CpKhXoliw6qGJkQLFqxGB2wrcgJCpoaEMhQ1CKe6ly6A0DUSUXqXOlOBYlHGvZCGVRL7ZCWUUp3eXLiBXy7ey8IUPIZD',\n",
       "   'permissions': 'https://graph.facebook.com/v2.9/923704370983566/permissions?access_token=EAACEdEose0cBAGoe7GOJ8Whl1AauRRwhFfPAjq9VPuZBxMFOQkYVp0TGP6buMolncdRZC1M3lxxYns7lSYw9W6dPNuZCiqlP7GipD2CpKhXoliw6qGJkQLFqxGB2wrcgJCpoaEMhQ1CKe6ly6A0DUSUXqXOlOBYlHGvZCGVRL7ZCWUUp3eXLiBXy7ey8IUPIZD',\n",
       "   'personal_ad_accounts': 'https://graph.facebook.com/v2.9/923704370983566/personal_ad_accounts?access_token=EAACEdEose0cBAGoe7GOJ8Whl1AauRRwhFfPAjq9VPuZBxMFOQkYVp0TGP6buMolncdRZC1M3lxxYns7lSYw9W6dPNuZCiqlP7GipD2CpKhXoliw6qGJkQLFqxGB2wrcgJCpoaEMhQ1CKe6ly6A0DUSUXqXOlOBYlHGvZCGVRL7ZCWUUp3eXLiBXy7ey8IUPIZD',\n",
       "   'photos': 'https://graph.facebook.com/v2.9/923704370983566/photos?access_token=EAACEdEose0cBAGoe7GOJ8Whl1AauRRwhFfPAjq9VPuZBxMFOQkYVp0TGP6buMolncdRZC1M3lxxYns7lSYw9W6dPNuZCiqlP7GipD2CpKhXoliw6qGJkQLFqxGB2wrcgJCpoaEMhQ1CKe6ly6A0DUSUXqXOlOBYlHGvZCGVRL7ZCWUUp3eXLiBXy7ey8IUPIZD',\n",
       "   'picture': 'https://graph.facebook.com/v2.9/923704370983566/picture?access_token=EAACEdEose0cBAGoe7GOJ8Whl1AauRRwhFfPAjq9VPuZBxMFOQkYVp0TGP6buMolncdRZC1M3lxxYns7lSYw9W6dPNuZCiqlP7GipD2CpKhXoliw6qGJkQLFqxGB2wrcgJCpoaEMhQ1CKe6ly6A0DUSUXqXOlOBYlHGvZCGVRL7ZCWUUp3eXLiBXy7ey8IUPIZD',\n",
       "   'platformrequests': 'https://graph.facebook.com/v2.9/923704370983566/platformrequests?access_token=EAACEdEose0cBAGoe7GOJ8Whl1AauRRwhFfPAjq9VPuZBxMFOQkYVp0TGP6buMolncdRZC1M3lxxYns7lSYw9W6dPNuZCiqlP7GipD2CpKhXoliw6qGJkQLFqxGB2wrcgJCpoaEMhQ1CKe6ly6A0DUSUXqXOlOBYlHGvZCGVRL7ZCWUUp3eXLiBXy7ey8IUPIZD',\n",
       "   'pokes': 'https://graph.facebook.com/v2.9/923704370983566/pokes?access_token=EAACEdEose0cBAGoe7GOJ8Whl1AauRRwhFfPAjq9VPuZBxMFOQkYVp0TGP6buMolncdRZC1M3lxxYns7lSYw9W6dPNuZCiqlP7GipD2CpKhXoliw6qGJkQLFqxGB2wrcgJCpoaEMhQ1CKe6ly6A0DUSUXqXOlOBYlHGvZCGVRL7ZCWUUp3eXLiBXy7ey8IUPIZD',\n",
       "   'posts': 'https://graph.facebook.com/v2.9/923704370983566/posts?access_token=EAACEdEose0cBAGoe7GOJ8Whl1AauRRwhFfPAjq9VPuZBxMFOQkYVp0TGP6buMolncdRZC1M3lxxYns7lSYw9W6dPNuZCiqlP7GipD2CpKhXoliw6qGJkQLFqxGB2wrcgJCpoaEMhQ1CKe6ly6A0DUSUXqXOlOBYlHGvZCGVRL7ZCWUUp3eXLiBXy7ey8IUPIZD',\n",
       "   'privacy_options': 'https://graph.facebook.com/v2.9/923704370983566/privacy_options?access_token=EAACEdEose0cBAGoe7GOJ8Whl1AauRRwhFfPAjq9VPuZBxMFOQkYVp0TGP6buMolncdRZC1M3lxxYns7lSYw9W6dPNuZCiqlP7GipD2CpKhXoliw6qGJkQLFqxGB2wrcgJCpoaEMhQ1CKe6ly6A0DUSUXqXOlOBYlHGvZCGVRL7ZCWUUp3eXLiBXy7ey8IUPIZD',\n",
       "   'promotable_domains': 'https://graph.facebook.com/v2.9/923704370983566/promotable_domains?access_token=EAACEdEose0cBAGoe7GOJ8Whl1AauRRwhFfPAjq9VPuZBxMFOQkYVp0TGP6buMolncdRZC1M3lxxYns7lSYw9W6dPNuZCiqlP7GipD2CpKhXoliw6qGJkQLFqxGB2wrcgJCpoaEMhQ1CKe6ly6A0DUSUXqXOlOBYlHGvZCGVRL7ZCWUUp3eXLiBXy7ey8IUPIZD',\n",
       "   'promotable_events': 'https://graph.facebook.com/v2.9/923704370983566/promotable_events?access_token=EAACEdEose0cBAGoe7GOJ8Whl1AauRRwhFfPAjq9VPuZBxMFOQkYVp0TGP6buMolncdRZC1M3lxxYns7lSYw9W6dPNuZCiqlP7GipD2CpKhXoliw6qGJkQLFqxGB2wrcgJCpoaEMhQ1CKe6ly6A0DUSUXqXOlOBYlHGvZCGVRL7ZCWUUp3eXLiBXy7ey8IUPIZD',\n",
       "   'ratings': 'https://graph.facebook.com/v2.9/923704370983566/ratings?access_token=EAACEdEose0cBAGoe7GOJ8Whl1AauRRwhFfPAjq9VPuZBxMFOQkYVp0TGP6buMolncdRZC1M3lxxYns7lSYw9W6dPNuZCiqlP7GipD2CpKhXoliw6qGJkQLFqxGB2wrcgJCpoaEMhQ1CKe6ly6A0DUSUXqXOlOBYlHGvZCGVRL7ZCWUUp3eXLiBXy7ey8IUPIZD',\n",
       "   'request_history': 'https://graph.facebook.com/v2.9/923704370983566/request_history?access_token=EAACEdEose0cBAGoe7GOJ8Whl1AauRRwhFfPAjq9VPuZBxMFOQkYVp0TGP6buMolncdRZC1M3lxxYns7lSYw9W6dPNuZCiqlP7GipD2CpKhXoliw6qGJkQLFqxGB2wrcgJCpoaEMhQ1CKe6ly6A0DUSUXqXOlOBYlHGvZCGVRL7ZCWUUp3eXLiBXy7ey8IUPIZD',\n",
       "   'rich_media_documents': 'https://graph.facebook.com/v2.9/923704370983566/rich_media_documents?access_token=EAACEdEose0cBAGoe7GOJ8Whl1AauRRwhFfPAjq9VPuZBxMFOQkYVp0TGP6buMolncdRZC1M3lxxYns7lSYw9W6dPNuZCiqlP7GipD2CpKhXoliw6qGJkQLFqxGB2wrcgJCpoaEMhQ1CKe6ly6A0DUSUXqXOlOBYlHGvZCGVRL7ZCWUUp3eXLiBXy7ey8IUPIZD',\n",
       "   'scores': 'https://graph.facebook.com/v2.9/923704370983566/scores?access_token=EAACEdEose0cBAGoe7GOJ8Whl1AauRRwhFfPAjq9VPuZBxMFOQkYVp0TGP6buMolncdRZC1M3lxxYns7lSYw9W6dPNuZCiqlP7GipD2CpKhXoliw6qGJkQLFqxGB2wrcgJCpoaEMhQ1CKe6ly6A0DUSUXqXOlOBYlHGvZCGVRL7ZCWUUp3eXLiBXy7ey8IUPIZD',\n",
       "   'screennames': 'https://graph.facebook.com/v2.9/923704370983566/screennames?access_token=EAACEdEose0cBAGoe7GOJ8Whl1AauRRwhFfPAjq9VPuZBxMFOQkYVp0TGP6buMolncdRZC1M3lxxYns7lSYw9W6dPNuZCiqlP7GipD2CpKhXoliw6qGJkQLFqxGB2wrcgJCpoaEMhQ1CKe6ly6A0DUSUXqXOlOBYlHGvZCGVRL7ZCWUUp3eXLiBXy7ey8IUPIZD',\n",
       "   'session_keys': 'https://graph.facebook.com/v2.9/923704370983566/session_keys?access_token=EAACEdEose0cBAGoe7GOJ8Whl1AauRRwhFfPAjq9VPuZBxMFOQkYVp0TGP6buMolncdRZC1M3lxxYns7lSYw9W6dPNuZCiqlP7GipD2CpKhXoliw6qGJkQLFqxGB2wrcgJCpoaEMhQ1CKe6ly6A0DUSUXqXOlOBYlHGvZCGVRL7ZCWUUp3eXLiBXy7ey8IUPIZD',\n",
       "   'stream_filters': 'https://graph.facebook.com/v2.9/923704370983566/stream_filters?access_token=EAACEdEose0cBAGoe7GOJ8Whl1AauRRwhFfPAjq9VPuZBxMFOQkYVp0TGP6buMolncdRZC1M3lxxYns7lSYw9W6dPNuZCiqlP7GipD2CpKhXoliw6qGJkQLFqxGB2wrcgJCpoaEMhQ1CKe6ly6A0DUSUXqXOlOBYlHGvZCGVRL7ZCWUUp3eXLiBXy7ey8IUPIZD',\n",
       "   'taggable_friends': 'https://graph.facebook.com/v2.9/923704370983566/taggable_friends?access_token=EAACEdEose0cBAGoe7GOJ8Whl1AauRRwhFfPAjq9VPuZBxMFOQkYVp0TGP6buMolncdRZC1M3lxxYns7lSYw9W6dPNuZCiqlP7GipD2CpKhXoliw6qGJkQLFqxGB2wrcgJCpoaEMhQ1CKe6ly6A0DUSUXqXOlOBYlHGvZCGVRL7ZCWUUp3eXLiBXy7ey8IUPIZD',\n",
       "   'tagged': 'https://graph.facebook.com/v2.9/923704370983566/tagged?access_token=EAACEdEose0cBAGoe7GOJ8Whl1AauRRwhFfPAjq9VPuZBxMFOQkYVp0TGP6buMolncdRZC1M3lxxYns7lSYw9W6dPNuZCiqlP7GipD2CpKhXoliw6qGJkQLFqxGB2wrcgJCpoaEMhQ1CKe6ly6A0DUSUXqXOlOBYlHGvZCGVRL7ZCWUUp3eXLiBXy7ey8IUPIZD',\n",
       "   'tagged_places': 'https://graph.facebook.com/v2.9/923704370983566/tagged_places?access_token=EAACEdEose0cBAGoe7GOJ8Whl1AauRRwhFfPAjq9VPuZBxMFOQkYVp0TGP6buMolncdRZC1M3lxxYns7lSYw9W6dPNuZCiqlP7GipD2CpKhXoliw6qGJkQLFqxGB2wrcgJCpoaEMhQ1CKe6ly6A0DUSUXqXOlOBYlHGvZCGVRL7ZCWUUp3eXLiBXy7ey8IUPIZD',\n",
       "   'television': 'https://graph.facebook.com/v2.9/923704370983566/television?access_token=EAACEdEose0cBAGoe7GOJ8Whl1AauRRwhFfPAjq9VPuZBxMFOQkYVp0TGP6buMolncdRZC1M3lxxYns7lSYw9W6dPNuZCiqlP7GipD2CpKhXoliw6qGJkQLFqxGB2wrcgJCpoaEMhQ1CKe6ly6A0DUSUXqXOlOBYlHGvZCGVRL7ZCWUUp3eXLiBXy7ey8IUPIZD',\n",
       "   'threads': 'https://graph.facebook.com/v2.9/923704370983566/threads?access_token=EAACEdEose0cBAGoe7GOJ8Whl1AauRRwhFfPAjq9VPuZBxMFOQkYVp0TGP6buMolncdRZC1M3lxxYns7lSYw9W6dPNuZCiqlP7GipD2CpKhXoliw6qGJkQLFqxGB2wrcgJCpoaEMhQ1CKe6ly6A0DUSUXqXOlOBYlHGvZCGVRL7ZCWUUp3eXLiBXy7ey8IUPIZD',\n",
       "   'updates': 'https://graph.facebook.com/v2.9/923704370983566/updates?access_token=EAACEdEose0cBAGoe7GOJ8Whl1AauRRwhFfPAjq9VPuZBxMFOQkYVp0TGP6buMolncdRZC1M3lxxYns7lSYw9W6dPNuZCiqlP7GipD2CpKhXoliw6qGJkQLFqxGB2wrcgJCpoaEMhQ1CKe6ly6A0DUSUXqXOlOBYlHGvZCGVRL7ZCWUUp3eXLiBXy7ey8IUPIZD',\n",
       "   'video_broadcasts': 'https://graph.facebook.com/v2.9/923704370983566/video_broadcasts?access_token=EAACEdEose0cBAGoe7GOJ8Whl1AauRRwhFfPAjq9VPuZBxMFOQkYVp0TGP6buMolncdRZC1M3lxxYns7lSYw9W6dPNuZCiqlP7GipD2CpKhXoliw6qGJkQLFqxGB2wrcgJCpoaEMhQ1CKe6ly6A0DUSUXqXOlOBYlHGvZCGVRL7ZCWUUp3eXLiBXy7ey8IUPIZD',\n",
       "   'videos': 'https://graph.facebook.com/v2.9/923704370983566/videos?access_token=EAACEdEose0cBAGoe7GOJ8Whl1AauRRwhFfPAjq9VPuZBxMFOQkYVp0TGP6buMolncdRZC1M3lxxYns7lSYw9W6dPNuZCiqlP7GipD2CpKhXoliw6qGJkQLFqxGB2wrcgJCpoaEMhQ1CKe6ly6A0DUSUXqXOlOBYlHGvZCGVRL7ZCWUUp3eXLiBXy7ey8IUPIZD'},\n",
       "  'fields': [{'description': \"The id of this person's user account. This ID is unique to each app and cannot be used across different apps. [Our upgrade guide provides more information about app-specific IDs](/docs/apps/upgrading/#upgrading_v2_0_user_ids)\",\n",
       "    'name': 'id',\n",
       "    'type': 'numeric string'},\n",
       "   {'description': 'Equivalent to the `bio` field',\n",
       "    'name': 'about',\n",
       "    'type': 'string'},\n",
       "   {'description': 'Notes added by viewing page on this person',\n",
       "    'name': 'admin_notes',\n",
       "    'type': 'list<pageadminnote>'},\n",
       "   {'description': 'The age segment for this person expressed as a minimum and maximum age. For example, more than 18, less than 21.',\n",
       "    'name': 'age_range',\n",
       "    'type': 'agerange'},\n",
       "   {'description': \"The person's birthday.  This is a fixed format string, like `MM/DD/YYYY`.  However, people can control who can see the year they were born separately from the month and day so this string can be only the year (YYYY) or the month + day (MM/DD)\",\n",
       "    'name': 'birthday',\n",
       "    'type': 'string'},\n",
       "   {'description': 'Can the person review brand polls',\n",
       "    'name': 'can_review_measurement_request',\n",
       "    'type': 'bool'},\n",
       "   {'description': 'Social context for this person',\n",
       "    'name': 'context',\n",
       "    'type': 'usercontext'},\n",
       "   {'description': \"The person's cover photo\",\n",
       "    'name': 'cover',\n",
       "    'type': 'coverphoto'},\n",
       "   {'description': \"The person's local currency information\",\n",
       "    'name': 'currency',\n",
       "    'type': 'currency'},\n",
       "   {'description': 'The list of devices the person is using. This will return only iOS and Android devices',\n",
       "    'name': 'devices',\n",
       "    'type': 'list<userdevice>'},\n",
       "   {'description': \"The person's education\",\n",
       "    'name': 'education',\n",
       "    'type': 'list<educationexperience>'},\n",
       "   {'description': \"The person's primary email address listed on their profile. This field will not be returned if no valid email address is available\",\n",
       "    'name': 'email',\n",
       "    'type': 'string'},\n",
       "   {'description': \"The person's employee number, as set by the company via SCIM API\",\n",
       "    'name': 'employee_number',\n",
       "    'type': 'string'},\n",
       "   {'description': 'Athletes the person likes',\n",
       "    'name': 'favorite_athletes',\n",
       "    'type': 'list<experience>'},\n",
       "   {'description': 'Sports teams the person likes',\n",
       "    'name': 'favorite_teams',\n",
       "    'type': 'list<experience>'},\n",
       "   {'description': \"The person's first name\",\n",
       "    'name': 'first_name',\n",
       "    'type': 'string'},\n",
       "   {'description': 'The gender selected by this person, `male` or `female`. If the gender is set to a custom value, this value will be based off of the preferred pronoun; it will be omitted if the preferred preferred pronoun is neutral',\n",
       "    'name': 'gender',\n",
       "    'type': 'string'},\n",
       "   {'description': \"The person's hometown\",\n",
       "    'name': 'hometown',\n",
       "    'type': 'page'},\n",
       "   {'description': \"The person's inspirational people\",\n",
       "    'name': 'inspirational_people',\n",
       "    'type': 'list<experience>'},\n",
       "   {'description': 'Install type', 'name': 'install_type', 'type': 'enum'},\n",
       "   {'description': 'Is the app making the request installed?',\n",
       "    'name': 'installed',\n",
       "    'type': 'bool'},\n",
       "   {'description': 'Genders the person is interested in',\n",
       "    'name': 'interested_in',\n",
       "    'type': 'list<string>'},\n",
       "   {'description': 'Is this a shared login (e.g. a gray user)',\n",
       "    'name': 'is_shared_login',\n",
       "    'type': 'bool'},\n",
       "   {'description': \"People with large numbers of followers can have the authenticity of their identity [manually verified by Facebook](https://www.facebook.com/help/196050490547892). This field indicates whether the person's profile is verified in this way. This is distinct from the `verified` field\",\n",
       "    'name': 'is_verified',\n",
       "    'type': 'bool'},\n",
       "   {'description': 'Labels applied by viewing page on this person',\n",
       "    'name': 'labels',\n",
       "    'type': 'list<pagelabel>'},\n",
       "   {'description': 'Facebook Pages representing the languages this person knows',\n",
       "    'name': 'languages',\n",
       "    'type': 'list<experience>'},\n",
       "   {'description': \"The person's last name\",\n",
       "    'name': 'last_name',\n",
       "    'type': 'string'},\n",
       "   {'description': \"A link to the person's Timeline\",\n",
       "    'name': 'link',\n",
       "    'type': 'string'},\n",
       "   {'description': \"The person's locale\", 'name': 'locale', 'type': 'string'},\n",
       "   {'description': \"The person's current location as entered by them on their profile. This field is not related to check-ins\",\n",
       "    'name': 'location',\n",
       "    'type': 'page'},\n",
       "   {'description': 'What the person is interested in meeting for',\n",
       "    'name': 'meeting_for',\n",
       "    'type': 'list<string>'},\n",
       "   {'description': \"The person's middle name\",\n",
       "    'name': 'middle_name',\n",
       "    'type': 'string'},\n",
       "   {'description': \"The person's full name\", 'name': 'name', 'type': 'string'},\n",
       "   {'description': \"The person's name formatted to correctly handle Chinese, Japanese, or Korean ordering\",\n",
       "    'name': 'name_format',\n",
       "    'type': 'string'},\n",
       "   {'description': \"The person's payment pricepoints\",\n",
       "    'name': 'payment_pricepoints',\n",
       "    'type': 'paymentpricepoints'},\n",
       "   {'description': \"The person's political views\",\n",
       "    'name': 'political',\n",
       "    'type': 'string'},\n",
       "   {'description': \"The person's PGP public key\",\n",
       "    'name': 'public_key',\n",
       "    'type': 'string'},\n",
       "   {'description': \"The person's favorite quotes\",\n",
       "    'name': 'quotes',\n",
       "    'type': 'string'},\n",
       "   {'description': \"The person's relationship status\",\n",
       "    'name': 'relationship_status',\n",
       "    'type': 'string'},\n",
       "   {'description': \"The person's religion\",\n",
       "    'name': 'religion',\n",
       "    'type': 'string'},\n",
       "   {'description': 'Security settings',\n",
       "    'name': 'security_settings',\n",
       "    'type': 'securitysettings'},\n",
       "   {'description': 'The time that the shared loginneeds to be upgraded to Business Manager by',\n",
       "    'name': 'shared_login_upgrade_required_by',\n",
       "    'type': 'datetime'},\n",
       "   {'description': 'Shortened, locale-aware name for the person',\n",
       "    'name': 'short_name',\n",
       "    'type': 'string'},\n",
       "   {'description': \"The person's significant other\",\n",
       "    'name': 'significant_other',\n",
       "    'type': 'user'},\n",
       "   {'description': 'Sports played by the person',\n",
       "    'name': 'sports',\n",
       "    'type': 'list<experience>'},\n",
       "   {'description': 'Platform test group',\n",
       "    'name': 'test_group',\n",
       "    'type': 'unsigned int32'},\n",
       "   {'description': 'A string containing an anonymous, but unique identifier for the person. You can use this identifier with third parties',\n",
       "    'name': 'third_party_id',\n",
       "    'type': 'string'},\n",
       "   {'description': \"The person's current timezone offset from UTC\",\n",
       "    'name': 'timezone',\n",
       "    'type': 'float (min: -24) (max: 24)'},\n",
       "   {'description': \"A token that is the same across a business's apps. Access to this token requires that the person be logged into your app or have a role on your app. This token will change if the business owning the app changes\",\n",
       "    'name': 'token_for_business',\n",
       "    'type': 'string'},\n",
       "   {'description': 'Updated time', 'name': 'updated_time', 'type': 'datetime'},\n",
       "   {'description': 'Indicates whether the account has been verified. This is distinct from the `is_verified` field. Someone is considered verified if they take any of the following actions:\\n\\n* Register for mobile\\n* Confirm their account via SMS\\n* Enter a valid credit card\\n',\n",
       "    'name': 'verified',\n",
       "    'type': 'bool'},\n",
       "   {'description': 'Video upload limits',\n",
       "    'name': 'video_upload_limits',\n",
       "    'type': 'videouploadlimits'},\n",
       "   {'description': 'Can the viewer send a gift to this person?',\n",
       "    'name': 'viewer_can_send_gift',\n",
       "    'type': 'bool'},\n",
       "   {'description': \"The person's website\",\n",
       "    'name': 'website',\n",
       "    'type': 'string'},\n",
       "   {'description': 'Details of a person`s work experience',\n",
       "    'name': 'work',\n",
       "    'type': 'list<workexperience>'}],\n",
       "  'type': 'user'},\n",
       " 'name': 'Mari Contreras'}"
      ]
     },
     "execution_count": 114,
     "metadata": {},
     "output_type": "execute_result"
    }
   ],
   "source": [
    "#Veamos su metadata\n",
    "facebook_request(\"/923704370983566/\",{\"metadata\":\"1\"})"
   ]
  },
  {
   "cell_type": "code",
   "execution_count": 115,
   "metadata": {},
   "outputs": [
    {
     "data": {
      "text/plain": [
       "{'data': []}"
      ]
     },
     "execution_count": 115,
     "metadata": {},
     "output_type": "execute_result"
    }
   ],
   "source": [
    "facebook_request(\"/923704370983566/books\")"
   ]
  },
  {
   "cell_type": "code",
   "execution_count": 116,
   "metadata": {},
   "outputs": [
    {
     "data": {
      "text/plain": [
       "{'data': []}"
      ]
     },
     "execution_count": 116,
     "metadata": {},
     "output_type": "execute_result"
    }
   ],
   "source": [
    "facebook_request(\"/923704370983566/photos\")"
   ]
  },
  {
   "cell_type": "code",
   "execution_count": 117,
   "metadata": {},
   "outputs": [
    {
     "data": {
      "text/plain": [
       "{'data': []}"
      ]
     },
     "execution_count": 117,
     "metadata": {},
     "output_type": "execute_result"
    }
   ],
   "source": [
    "facebook_request(\"/923704370983566/scores\")"
   ]
  },
  {
   "cell_type": "code",
   "execution_count": 120,
   "metadata": {},
   "outputs": [
    {
     "data": {
      "text/plain": [
       "{'data': [{'created_time': '2017-05-05T18:58:04+0000',\n",
       "   'id': '328238660925763'},\n",
       "  {'created_time': '2017-05-02T01:32:57+0000', 'id': '1048797758585824'},\n",
       "  {'created_time': '2017-05-01T22:40:41+0000', 'id': '1048725765259690'},\n",
       "  {'created_time': '2017-05-01T22:37:34+0000', 'id': '1048723398593260'},\n",
       "  {'created_time': '2017-05-01T22:37:31+0000', 'id': '1048723168593283'},\n",
       "  {'created_time': '2017-05-01T22:37:29+0000', 'id': '1048723115259955'},\n",
       "  {'created_time': '2017-05-01T22:37:27+0000', 'id': '1048723051926628'},\n",
       "  {'created_time': '2017-04-13T04:19:52+0000', 'id': '1837925099793212'},\n",
       "  {'created_time': '2016-12-11T16:19:49+0000',\n",
       "   'id': '1825099551046299',\n",
       "   'name': 'En un día como hoy: hace tres años en nuestro primer diálogo de Gobierno Abierto acompañados del experto en temas de innovación pública DPP. Rafael Valenzuela #GobiernoAbierto #LabAC'},\n",
       "  {'created_time': '2016-12-05T15:46:13+0000',\n",
       "   'id': '10157929767165694',\n",
       "   'name': \"“There are some things you can't share without ending up liking each other, and knocking out a twelve-foot mountain troll is one of them.”\\n\\n― J.K. Rowling, Harry Potter and the Sorcerer's Stone\\n\\nCívica Digital  - Summit Winter 2016\"},\n",
       "  {'created_time': '2016-11-26T16:12:33+0000', 'id': '1795495884037345'},\n",
       "  {'created_time': '2016-06-24T18:59:06+0000', 'id': '1737653909851266'},\n",
       "  {'created_time': '2016-09-22T05:37:52+0000',\n",
       "   'id': '1017971148315608',\n",
       "   'name': 'Conexión Las Torres!! \\nCumple Ricky y March!!  \\nLos quiero!!\\nPd. Etiqueten a los demás y de paso agreguenme chicos! Jajajajajjaa'},\n",
       "  {'created_time': '2016-09-22T00:41:04+0000',\n",
       "   'id': '1080004598721530',\n",
       "   'name': 'Richy, Feliz cumpleaños eres el mejor amigo del mundo!!!!!\\nTe quiero muchísimo Dios te bendiga hoy y siempreee y pásala increíble ( Encontre una foto vieja de años ) :) :) JAJAJAJAJAA'},\n",
       "  {'created_time': '2016-09-20T11:34:51+0000',\n",
       "   'id': '1187901847899243',\n",
       "   'name': 'El día de ayer tuvimos la reunión del Seminario de Lectura Bíblica. Damos gracias al Señor por la participación de los asistentes, pues enriquecen la experiencia haciendo aportes muy significativos. La invitación está extendida y las puertas están abiertas para todos ustedes que nos leen.'},\n",
       "  {'created_time': '2016-09-11T02:27:02+0000', 'id': '855708081230598'},\n",
       "  {'created_time': '2016-08-27T19:44:09+0000',\n",
       "   'id': '1058214700900520',\n",
       "   'name': 'Muchas gracias por estar conmigo a todos, los quierooo muchisimo, la paseee increiblee 🎂🎈🎈🎈🎉🎉🎉🎁🎁 !!!!!!! Dios es fiel'},\n",
       "  {'created_time': '2016-08-26T05:34:16+0000',\n",
       "   'id': '1071214269636127',\n",
       "   'name': 'Está bien Dani, si te perdonamos :P'},\n",
       "  {'created_time': '2016-08-26T04:29:57+0000', 'id': '1071190872971800'},\n",
       "  {'created_time': '2016-08-26T04:31:11+0000', 'id': '1071191656305055'},\n",
       "  {'created_time': '2016-08-26T01:05:51+0000', 'id': '1071014056322815'},\n",
       "  {'created_time': '2016-08-26T04:30:07+0000', 'id': '1071190969638457'},\n",
       "  {'created_time': '2016-08-26T04:41:01+0000', 'id': '1071195799637974'},\n",
       "  {'created_time': '2016-08-01T21:00:00+0000',\n",
       "   'id': '1828709004015013',\n",
       "   'name': 'Podcast\\nPaz a la voz 01/08/16 – Codeando Monterrey\\n\\nRicardo Alanís de Codeando Monterrey nos explica la importancia de los datos y lo que se puede hacer con ellos, desde lo individual, hasta las decisiones a nivel ciudad.\\n\\nEscucha el episodio aquí: \\nhttp://pazes.org/bl…/paz-a-la-voz-010816-codeando-monterrey/\\n\\nSuscríbete al podcast para escuchar este y otros episodios aquí:\\nhttps://itunes.apple.com/podcast/paz-a-la-voz/id317141710'},\n",
       "  {'created_time': '2016-07-13T16:13:47+0000', 'id': '1183244765060917'}],\n",
       " 'paging': {'cursors': {'after': 'TVRFNE16STBORGMyTlRBMk1Ea3hOem94TkRZANE5EWTVNVFU1T2pNNU5EQTRPVFkwTURZAME56ZA3pOZAz09',\n",
       "   'before': 'TXpJNE1qTTROall3T1RJMU56WXpPakUwT1RRd01UY3pOek02TXprME1EZAzVOalF3TmpRM09ETTIZD'},\n",
       "  'next': 'https://graph.facebook.com/v2.9/10152636101046117/photos?access_token=EAACEdEose0cBAGoe7GOJ8Whl1AauRRwhFfPAjq9VPuZBxMFOQkYVp0TGP6buMolncdRZC1M3lxxYns7lSYw9W6dPNuZCiqlP7GipD2CpKhXoliw6qGJkQLFqxGB2wrcgJCpoaEMhQ1CKe6ly6A0DUSUXqXOlOBYlHGvZCGVRL7ZCWUUp3eXLiBXy7ey8IUPIZD&limit=25&after=TVRFNE16STBORGMyTlRBMk1Ea3hOem94TkRZANE5EWTVNVFU1T2pNNU5EQTRPVFkwTURZAME56ZA3pOZAz09'}}"
      ]
     },
     "execution_count": 120,
     "metadata": {},
     "output_type": "execute_result"
    }
   ],
   "source": [
    "facebook_request(\"/me/photos\")"
   ]
  },
  {
   "cell_type": "markdown",
   "metadata": {},
   "source": [
    "De eso se trata la graph api. Tu tienes acceso a una cantidad de información específica a la que tiene tu usuario en la realidad. Vaya, el API no te va a permitir stalkear a esa chava o chavo que quieres ligarte *Data Driven*"
   ]
  },
  {
   "cell_type": "markdown",
   "metadata": {},
   "source": [
    "Estos son los principios básicos de la exploración de Facebook desde la API. Solo recuerda que todo en Facebook tiene ID. Recuerda que está en la parte superior de tu explorador y es un número largo. Cada uno de estos objetos tiene verbos y campos: Verbos que tienen información de las acciones que se le pueden hacer a estos objetos; y campos de descripción. Conectar estos datos. Cuando tienes el id del objeto es relativamente fácil sacarle la información"
   ]
  },
  {
   "cell_type": "markdown",
   "metadata": {},
   "source": [
    "¿Pero y como descubro cosas en Facebook? O ids que no puedo sacar"
   ]
  },
  {
   "cell_type": "markdown",
   "metadata": {},
   "source": [
    "### No existe una search api en Facebook."
   ]
  },
  {
   "cell_type": "markdown",
   "metadata": {},
   "source": [
    "Es tristísimo, pero así es la realidad. Especialmente si queremos buscar cosas sobre un tema. Pero todo tiene solución, la solución aquí es sacarle la vuelta y usar la API de Bing para encontrar cosas. El truco es así: Queremos encontrar páginas que hablen sobre un tema? Solo buscalo. Jala algunas paginas que hablen sobre el tema y de ahi jalar más, usando los likes publicos de la página u otros recursos"
   ]
  },
  {
   "cell_type": "markdown",
   "metadata": {},
   "source": [
    "https://azure.microsoft.com/en-us/services/cognitive-services/bing-web-search-api/, registrate con FB. Toma 1 minuto"
   ]
  },
  {
   "cell_type": "code",
   "execution_count": 150,
   "metadata": {
    "collapsed": true
   },
   "outputs": [],
   "source": [
    "def bing_search(query):\n",
    "    base_url = \"https://api.cognitive.microsoft.com/bing/v5.0/search?q=\"\n",
    "    headers = {\"Ocp-Apim-Subscription-Key\": \"\"}\n",
    "    r = requests.get(base_url+query, headers=headers)\n",
    "    return r.json()\n",
    "    "
   ]
  },
  {
   "cell_type": "code",
   "execution_count": 145,
   "metadata": {},
   "outputs": [
    {
     "data": {
      "text/plain": [
       "{'_type': 'SearchResponse',\n",
       " 'rankingResponse': {'mainline': {'items': [{'answerType': 'WebPages',\n",
       "     'resultIndex': 0,\n",
       "     'value': {'id': 'https://api.cognitive.microsoft.com/api/v5/#WebPages.0'}},\n",
       "    {'answerType': 'WebPages',\n",
       "     'resultIndex': 1,\n",
       "     'value': {'id': 'https://api.cognitive.microsoft.com/api/v5/#WebPages.1'}},\n",
       "    {'answerType': 'WebPages',\n",
       "     'resultIndex': 2,\n",
       "     'value': {'id': 'https://api.cognitive.microsoft.com/api/v5/#WebPages.2'}},\n",
       "    {'answerType': 'WebPages',\n",
       "     'resultIndex': 3,\n",
       "     'value': {'id': 'https://api.cognitive.microsoft.com/api/v5/#WebPages.3'}},\n",
       "    {'answerType': 'WebPages',\n",
       "     'resultIndex': 4,\n",
       "     'value': {'id': 'https://api.cognitive.microsoft.com/api/v5/#WebPages.4'}},\n",
       "    {'answerType': 'WebPages',\n",
       "     'resultIndex': 5,\n",
       "     'value': {'id': 'https://api.cognitive.microsoft.com/api/v5/#WebPages.5'}},\n",
       "    {'answerType': 'WebPages',\n",
       "     'resultIndex': 6,\n",
       "     'value': {'id': 'https://api.cognitive.microsoft.com/api/v5/#WebPages.6'}},\n",
       "    {'answerType': 'WebPages',\n",
       "     'resultIndex': 7,\n",
       "     'value': {'id': 'https://api.cognitive.microsoft.com/api/v5/#WebPages.7'}},\n",
       "    {'answerType': 'WebPages',\n",
       "     'resultIndex': 8,\n",
       "     'value': {'id': 'https://api.cognitive.microsoft.com/api/v5/#WebPages.8'}},\n",
       "    {'answerType': 'WebPages',\n",
       "     'resultIndex': 9,\n",
       "     'value': {'id': 'https://api.cognitive.microsoft.com/api/v5/#WebPages.9'}}]},\n",
       "  'sidebar': {'items': [{'answerType': 'RelatedSearches',\n",
       "     'value': {'id': 'https://api.cognitive.microsoft.com/api/v5/#RelatedSearches'}}]}},\n",
       " 'relatedSearches': {'id': 'https://api.cognitive.microsoft.com/api/v5/#RelatedSearches',\n",
       "  'value': [{'displayText': 'carmen aristegui noticias en vivo',\n",
       "    'text': 'carmen aristegui noticias en vivo',\n",
       "    'webSearchUrl': 'https://www.bing.com/cr?IG=E7A12FA13042453FB4AAAB78F684BD98&CID=225A5DC075AB69942AD2574774036815&rd=1&h=Yhkuu1QiTGa886ApebwjCbfAxN58VS9m9Ed43xz7-EM&v=1&r=https%3a%2f%2fwww.bing.com%2fsearch%3fq%3dcarmen%2baristegui%2bnoticias%2ben%2bvivo&p=DevEx,5306.1'},\n",
       "   {'displayText': 'carmen aristegui y su pareja',\n",
       "    'text': 'carmen aristegui y su pareja',\n",
       "    'webSearchUrl': 'https://www.bing.com/cr?IG=E7A12FA13042453FB4AAAB78F684BD98&CID=225A5DC075AB69942AD2574774036815&rd=1&h=c3m1xysYKZRgC3RMtAgFFDSgWSTdruyFccwpNoekTCg&v=1&r=https%3a%2f%2fwww.bing.com%2fsearch%3fq%3dcarmen%2baristegui%2by%2bsu%2bpareja&p=DevEx,5307.1'},\n",
       "   {'displayText': 'aristegui y su novia',\n",
       "    'text': 'aristegui y su novia',\n",
       "    'webSearchUrl': 'https://www.bing.com/cr?IG=E7A12FA13042453FB4AAAB78F684BD98&CID=225A5DC075AB69942AD2574774036815&rd=1&h=MPeX5Y1-EqckTEykZdHHs5WGtI7gApN1WFAlhV-w5jw&v=1&r=https%3a%2f%2fwww.bing.com%2fsearch%3fq%3daristegui%2by%2bsu%2bnovia&p=DevEx,5308.1'},\n",
       "   {'displayText': 'emilio zebadua y carmen aristegui',\n",
       "    'text': 'emilio zebadua y carmen aristegui',\n",
       "    'webSearchUrl': 'https://www.bing.com/cr?IG=E7A12FA13042453FB4AAAB78F684BD98&CID=225A5DC075AB69942AD2574774036815&rd=1&h=3nmg9Wezhnk7s2V-RCCn_GirHBqQDuZOJFXCdx5I2bk&v=1&r=https%3a%2f%2fwww.bing.com%2fsearch%3fq%3demilio%2bzebadua%2by%2bcarmen%2baristegui&p=DevEx,5309.1'},\n",
       "   {'displayText': 'revista proceso',\n",
       "    'text': 'revista proceso',\n",
       "    'webSearchUrl': 'https://www.bing.com/cr?IG=E7A12FA13042453FB4AAAB78F684BD98&CID=225A5DC075AB69942AD2574774036815&rd=1&h=WYsn5-Vx0G2AZehE6YjuPcNPAmpvLxlu5ObWVjLmIWo&v=1&r=https%3a%2f%2fwww.bing.com%2fsearch%3fq%3drevista%2bproceso&p=DevEx,5310.1'},\n",
       "   {'displayText': 'animal político periódico méxico',\n",
       "    'text': 'animal político periódico méxico',\n",
       "    'webSearchUrl': 'https://www.bing.com/cr?IG=E7A12FA13042453FB4AAAB78F684BD98&CID=225A5DC075AB69942AD2574774036815&rd=1&h=UNh5rNkucpwNCnQDwyJ4V_0HoVbdmmRj2kHUVs5gNxQ&v=1&r=https%3a%2f%2fwww.bing.com%2fsearch%3fq%3danimal%2bpol%25c3%25adtico%2bperi%25c3%25b3dico%2bm%25c3%25a9xico&p=DevEx,5311.1'},\n",
       "   {'displayText': 'aristegui noticias hoy',\n",
       "    'text': 'aristegui noticias hoy',\n",
       "    'webSearchUrl': 'https://www.bing.com/cr?IG=E7A12FA13042453FB4AAAB78F684BD98&CID=225A5DC075AB69942AD2574774036815&rd=1&h=Co7PDTJJ3QV0-qR8e1yJ5XtwoMCB57AmfRRpA__nnII&v=1&r=https%3a%2f%2fwww.bing.com%2fsearch%3fq%3daristegui%2bnoticias%2bhoy&p=DevEx,5312.1'},\n",
       "   {'displayText': 'noticias aristegui en vivo youtube',\n",
       "    'text': 'noticias aristegui en vivo youtube',\n",
       "    'webSearchUrl': 'https://www.bing.com/cr?IG=E7A12FA13042453FB4AAAB78F684BD98&CID=225A5DC075AB69942AD2574774036815&rd=1&h=8RC-9sTql-0yKvHhxVMiMe1bgkYguSoNo1xR73oYtB4&v=1&r=https%3a%2f%2fwww.bing.com%2fsearch%3fq%3dnoticias%2baristegui%2ben%2bvivo%2byoutube&p=DevEx,5313.1'}]},\n",
       " 'webPages': {'totalEstimatedMatches': 77900,\n",
       "  'value': [{'dateLastCrawled': '2017-05-12T07:28:00',\n",
       "    'displayUrl': 'https://es-la.facebook.com/AristeguiOnline',\n",
       "    'id': 'https://api.cognitive.microsoft.com/api/v5/#WebPages.0',\n",
       "    'name': 'Aristegui Noticias - Inicio | Facebook',\n",
       "    'snippet': 'Inicia sesión en Facebook para ver más de Aristegui Noticias. Envía un mensaje a esta página, obtén información sobre los próximos eventos y mucho más.',\n",
       "    'url': 'https://www.bing.com/cr?IG=E7A12FA13042453FB4AAAB78F684BD98&CID=225A5DC075AB69942AD2574774036815&rd=1&h=jP1YRdbbLg_pnZGJP4V4_n2Lxr0jBZ2F24jvKoYEWTc&v=1&r=https%3a%2f%2fes-la.facebook.com%2fAristeguiOnline&p=DevEx,5065.1'},\n",
       "   {'about': [{'name': 'Carmen Aristegui'}],\n",
       "    'dateLastCrawled': '2017-05-12T22:58:00',\n",
       "    'displayUrl': 'https://www.facebook.com/AristeguiOnline',\n",
       "    'id': 'https://api.cognitive.microsoft.com/api/v5/#WebPages.1',\n",
       "    'name': 'Aristegui Noticias - Home | Facebook',\n",
       "    'snippet': 'See more of Aristegui Noticias by logging into Facebook. Message this Page, learn about upcoming events and more. Log In. or. Sign Up. Not Now. Community.',\n",
       "    'url': 'https://www.bing.com/cr?IG=E7A12FA13042453FB4AAAB78F684BD98&CID=225A5DC075AB69942AD2574774036815&rd=1&h=E8-IlPqq3GoCmKSZIMEwYBJmlBEQTZdBs09lRcosWTE&v=1&r=https%3a%2f%2fwww.facebook.com%2fAristeguiOnline&p=DevEx,5079.1'},\n",
       "   {'dateLastCrawled': '2017-05-06T19:42:00',\n",
       "    'displayUrl': 'www.facebook.com/aristeguicnn',\n",
       "    'id': 'https://api.cognitive.microsoft.com/api/v5/#WebPages.2',\n",
       "    'name': 'Aristegui - Home | Facebook',\n",
       "    'snippet': 'Aristegui. 2,204,931 likes · 5,928 talking about this. Página oficial de Aristegui. De lunes a viernes, ... Aristegui Noticias. Media/News Company. La Jornada.',\n",
       "    'url': 'http://www.bing.com/cr?IG=E7A12FA13042453FB4AAAB78F684BD98&CID=225A5DC075AB69942AD2574774036815&rd=1&h=RgFlmhAhapOY3D_d8AT7rnegakUUm6VuFbrmmrWLHFU&v=1&r=http%3a%2f%2fwww.facebook.com%2faristeguicnn&p=DevEx,5093.1'},\n",
       "   {'dateLastCrawled': '2017-05-07T21:56:00',\n",
       "    'displayUrl': 'https://es-la.facebook.com/aristeguicnn',\n",
       "    'id': 'https://api.cognitive.microsoft.com/api/v5/#WebPages.3',\n",
       "    'name': 'Aristegui - Inicio | Facebook',\n",
       "    'snippet': 'Aristegui Noticias. Medio de comunicación/noticias. La Jornada. Empresa productora de medios y radiodifusión. Andres Manuel Lopez Obrador. Político.',\n",
       "    'url': 'https://www.bing.com/cr?IG=E7A12FA13042453FB4AAAB78F684BD98&CID=225A5DC075AB69942AD2574774036815&rd=1&h=iZdm8JxGCLpFy_baT_A50h5tvK57XI7T67GvGcPGik8&v=1&r=https%3a%2f%2fes-la.facebook.com%2faristeguicnn&p=DevEx,5110.1'},\n",
       "   {'dateLastCrawled': '2017-05-10T14:55:00',\n",
       "    'displayUrl': 'https://www.facebook.com/AristeguiOnline/videos',\n",
       "    'id': 'https://api.cognitive.microsoft.com/api/v5/#WebPages.4',\n",
       "    'name': 'Aristegui Noticias - Videos | Facebook',\n",
       "    'snippet': 'See more of Aristegui Noticias by logging into Facebook. Message this Page, learn about upcoming events and more. Log In. or. Sign Up.',\n",
       "    'url': 'https://www.bing.com/cr?IG=E7A12FA13042453FB4AAAB78F684BD98&CID=225A5DC075AB69942AD2574774036815&rd=1&h=6gLppzLZq3YKQGTSztor4EU1xk1jCJOyb667HxtL_K8&v=1&r=https%3a%2f%2fwww.facebook.com%2fAristeguiOnline%2fvideos&p=DevEx,5124.1'},\n",
       "   {'dateLastCrawled': '2017-03-23T11:21:00',\n",
       "    'displayUrl': 'https://www.facebook.com/AristeguiOnline/?hc_ref=PAGES_TIMELINE&...',\n",
       "    'id': 'https://api.cognitive.microsoft.com/api/v5/#WebPages.5',\n",
       "    'name': 'Aristegui Noticias | Facebook',\n",
       "    'snippet': 'Aristegui Noticias, Mexico City, Mexico. 7,328,552 likes · 410,141 talking about this. http://Aristeguinoticias.com - Desde cualquier medio, ...',\n",
       "    'url': 'https://www.bing.com/cr?IG=E7A12FA13042453FB4AAAB78F684BD98&CID=225A5DC075AB69942AD2574774036815&rd=1&h=PnuTd78H7AY_CShZfZKDeXLQeTYQIP0Nd-IqUZzGFWY&v=1&r=https%3a%2f%2fwww.facebook.com%2fAristeguiOnline%2f%3fhc_ref%3dPAGES_TIMELINE%26fref%3dnf&p=DevEx,5137.1'},\n",
       "   {'dateLastCrawled': '2017-03-24T22:58:00',\n",
       "    'displayUrl': 'https://www.facebook.com/AristeguiOnline/?hc_ref=SEARCH&fref=nf',\n",
       "    'id': 'https://api.cognitive.microsoft.com/api/v5/#WebPages.6',\n",
       "    'name': 'Aristegui Noticias | Facebook',\n",
       "    'snippet': 'Aristegui Noticias, Mexico City, Mexico. 7,330,836 likes · 427,924 talking about this. http://Aristeguinoticias.com - Desde cualquier medio, ...',\n",
       "    'url': 'https://www.bing.com/cr?IG=E7A12FA13042453FB4AAAB78F684BD98&CID=225A5DC075AB69942AD2574774036815&rd=1&h=_VCto5VT5K1tggdmzXGUzlhHdZH0aC12almnJpewN20&v=1&r=https%3a%2f%2fwww.facebook.com%2fAristeguiOnline%2f%3fhc_ref%3dSEARCH%26fref%3dnf&p=DevEx,5150.1'},\n",
       "   {'dateLastCrawled': '2017-03-12T11:14:00',\n",
       "    'displayUrl': 'https://www.appl.lite.facebook.com/AristeguiOnline',\n",
       "    'id': 'https://api.cognitive.microsoft.com/api/v5/#WebPages.7',\n",
       "    'name': 'Aristegui Noticias | Facebook',\n",
       "    'snippet': \"See more of Aristegui Noticias by logging into Facebook. Message this Page, learn about upcoming events and more. If you don't have a Facebook account, ...\",\n",
       "    'url': 'https://www.bing.com/cr?IG=E7A12FA13042453FB4AAAB78F684BD98&CID=225A5DC075AB69942AD2574774036815&rd=1&h=zMdJtlbDoB77U1fuJzIBVoHeof6ebmzBUPoAFZ9_Pyw&v=1&r=https%3a%2f%2fwww.appl.lite.facebook.com%2fAristeguiOnline%2f&p=DevEx,5163.1'},\n",
       "   {'dateLastCrawled': '2017-04-13T17:54:00',\n",
       "    'displayUrl': 'https://www.facebook.com/AristeguiOnline/timeline',\n",
       "    'id': 'https://api.cognitive.microsoft.com/api/v5/#WebPages.8',\n",
       "    'name': 'Aristegui Noticias - Home | Facebook',\n",
       "    'snippet': \"See more of Aristegui Noticias by logging into Facebook. Message this Page, learn about upcoming events and more. If you don't have a Facebook account, ...\",\n",
       "    'url': 'https://www.bing.com/cr?IG=E7A12FA13042453FB4AAAB78F684BD98&CID=225A5DC075AB69942AD2574774036815&rd=1&h=a2bQVTIFpDr8wvsZwyc08mzSVo1CTjnTNZPTaOia1Wo&v=1&r=https%3a%2f%2fwww.facebook.com%2fAristeguiOnline%2ftimeline&p=DevEx,5177.1'},\n",
       "   {'dateLastCrawled': '2017-05-11T21:26:00',\n",
       "    'displayUrl': 'https://www.facebook.com/pg/AristeguiOnline/posts',\n",
       "    'id': 'https://api.cognitive.microsoft.com/api/v5/#WebPages.9',\n",
       "    'name': 'Aristegui Noticias - Posts | Facebook',\n",
       "    'snippet': 'See more of Aristegui Noticias by logging into Facebook. Message this Page, learn about upcoming events and more. Log In. or. Sign Up. Not Now. Visitor Posts.',\n",
       "    'url': 'https://www.bing.com/cr?IG=E7A12FA13042453FB4AAAB78F684BD98&CID=225A5DC075AB69942AD2574774036815&rd=1&h=HV2osmTz7Yt7fI45JMO_z6_q3YZJCIbYYh60yivpfks&v=1&r=https%3a%2f%2fwww.facebook.com%2fpg%2fAristeguiOnline%2fposts%2f&p=DevEx,5190.1'}],\n",
       "  'webSearchUrl': 'https://www.bing.com/cr?IG=E7A12FA13042453FB4AAAB78F684BD98&CID=225A5DC075AB69942AD2574774036815&rd=1&h=xaQAZdUIofNALzQ3e5HhH3m5dW6zfrYH13FJl3MTBwA&v=1&r=https%3a%2f%2fwww.bing.com%2fsearch%3fq%3dsite%253afacebook.com%2baristegui%2bnoticias&p=DevEx,5305.1'}}"
      ]
     },
     "execution_count": 145,
     "metadata": {},
     "output_type": "execute_result"
    }
   ],
   "source": [
    "results = bing_search(\"site:facebook.com aristegui noticias\")\n",
    "results"
   ]
  },
  {
   "cell_type": "code",
   "execution_count": 146,
   "metadata": {},
   "outputs": [
    {
     "data": {
      "text/plain": [
       "dict_keys(['_type', 'webPages', 'relatedSearches', 'rankingResponse'])"
      ]
     },
     "execution_count": 146,
     "metadata": {},
     "output_type": "execute_result"
    }
   ],
   "source": [
    "results.keys()"
   ]
  },
  {
   "cell_type": "code",
   "execution_count": 147,
   "metadata": {},
   "outputs": [
    {
     "data": {
      "text/plain": [
       "{'totalEstimatedMatches': 77900,\n",
       " 'value': [{'dateLastCrawled': '2017-05-12T07:28:00',\n",
       "   'displayUrl': 'https://es-la.facebook.com/AristeguiOnline',\n",
       "   'id': 'https://api.cognitive.microsoft.com/api/v5/#WebPages.0',\n",
       "   'name': 'Aristegui Noticias - Inicio | Facebook',\n",
       "   'snippet': 'Inicia sesión en Facebook para ver más de Aristegui Noticias. Envía un mensaje a esta página, obtén información sobre los próximos eventos y mucho más.',\n",
       "   'url': 'https://www.bing.com/cr?IG=E7A12FA13042453FB4AAAB78F684BD98&CID=225A5DC075AB69942AD2574774036815&rd=1&h=jP1YRdbbLg_pnZGJP4V4_n2Lxr0jBZ2F24jvKoYEWTc&v=1&r=https%3a%2f%2fes-la.facebook.com%2fAristeguiOnline&p=DevEx,5065.1'},\n",
       "  {'about': [{'name': 'Carmen Aristegui'}],\n",
       "   'dateLastCrawled': '2017-05-12T22:58:00',\n",
       "   'displayUrl': 'https://www.facebook.com/AristeguiOnline',\n",
       "   'id': 'https://api.cognitive.microsoft.com/api/v5/#WebPages.1',\n",
       "   'name': 'Aristegui Noticias - Home | Facebook',\n",
       "   'snippet': 'See more of Aristegui Noticias by logging into Facebook. Message this Page, learn about upcoming events and more. Log In. or. Sign Up. Not Now. Community.',\n",
       "   'url': 'https://www.bing.com/cr?IG=E7A12FA13042453FB4AAAB78F684BD98&CID=225A5DC075AB69942AD2574774036815&rd=1&h=E8-IlPqq3GoCmKSZIMEwYBJmlBEQTZdBs09lRcosWTE&v=1&r=https%3a%2f%2fwww.facebook.com%2fAristeguiOnline&p=DevEx,5079.1'},\n",
       "  {'dateLastCrawled': '2017-05-06T19:42:00',\n",
       "   'displayUrl': 'www.facebook.com/aristeguicnn',\n",
       "   'id': 'https://api.cognitive.microsoft.com/api/v5/#WebPages.2',\n",
       "   'name': 'Aristegui - Home | Facebook',\n",
       "   'snippet': 'Aristegui. 2,204,931 likes · 5,928 talking about this. Página oficial de Aristegui. De lunes a viernes, ... Aristegui Noticias. Media/News Company. La Jornada.',\n",
       "   'url': 'http://www.bing.com/cr?IG=E7A12FA13042453FB4AAAB78F684BD98&CID=225A5DC075AB69942AD2574774036815&rd=1&h=RgFlmhAhapOY3D_d8AT7rnegakUUm6VuFbrmmrWLHFU&v=1&r=http%3a%2f%2fwww.facebook.com%2faristeguicnn&p=DevEx,5093.1'},\n",
       "  {'dateLastCrawled': '2017-05-07T21:56:00',\n",
       "   'displayUrl': 'https://es-la.facebook.com/aristeguicnn',\n",
       "   'id': 'https://api.cognitive.microsoft.com/api/v5/#WebPages.3',\n",
       "   'name': 'Aristegui - Inicio | Facebook',\n",
       "   'snippet': 'Aristegui Noticias. Medio de comunicación/noticias. La Jornada. Empresa productora de medios y radiodifusión. Andres Manuel Lopez Obrador. Político.',\n",
       "   'url': 'https://www.bing.com/cr?IG=E7A12FA13042453FB4AAAB78F684BD98&CID=225A5DC075AB69942AD2574774036815&rd=1&h=iZdm8JxGCLpFy_baT_A50h5tvK57XI7T67GvGcPGik8&v=1&r=https%3a%2f%2fes-la.facebook.com%2faristeguicnn&p=DevEx,5110.1'},\n",
       "  {'dateLastCrawled': '2017-05-10T14:55:00',\n",
       "   'displayUrl': 'https://www.facebook.com/AristeguiOnline/videos',\n",
       "   'id': 'https://api.cognitive.microsoft.com/api/v5/#WebPages.4',\n",
       "   'name': 'Aristegui Noticias - Videos | Facebook',\n",
       "   'snippet': 'See more of Aristegui Noticias by logging into Facebook. Message this Page, learn about upcoming events and more. Log In. or. Sign Up.',\n",
       "   'url': 'https://www.bing.com/cr?IG=E7A12FA13042453FB4AAAB78F684BD98&CID=225A5DC075AB69942AD2574774036815&rd=1&h=6gLppzLZq3YKQGTSztor4EU1xk1jCJOyb667HxtL_K8&v=1&r=https%3a%2f%2fwww.facebook.com%2fAristeguiOnline%2fvideos&p=DevEx,5124.1'},\n",
       "  {'dateLastCrawled': '2017-03-23T11:21:00',\n",
       "   'displayUrl': 'https://www.facebook.com/AristeguiOnline/?hc_ref=PAGES_TIMELINE&...',\n",
       "   'id': 'https://api.cognitive.microsoft.com/api/v5/#WebPages.5',\n",
       "   'name': 'Aristegui Noticias | Facebook',\n",
       "   'snippet': 'Aristegui Noticias, Mexico City, Mexico. 7,328,552 likes · 410,141 talking about this. http://Aristeguinoticias.com - Desde cualquier medio, ...',\n",
       "   'url': 'https://www.bing.com/cr?IG=E7A12FA13042453FB4AAAB78F684BD98&CID=225A5DC075AB69942AD2574774036815&rd=1&h=PnuTd78H7AY_CShZfZKDeXLQeTYQIP0Nd-IqUZzGFWY&v=1&r=https%3a%2f%2fwww.facebook.com%2fAristeguiOnline%2f%3fhc_ref%3dPAGES_TIMELINE%26fref%3dnf&p=DevEx,5137.1'},\n",
       "  {'dateLastCrawled': '2017-03-24T22:58:00',\n",
       "   'displayUrl': 'https://www.facebook.com/AristeguiOnline/?hc_ref=SEARCH&fref=nf',\n",
       "   'id': 'https://api.cognitive.microsoft.com/api/v5/#WebPages.6',\n",
       "   'name': 'Aristegui Noticias | Facebook',\n",
       "   'snippet': 'Aristegui Noticias, Mexico City, Mexico. 7,330,836 likes · 427,924 talking about this. http://Aristeguinoticias.com - Desde cualquier medio, ...',\n",
       "   'url': 'https://www.bing.com/cr?IG=E7A12FA13042453FB4AAAB78F684BD98&CID=225A5DC075AB69942AD2574774036815&rd=1&h=_VCto5VT5K1tggdmzXGUzlhHdZH0aC12almnJpewN20&v=1&r=https%3a%2f%2fwww.facebook.com%2fAristeguiOnline%2f%3fhc_ref%3dSEARCH%26fref%3dnf&p=DevEx,5150.1'},\n",
       "  {'dateLastCrawled': '2017-03-12T11:14:00',\n",
       "   'displayUrl': 'https://www.appl.lite.facebook.com/AristeguiOnline',\n",
       "   'id': 'https://api.cognitive.microsoft.com/api/v5/#WebPages.7',\n",
       "   'name': 'Aristegui Noticias | Facebook',\n",
       "   'snippet': \"See more of Aristegui Noticias by logging into Facebook. Message this Page, learn about upcoming events and more. If you don't have a Facebook account, ...\",\n",
       "   'url': 'https://www.bing.com/cr?IG=E7A12FA13042453FB4AAAB78F684BD98&CID=225A5DC075AB69942AD2574774036815&rd=1&h=zMdJtlbDoB77U1fuJzIBVoHeof6ebmzBUPoAFZ9_Pyw&v=1&r=https%3a%2f%2fwww.appl.lite.facebook.com%2fAristeguiOnline%2f&p=DevEx,5163.1'},\n",
       "  {'dateLastCrawled': '2017-04-13T17:54:00',\n",
       "   'displayUrl': 'https://www.facebook.com/AristeguiOnline/timeline',\n",
       "   'id': 'https://api.cognitive.microsoft.com/api/v5/#WebPages.8',\n",
       "   'name': 'Aristegui Noticias - Home | Facebook',\n",
       "   'snippet': \"See more of Aristegui Noticias by logging into Facebook. Message this Page, learn about upcoming events and more. If you don't have a Facebook account, ...\",\n",
       "   'url': 'https://www.bing.com/cr?IG=E7A12FA13042453FB4AAAB78F684BD98&CID=225A5DC075AB69942AD2574774036815&rd=1&h=a2bQVTIFpDr8wvsZwyc08mzSVo1CTjnTNZPTaOia1Wo&v=1&r=https%3a%2f%2fwww.facebook.com%2fAristeguiOnline%2ftimeline&p=DevEx,5177.1'},\n",
       "  {'dateLastCrawled': '2017-05-11T21:26:00',\n",
       "   'displayUrl': 'https://www.facebook.com/pg/AristeguiOnline/posts',\n",
       "   'id': 'https://api.cognitive.microsoft.com/api/v5/#WebPages.9',\n",
       "   'name': 'Aristegui Noticias - Posts | Facebook',\n",
       "   'snippet': 'See more of Aristegui Noticias by logging into Facebook. Message this Page, learn about upcoming events and more. Log In. or. Sign Up. Not Now. Visitor Posts.',\n",
       "   'url': 'https://www.bing.com/cr?IG=E7A12FA13042453FB4AAAB78F684BD98&CID=225A5DC075AB69942AD2574774036815&rd=1&h=HV2osmTz7Yt7fI45JMO_z6_q3YZJCIbYYh60yivpfks&v=1&r=https%3a%2f%2fwww.facebook.com%2fpg%2fAristeguiOnline%2fposts%2f&p=DevEx,5190.1'}],\n",
       " 'webSearchUrl': 'https://www.bing.com/cr?IG=E7A12FA13042453FB4AAAB78F684BD98&CID=225A5DC075AB69942AD2574774036815&rd=1&h=xaQAZdUIofNALzQ3e5HhH3m5dW6zfrYH13FJl3MTBwA&v=1&r=https%3a%2f%2fwww.bing.com%2fsearch%3fq%3dsite%253afacebook.com%2baristegui%2bnoticias&p=DevEx,5305.1'}"
      ]
     },
     "execution_count": 147,
     "metadata": {},
     "output_type": "execute_result"
    }
   ],
   "source": [
    "results[\"webPages\"]"
   ]
  },
  {
   "cell_type": "code",
   "execution_count": 148,
   "metadata": {
    "collapsed": true
   },
   "outputs": [],
   "source": [
    "# Recuerda que la busqueda no es sencilla, pero usando este combo podrías incrementar la cantidad de resultados"
   ]
  }
 ],
 "metadata": {
  "kernelspec": {
   "display_name": "Python 3",
   "language": "python",
   "name": "python3"
  },
  "language_info": {
   "codemirror_mode": {
    "name": "ipython",
    "version": 3
   },
   "file_extension": ".py",
   "mimetype": "text/x-python",
   "name": "python",
   "nbconvert_exporter": "python",
   "pygments_lexer": "ipython3",
   "version": "3.6.1"
  }
 },
 "nbformat": 4,
 "nbformat_minor": 2
}
