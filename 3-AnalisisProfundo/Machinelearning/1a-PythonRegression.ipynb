{
 "cells": [
  {
   "cell_type": "markdown",
   "metadata": {},
   "source": [
    "### Regression using numpy (with pandas and pyplot)"
   ]
  },
  {
   "cell_type": "code",
   "execution_count": null,
   "metadata": {
    "collapsed": false
   },
   "outputs": [],
   "source": [
    "import csv\n",
    "import pandas as pd\n",
    "import numpy as np\n",
    "import matplotlib.pyplot as plt\n",
    "%matplotlib inline"
   ]
  },
  {
   "cell_type": "code",
   "execution_count": null,
   "metadata": {
    "collapsed": true
   },
   "outputs": [],
   "source": [
    "# For compatibility across multiple platforms\n",
    "import os\n",
    "IB = os.environ.get('INSTABASE_URI',None) is not None\n",
    "open = ib.open if IB else open"
   ]
  },
  {
   "cell_type": "code",
   "execution_count": null,
   "metadata": {
    "collapsed": false
   },
   "outputs": [],
   "source": [
    "# Read Cities.csv into dataframe\n",
    "f = open('Cities.csv','rU')\n",
    "cities = pd.read_csv(f)"
   ]
  },
  {
   "cell_type": "code",
   "execution_count": null,
   "metadata": {
    "collapsed": false
   },
   "outputs": [],
   "source": [
    "# Introduction to plotting a line\n",
    "plt.plot([1,3], [2,7], color='green')\n",
    "plt.show()"
   ]
  },
  {
   "cell_type": "code",
   "execution_count": null,
   "metadata": {
    "collapsed": false
   },
   "outputs": [],
   "source": [
    "# Recall latitude versus temperature scatterplot\n",
    "cities.plot.scatter(x='latitude', y='temperature')\n",
    "plt.show()"
   ]
  },
  {
   "cell_type": "code",
   "execution_count": null,
   "metadata": {
    "collapsed": false
   },
   "outputs": [],
   "source": [
    "# Add linear regression\n",
    "cities.plot.scatter(x='latitude', y='temperature')\n",
    "a,b = np.polyfit(cities.latitude, cities.temperature, 1) # Regression line is y = ax + b\n",
    "x1 = min(cities.latitude)\n",
    "x2 = max(cities.latitude)\n",
    "plt.plot([x1,x2], [a*x1 + b, a*x2 + b], color='red')\n",
    "plt.show()\n",
    "# Beautify using plt.xlim(x1,x2)"
   ]
  },
  {
   "cell_type": "code",
   "execution_count": null,
   "metadata": {
    "collapsed": false
   },
   "outputs": [],
   "source": [
    "# Correlation coefficients (r values)\n",
    "cc = np.corrcoef(cities.latitude, cities.temperature)[1,0]\n",
    "print 'Correlation coefficient for latitude versus temperature:', cc\n",
    "cc = np.corrcoef(cities.longitude, cities.temperature)[1,0]\n",
    "print 'Correlation coefficient for longitude versus temperature:', cc"
   ]
  },
  {
   "cell_type": "code",
   "execution_count": null,
   "metadata": {
    "collapsed": false
   },
   "outputs": [],
   "source": [
    "# Use linear regression for interactive temperature predictor\n",
    "# Training data: compute latitude-temperature regression from cities\n",
    "# in Norway, France, and Turkey\n",
    "train = cities[(cities.country=='Norway') | (cities.country=='France') | (cities.country=='Turkey')]\n",
    "# Compute and show regression\n",
    "plt.scatter(train.latitude, train.temperature)\n",
    "a,b = np.polyfit(train.latitude, train.temperature, 1)\n",
    "x1 = min(train.latitude)\n",
    "x2 = max(train.latitude)\n",
    "plt.plot([x1,x2], [a*x1 + b, a*x2 + b], color='red')\n",
    "plt.xlim(x1,x2)\n",
    "plt.show()\n",
    "# Loop asking user for city name, compute predicted + actual temperature\n",
    "while True:\n",
    "    name = raw_input('Enter city name (or \"quit\" to quit): ')\n",
    "    if name == 'quit': break\n",
    "    city = cities[cities.city == name]\n",
    "    if len(city) == 0:\n",
    "        print 'City not in dataset'\n",
    "    else:\n",
    "        # Use float() to convert dataframe element to value\n",
    "        print 'Predicted temperature:', a * float(city.latitude) + b\n",
    "        print 'Actual temperature:', float(city.temperature)"
   ]
  },
  {
   "cell_type": "markdown",
   "metadata": {
    "collapsed": true
   },
   "source": [
    "### <font color=\"green\">Your Turn: World Cup Data</font>"
   ]
  },
  {
   "cell_type": "code",
   "execution_count": null,
   "metadata": {
    "collapsed": false
   },
   "outputs": [],
   "source": [
    "# Read Players.csv into dataframe\n",
    "f = open('Players.csv','rU')\n",
    "players = pd.read_csv(f)"
   ]
  },
  {
   "cell_type": "code",
   "execution_count": null,
   "metadata": {
    "collapsed": false
   },
   "outputs": [],
   "source": [
    "# From the players data, compute and plot a linear regression for\n",
    "# minutes played (x-axis) versus passes made (y-axis).\n",
    "# Reminder: copy-paste-modify approach to programming!"
   ]
  },
  {
   "cell_type": "code",
   "execution_count": null,
   "metadata": {
    "collapsed": false
   },
   "outputs": [],
   "source": [
    "# Show the correlation coefficient for the minutes-passes regression.\n",
    "# Also show correlation coefficients for minutes played versus\n",
    "# tackles, minutes played versus shots, and minutes played versus saves"
   ]
  },
  {
   "cell_type": "code",
   "execution_count": null,
   "metadata": {
    "collapsed": false
   },
   "outputs": [],
   "source": [
    "# Use linear regression for interactive number-of-passes predictor\n",
    "# Training data: compute minutes-passes regression for players from\n",
    "# Greece, USA, and Portugal"
   ]
  },
  {
   "cell_type": "code",
   "execution_count": null,
   "metadata": {
    "collapsed": false
   },
   "outputs": [],
   "source": [
    "# SUPER BONUS!!\n",
    "# Repeat previous but use separate predictor for the four different positions\n",
    "# (goalkeeper,defender,midfielder,forward). Does it do better?\n",
    "# Try comparing correlation coefficients against one regression for all players.\n",
    "#\n",
    "# Note: To extract a string value from a dataframe element use df.iloc[0].element,\n",
    "# e.g., if \"player\" is a one-row dataframe, then player.iloc[0].position returns\n",
    "# the player's position as a string"
   ]
  }
 ],
 "metadata": {
  "kernelspec": {
   "display_name": "Python 2",
   "language": "python",
   "name": "python2"
  },
  "language_info": {
   "codemirror_mode": {
    "name": "ipython",
    "version": 2
   },
   "file_extension": ".py",
   "mimetype": "text/x-python",
   "name": "python",
   "nbconvert_exporter": "python",
   "pygments_lexer": "ipython2",
   "version": "2.7.12"
  }
 },
 "nbformat": 4,
 "nbformat_minor": 0
}
