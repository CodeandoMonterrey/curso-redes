{
 "cells": [
  {
   "cell_type": "markdown",
   "metadata": {},
   "source": [
    "# Google alerts"
   ]
  },
  {
   "cell_type": "markdown",
   "metadata": {},
   "source": [
    "Google alerts es relativamente práctico para saber lo que está pasando con medios más lentos: Como Las noticias, periodicos, blogs. Entre otros."
   ]
  },
  {
   "cell_type": "markdown",
   "metadata": {},
   "source": [
    "# La extensión solo funciona en Python 2, mostrar si se puede. Acá las instrucciones:\n",
    "https://pypi.python.org/pypi/galerts"
   ]
  },
  {
   "cell_type": "markdown",
   "metadata": {},
   "source": [
    "Pero básicamente es un scrapper que va a google alerts. Maquetar un poco de como funcionaría extraer esa data."
   ]
  },
  {
   "cell_type": "markdown",
   "metadata": {},
   "source": [
    "Además sin tener que scrappear, podemos aprovechar los RSS de estas alerts (y de cualquier otra cosa) lléndonos por Google bing buscando periódicos y sus RSS"
   ]
  },
  {
   "cell_type": "markdown",
   "metadata": {
    "collapsed": true
   },
   "source": [
    "Ahora, siempre uno puede montar su propio google alerts:"
   ]
  },
  {
   "cell_type": "markdown",
   "metadata": {},
   "source": [
    "https://lexoj.wordpress.com/2013/11/05/build-your-own-google-alerts-substitute-python/"
   ]
  }
 ],
 "metadata": {
  "kernelspec": {
   "display_name": "IPython (Python 2)",
   "language": "python",
   "name": "python2"
  },
  "language_info": {
   "codemirror_mode": {
    "name": "ipython",
    "version": 3
   },
   "file_extension": ".py",
   "mimetype": "text/x-python",
   "name": "python",
   "nbconvert_exporter": "python",
   "pygments_lexer": "ipython3",
   "version": "3.6.1"
  }
 },
 "nbformat": 4,
 "nbformat_minor": 2
}
